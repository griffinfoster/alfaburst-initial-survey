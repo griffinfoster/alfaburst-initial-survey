{
 "cells": [
  {
   "cell_type": "markdown",
   "metadata": {},
   "source": [
    "## RFI Label Examples"
   ]
  },
  {
   "cell_type": "markdown",
   "metadata": {},
   "source": [
    "### 1: Unclipped RFI/Noise\n",
    "\n",
    "This is fairly rare, but occasionally there is low-level RFI which can add with dedispersion to be a detection.\n",
    "\n",
    "![title](examples/Beam1_fb_D20170324T000404.buffer4.d16.png)"
   ]
  },
  {
   "cell_type": "markdown",
   "metadata": {
    "collapsed": true
   },
   "source": [
    "### 2: Wide-band, long-duration in time clipped RFI (2016+)\n",
    "\n",
    "Long-in-Time spectra replacement produces high-DM events. Can be detected by computing the 0-DM derivative and counting the number of 0 values, and finding the length of the longest constant value run in a 0-DM time series.\n",
    "\n",
    "![title](examples/Beam6_fb_D20160212T070604.buffer2.d64.png)\n",
    "\n",
    "![title](examples/Beam6_fb_D20160212T070604.buffer3.d64.png)"
   ]
  },
  {
   "cell_type": "markdown",
   "metadata": {},
   "source": [
    "### 3: Wide-band, short-duration in time clipped RFI (2016+)\n",
    "\n",
    "This is the same flagging as in labe 2 (above) but on shorter time-scales.\n",
    "\n",
    "![title](examples/Beam0_fb_D20161119T002404.buffer23.d16.png)"
   ]
  },
  {
   "cell_type": "markdown",
   "metadata": {},
   "source": [
    "### 4: Wide-band, short duration clipped RFI (2015)\n",
    "\n",
    "Spectra replacement resulting in significant difference between the max/min of the replaced spectra from the actual spectra. This appears as a significant divergence of the mean from the median.\n",
    "\n",
    "![title](examples/Beam3_fb_D20151214T040203.buffer84.d4.png)"
   ]
  },
  {
   "cell_type": "markdown",
   "metadata": {},
   "source": [
    "### 5: Sharp bandpass transition\n",
    "\n",
    "A sudden change in the bandpass shape. I am not sure what was going on with the RFI clipper.\n",
    "\n",
    "![title](examples/Beam4_fb_D20160125T070809.buffer5.d64.png)"
   ]
  },
  {
   "cell_type": "markdown",
   "metadata": {},
   "source": [
    "### 6: Wide-band, bursty clipped RFI (2015)\n",
    "\n",
    "In 2015 there is are a number of events (I assume related to RFI clipper development) where a significant fraction of the 0-DM time series is 0. At high DM event detection this appears as gains fluctuations. Note the figures belwo look different, but in fact they are very much similar windows, one is just highly dedispersed.\n",
    "\n",
    "![title](examples/Beam0_fb_D20151214T224003.buffer116.d2.png)\n",
    "\n",
    "![title](examples/Beam0_fb_D20151214T224003.buffer115.d64.png)"
   ]
  },
  {
   "cell_type": "markdown",
   "metadata": {},
   "source": [
    "### 7: Error in spectra captue or replacement\n",
    "\n",
    "Everyonce in a while the filterbank writer fails to correctly write data to disk. I think this is related to run-time issues.\n",
    "\n",
    "![title](examples/Beam0_fb_D20151214T224003.buffer118.d64.png)"
   ]
  },
  {
   "cell_type": "markdown",
   "metadata": {},
   "source": [
    "### 8: Systematic int/float overflow\n",
    "\n",
    "Sometime the spectra have massive positive and negative values (e.g. 1e36, -1e36). Not sure what is going on, likely digital easy to detect by counting the number of values above some absolute valued threshold. Note the scale below on the time series.\n",
    "\n",
    "![title](examples/Beam6_fb_D20160212T190304.buffer99.d64.png)"
   ]
  }
 ],
 "metadata": {
  "kernelspec": {
   "display_name": "Python 2",
   "language": "python",
   "name": "python2"
  },
  "language_info": {
   "codemirror_mode": {
    "name": "ipython",
    "version": 2
   },
   "file_extension": ".py",
   "mimetype": "text/x-python",
   "name": "python",
   "nbconvert_exporter": "python",
   "pygments_lexer": "ipython2",
   "version": "2.7.12"
  }
 },
 "nbformat": 4,
 "nbformat_minor": 2
}
