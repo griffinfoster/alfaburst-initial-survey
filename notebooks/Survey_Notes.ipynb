{
 "cells": [
  {
   "cell_type": "code",
   "execution_count": 1,
   "metadata": {
    "collapsed": false,
    "deletable": true,
    "editable": true
   },
   "outputs": [],
   "source": [
    "import numpy as np\n",
    "import matplotlib.pyplot as plt\n",
    "import datetime\n",
    "\n",
    "%matplotlib inline"
   ]
  },
  {
   "cell_type": "markdown",
   "metadata": {
    "deletable": true,
    "editable": true
   },
   "source": [
    "# ALFABURST Survey Notes"
   ]
  },
  {
   "cell_type": "markdown",
   "metadata": {
    "deletable": true,
    "editable": true
   },
   "source": [
    "### History\n",
    "\n",
    "* 2017.06.07: end point for initial survey results\n",
    "* 2017.05.05: increased the clipping threshold to accomodate bright pulses\n",
    "* 2017.03: reverted to old RFI clipper. New clipper producing spurious results\n",
    "* 2017.01.24: updated RFI clipper to new method which learns the bandpass, and writes out learned bandpass.\n",
    "* 2016.12.11: updated RFI clipper to new statistical clipping methods. seems to have a memory leak/running slower than realtime. observations during this time were not successful."
   ]
  },
  {
   "cell_type": "markdown",
   "metadata": {
    "deletable": true,
    "editable": true
   },
   "source": [
    "### Logging\n",
    "\n",
    "* Are there logs/diagnostics proving ALFABURST was actually observing when the logs say it was?\n",
    "    * cognizeALFA.log is the UPPERLIMIT on the total observing time, this does not account for nodes being down. But, it seems as if abc0, abc1, and abc3 have been consistently up. abc2 has been down most of the time during observation.\n",
    "    * the LOWERLIMIT on observing time is computed by summing up the time difference between the start time in a dat file and the last recorded event buffer. See alfaburst-surveyScripts/surveyTimeLower.py\n",
    "    * The cognize ALFA log does not account for when a compute node fails. This is logged on each node as frb_abcX.log\n",
    "\n",
    "* Are there intermediate diagnostic outputs? e.g. integrated spectra before the single pulse search?\n",
    "    * no, this should be included in the new pipeline"
   ]
  },
  {
   "cell_type": "markdown",
   "metadata": {
    "deletable": true,
    "editable": true
   },
   "source": [
    "### Observing Time Upper Limit\n",
    "\n",
    "* How long have we observed with ALFABURST?\n",
    "    * based on parseCognizeALFALog.py (from 2015-08-17 to 2017-06-07): 58 days, 8:46:00 (5042760.00 seconds)\n",
    "    * What about the relibaility of the abcX nodes?\n",
    "        * abc2 is the most flaky\n",
    "        * previous to April 2017 the compute node pipeline scripts did not restart processes if they failed, so often observations would be lost. The compute node script now restarts any processes that die, this should lead to near 100% uptime when ALFA is active.\n",
    "* What does the survey sky coverage look like? How much time has been out of the galactic plan?\n",
    "    * `./plotSuveryCoverage.py ../data/cognize.pkl --gal_cut=10 --max=200`\n",
    "        * Total observation time: 5042760 seconds\n",
    "        * Galaxy Cut Observation time: 2808480 seconds"
   ]
  },
  {
   "cell_type": "code",
   "execution_count": 2,
   "metadata": {
    "collapsed": false,
    "deletable": true,
    "editable": true,
    "scrolled": true
   },
   "outputs": [
    {
     "name": "stdout",
     "output_type": "stream",
     "text": [
      "Total Obs Time: 58 days, 8:46:00 1400.766667 hours\n",
      "Out of Plane Obs Time: 32 days, 12:08:00\n",
      "Precent out of plane: 55.693310806\n"
     ]
    }
   ],
   "source": [
    "obsTime = 5042760. #seconds\n",
    "outOfPlaneObsTime = 2808480. #seconds\n",
    "\n",
    "print 'Total Obs Time:', str(datetime.timedelta(seconds=obsTime)), '%f hours'%(obsTime/3600.)\n",
    "print 'Out of Plane Obs Time:', str(datetime.timedelta(seconds=outOfPlaneObsTime))\n",
    "print 'Precent out of plane:', (outOfPlaneObsTime / obsTime) * 100."
   ]
  },
  {
   "cell_type": "markdown",
   "metadata": {
    "deletable": true,
    "editable": true
   },
   "source": [
    "### Observing Time Lower Limit\n",
    "\n",
    "The LOWERLIMIT on observing time is computed by summing up the time difference between the start time in a dat file and the last recorded event buffer.\n",
    "\n",
    "* July 2015 - Dec 2016: abc3:~/Survey/Scripts/surveyTimeLower.py processed/Beam0_dm_D*\n",
    "* Jan 2017 - May 2017: abc3:~/Survey/Scripts/surveyTimeLower.py input/Beam0_dm_D*\n",
    "\n",
    "* Beam 0:\n",
    "    * July 2015 - Dec 2016: 1261077.891968 s (350.299414 hours)\n",
    "    * Jan 2017 - May 2017: 212934.346905 s (59.148430 hours)\n",
    "\n",
    "* Beam 1:\n",
    "    * July 2015 - Dec 2016: 857322.754677 s (238.145210 hours)\n",
    "    * Jan 2017 - May 2017: 156960.959905 s (43.600267 hours)\n",
    "\n",
    "* Beam 2:\n",
    "    * July 2015 - Dec 2016: 1444512.587052 s (401.253496 hours)\n",
    "    * Jan 2017 - May 2017: 193889.454858 s (53.858182 hours)\n",
    "\n",
    "* Beam 3:\n",
    "    * July 2015 - Dec 2016: 997241.760223 s (277.011600 hours)\n",
    "    * Jan 2017 - May 2017: 107952.010906 s (29.986670 hours)\n",
    "\n",
    "* Beam 4:\n",
    "    * July 2015 - Dec 2016: 471593.221508 s (130.998117 hours)\n",
    "    * Jan 2017 - May 2017: 262572.440819 s (72.936789 hours)\n",
    "\n",
    "* Beam 5:\n",
    "    * July 2015 - Dec 2016: 308866.180089 s (85.796161 hours)\n",
    "    * Jan 2017 - May 2017: 270820.754567 s (75.227987 hours)\n",
    "\n",
    "* Beam 6:\n",
    "    * July 2015 - Dec 2016: 1349927.929134 s (374.979980 hours)\n",
    "    * Jan 2017 - May 2017: 223508.407003 s (62.085669 hours)"
   ]
  },
  {
   "cell_type": "code",
   "execution_count": 3,
   "metadata": {
    "collapsed": false,
    "deletable": true,
    "editable": true
   },
   "outputs": [
    {
     "name": "stdout",
     "output_type": "stream",
     "text": [
      "Observing Time Lower Limit:\n",
      "  Beam0: 1474011 s (409.447500 hours)\n",
      "  Beam1: 1014282 s (281.745000 hours)\n",
      "  Beam2: 1638401 s (455.111389 hours)\n",
      "  Beam3: 1105193 s (306.998056 hours)\n",
      "  Beam4: 734165 s (203.934722 hours)\n",
      "  Beam5: 579686 s (161.023889 hours)\n",
      "  Beam6: 1573435 s (437.065278 hours)\n",
      "Mean observing time: 322.189405 hours (Precent of total Obs time: 23.0%)\n"
     ]
    }
   ],
   "source": [
    "llObsTime = [1261077 + 212934,\n",
    "             857322 + 156960,\n",
    "             1444512 + 193889,\n",
    "             997241 + 107952,\n",
    "             471593 + 262572,\n",
    "             308866 + 270820,\n",
    "             1349927 + 223508]\n",
    "llObsTime = np.array(llObsTime)\n",
    "\n",
    "print 'Observing Time Lower Limit:'\n",
    "for bid,val in enumerate(llObsTime):\n",
    "    print '  Beam%i: %i s (%f hours)'%(bid, val, val/3600.)\n",
    "print 'Mean observing time: %f hours'%(llObsTime.mean() / 3600.),\n",
    "print '(Precent of total Obs time: %.1f%%)'%(100. * llObsTime.mean() / obsTime)"
   ]
  },
  {
   "cell_type": "markdown",
   "metadata": {
    "deletable": true,
    "editable": true
   },
   "source": [
    "### Survey Coverage\n",
    "\n",
    "* How much sky have been covered based on the observation time and beam size (for a single pixel, and for the total ALFA beam)? The typical FRB survey rates are quoted in as telescope independent metric of number of square-degree hours.\n",
    "\n",
    "A single ALFA pixel is approximately 3.8' x 3.3' wide at FWHM ([REF](http://www.naic.edu/~astro/RXstatus/)). Using this we can compute the upper and lower limit survey coverage."
   ]
  },
  {
   "cell_type": "code",
   "execution_count": 4,
   "metadata": {
    "collapsed": false,
    "deletable": true,
    "editable": true
   },
   "outputs": [
    {
     "name": "stdout",
     "output_type": "stream",
     "text": [
      "ALFA beam size (using FWHM of 3.8' x 3.3'):\n",
      "  Single beam: 0.002736 sq. degrees\n",
      "  All beams: 0.019151 sq. degrees\n",
      "Sky Coverage using all 7 beams:\n",
      "  Upper Limit: 26.825557 sq. degree hours\n",
      "  Lower Limit: 6.170129 sq. degree hours\n"
     ]
    }
   ],
   "source": [
    "pixelFWHMarea = np.pi * (3.8 / (60. * 2.)) * (3.3 / (60. * 2.)) # pi * r^2, r = (FWHM/2) in degrees\n",
    "alfaFWHMarea = 7. * pixelFWHMarea\n",
    "\n",
    "print 'ALFA beam size (using FWHM of 3.8\\' x 3.3\\'):'\n",
    "print '  Single beam: %f sq. degrees'%pixelFWHMarea\n",
    "print '  All beams: %f sq. degrees'%alfaFWHMarea\n",
    "\n",
    "print 'Sky Coverage using all 7 beams:'\n",
    "print '  Upper Limit: %f sq. degree hours'%(alfaFWHMarea * (obsTime/3600.))\n",
    "print '  Lower Limit: %f sq. degree hours'%(np.sum((llObsTime/3600.) * pixelFWHMarea))"
   ]
  },
  {
   "cell_type": "markdown",
   "metadata": {
    "deletable": true,
    "editable": true
   },
   "source": [
    "#### Plotting the Survey Coverage\n",
    "\n",
    "`./plotSuveryCoverage.py ../data/cognize.pkl --gal_cut=10 --max=200 --sampling --NSIDE=256`\n",
    "\n",
    "Gridding onto a HEALPIX map (NSIDE=256) results in 11401 unique pointings. From (https://lambda.gsfc.nasa.gov/toolbox/tb_pixelcoords.cfm) NSIDE=256 results in 786432 pixels, mean spacing of 0.2290 degrees, which is an area of 1.5978967 x 10^-5 steradian. This is approximately the size of the full ALFA FWHM."
   ]
  },
  {
   "cell_type": "markdown",
   "metadata": {
    "deletable": true,
    "editable": true
   },
   "source": [
    "### Sensitivity\n",
    "\n",
    "* What is the ALFA system temperature? Observing frequency? What is the sensitivity?\n",
    "    * ALFABURST is 56 MHz centred (usually) at 1375 MHz (Chennamangalam 2017)\n",
    "    * 'ALFA is a seven-beam system that operates in the 1225–1525 MHz range, with the seven beams arranged in a hexagonal pattern. Each beam is approximately 3.5' wide. The receiver has a cold sky system temperature of ~30 K. The central beam has a gain of ~11 K/Jy , with the peripheral beams having a slightly lower gain. Some of the sidelobes of the ALFA beams are sensitive as well, with the peak of these sidelobes having a loss of only −8.5 dB, i.e., the gain at the sidelobe peak is only 1/7th of that at boresight of the central beam.' (Chennamangalam 2017)\n",
    "    * Gain, Tsys, SEFD (http://www.naic.edu/alfa/performance/spectral-scans/wide/ , http://www.naic.edu/alfa/performance/)\n",
    "    \n",
    "From http://www.naic.edu/alfa/performance/spectral-scans/wide/:\n",
    "\n",
    "* Central Beam (ID: 0):\n",
    "    * Gain: 10-12 K/Jy\n",
    "    * T_sys: 30 K\n",
    "    * SEFD: 3 Jy\n",
    "* Side Beam (ID: 1-6):\n",
    "    * Gain: 9 K/Jy\n",
    "    * T_sys: 30 K\n",
    "    * SEFD: 4 Jy\n",
    "\n",
    "* What is the efficiency of Arecibo?\n",
    "    * wrapped into the SEFD measurements\n",
    "    \n",
    "See [FRB_Event_Rate.ipynb](FRB_Event_Rate.ipynb) for details on the ALFABURST sensitivity to pulses."
   ]
  },
  {
   "cell_type": "markdown",
   "metadata": {
    "deletable": true,
    "editable": true
   },
   "source": [
    "### Dispersion Search Space\n",
    "\n",
    "* ALFABURST search specs:\n",
    "    * processes 56 MHz (1/8 of the band), 512 channel spectra every 256 microseconds, Stokes I only\n",
    "    * astroaccelerate dedispersion: 32768 spectra (8.4 seconds) buffers\n",
    "\n",
    "* We search a maximum DM of 10000, are we saving a large enough buffer if a 10000 DM FRB is detected? yes, just enough for the full band\n",
    "    * kramer and lorimer eq 5.1 delta t ~ 4.15 * 10^6 ms * (f_ref^-2 - f_chan^-2) * DM, f_ref and f_chan in MHz\n",
    "    * band: 300 MHz centered at 1375 MHz\n",
    "    * DM_max = 10000\n",
    "    * 56 MHz: 1375 - 28 = 1347, 1375 + 28 = 1403 ; delta t = 4.15 * 10^6 m * ( 1347^-2 - 1403^-2) * 10000 = 1789 ms = 1.789 s\n",
    "    * 280 MHz: 1375 - 140 = 1235, 1375 + 140 = 1515 ; delta t = 4.15 * 10^6 m * ( 1235^-2 - 1515^-2) * 10000 = 9128 ms = 9.128 s"
   ]
  },
  {
   "cell_type": "code",
   "execution_count": 5,
   "metadata": {
    "collapsed": false,
    "deletable": true,
    "editable": true
   },
   "outputs": [],
   "source": [
    "def timeBufferSize(f_start, f_stop, maxdm):\n",
    "    \"\"\"Kramer and Lorimer e.q. 5.1\n",
    "    f_start, f_stop: start (low) and stop (high) frequency, in MHz\n",
    "    maxdm: maximum search DM\n",
    "    returns: delay (ms) between start and stop frequency given a maximum DM\"\"\"\n",
    "    bw = f_stop - f_start\n",
    "    deltat = 4.15 * (10.**6) * (f_start**(-2.) - f_stop**(-2.)) * maxdm\n",
    "    return deltat"
   ]
  },
  {
   "cell_type": "code",
   "execution_count": 6,
   "metadata": {
    "collapsed": false,
    "deletable": true,
    "editable": true,
    "scrolled": true
   },
   "outputs": [
    {
     "name": "stdout",
     "output_type": "stream",
     "text": [
      "L-band, 56 MHz (1/8th of band): 1420.35077786 ms\n",
      "L-band, 280 MHz: 9168.59209608 ms\n"
     ]
    }
   ],
   "source": [
    "print 'L-band, 56 MHz (1/8th of band):', timeBufferSize(1457., 1513., 10000), 'ms'\n",
    "print 'L-band, 280 MHz:', timeBufferSize(1233., 1513., 10000), 'ms'"
   ]
  },
  {
   "cell_type": "markdown",
   "metadata": {
    "deletable": true,
    "editable": true
   },
   "source": [
    "### Predicted Event Rates\n",
    "\n",
    "See [FRB_Event_Rate.ipynb](FRB_Event_Rate.ipynb) for details on the predicted event rate."
   ]
  }
 ],
 "metadata": {
  "kernelspec": {
   "display_name": "Python 2",
   "language": "python",
   "name": "python2"
  },
  "language_info": {
   "codemirror_mode": {
    "name": "ipython",
    "version": 2
   },
   "file_extension": ".py",
   "mimetype": "text/x-python",
   "name": "python",
   "nbconvert_exporter": "python",
   "pygments_lexer": "ipython2",
   "version": "2.7.12"
  }
 },
 "nbformat": 4,
 "nbformat_minor": 2
}
