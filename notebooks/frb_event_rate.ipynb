{
 "cells": [
  {
   "cell_type": "markdown",
   "metadata": {
    "deletable": true,
    "editable": true
   },
   "source": [
    "### FRB Event Rate\n",
    "\n",
    "Calculate the expected FRB event rate for thew ALFABURST survey based on Lorimer et al. 2013\n",
    "\n",
    "**Assumptions**\n",
    "\n",
    "1. Pulse width is approximately 1 ms\n",
    "2. FRB is a standard candles\n",
    "3. Thornton et al. 2013 correctly relates flux density to redshift"
   ]
  },
  {
   "cell_type": "markdown",
   "metadata": {
    "deletable": true,
    "editable": true
   },
   "source": [
    "From Champion et al. 2016:\n",
    "\n",
    "a rate of $7^{+5}_{−3} \\times 10^3$ (95 per cent confidence interval) FRBs $\\textrm{sky}^{−1} \\textrm{d}^{−1}$ above a fluence of 0.13 Jy ms for an FRB of 0.128 ms duration to 1.5 Jy ms for 16 ms duration. ... This is consistent with those previously reported in Thornton et al. (2013), Spitler et al. (2014), and Rane et al. (2016) within the quoted uncertainties. It should be noted that this rate is specific to the observing setup described in this Letter as this setup is not fluence-complete to the same level as other surveys, thus it is only directly comparable to Thornton et al. (2013).\n",
    "\n",
    "Fluence in units [Jy ms] and is defined as:\n",
    "\n",
    "$$F_{obs} = S_{peak, obs} \\cdot W_{obs}$$\n",
    "\n",
    "Catalogue of published FRBs: https://www.astronomy.swin.edu.au/pulsar/frbcat/"
   ]
  },
  {
   "cell_type": "code",
   "execution_count": 27,
   "metadata": {
    "collapsed": true,
    "deletable": true,
    "editable": true
   },
   "outputs": [],
   "source": [
    "import numpy as np\n",
    "import matplotlib.pyplot as plt\n",
    "import scipy.integrate\n",
    "from matplotlib import rc\n",
    "import pandas as pd\n",
    "\n",
    "%matplotlib inline\n",
    "rc('text', usetex=True)\n",
    "plt.rcParams['figure.figsize'] = (8, 6)"
   ]
  },
  {
   "cell_type": "markdown",
   "metadata": {
    "deletable": true,
    "editable": true
   },
   "source": [
    "Equation 6 of Karastergiou et al. 2015 is derived from the radiometer equation:\n",
    "\n",
    "$$\n",
    "S_{min} = \\textrm{SEFD} \\frac{\\textrm{SNR}_{min}}{\\sqrt{D \\; \\Delta \\tau \\; \\Delta \\nu}}\n",
    "$$\n",
    "\n",
    "where $S_{min}$ is the minimum flux density (in Jy) detection rate. This is based on the telescope SEFD, the minimum SNR detection level $\\textrm{SNR}_{min}$ and the decimation rate $D$ compared to the native instrumental time resolution $\\tau$, this comes from the search pipeline which averages together spectra to search for scattered pulses. ALFABURST has a native resolution of $\\Delta \\tau = 256 \\; \\mu s$, effective bandwidth $\\Delta \\nu = 56 \\textrm{MHz}$, and $\\textrm{SNR}_{min} = 10$.\n",
    "\n",
    "For reference see:\n",
    "* https://www.cv.nrao.edu/course/astr534/Radiometers.html\n",
    "* http://www.naic.edu/alfa/performance/\n",
    "* https://casper.berkeley.edu/astrobaki/index.php/Radiometer_Equation_Applied_to_Telescopes\n",
    "* https://science.nrao.edu/facilities/vla/docs/manuals/oss/performance/sensitivity"
   ]
  },
  {
   "cell_type": "code",
   "execution_count": 28,
   "metadata": {
    "collapsed": false,
    "deletable": true,
    "editable": true
   },
   "outputs": [],
   "source": [
    "# Parameters\n",
    "SEFD = 3. # Jy, SEFD of ALFA (main beam)\n",
    "threshold = 10. # SNR threshold of detection pipeline\n",
    "pulseWidth = np.array([1., 2., 4., 8., 16., 32., 64.]) * 1000. # us, expected pulse width\n",
    "tRes = 256. # us, ALFABURST spectra time resolution\n",
    "dFactor = pulseWidth / tRes# decimation factor\n",
    "bw = 56. * 1e6 # ALFABURST effective bandwidth in Hz\n",
    "sMin = SEFD * (threshold / np.sqrt(dFactor * (tRes * 1e-6) * bw)) # Minimum flux density detection, based on radiometer equation\n",
    "\n",
    "fObsMin = 1347e6 # ALFABURST 56 MHz bandwidth system min frequency\n",
    "fObsMax = 1403e6 # ALFABURST 56 MHz bandwidth system max frequency\n",
    "\n",
    "alphas = [-2., -1.4, -0.7, -0.1, 0.1, 0.7] # spectral indicies to model\n",
    "zMin = 0.01\n",
    "#zMax = 4.0\n",
    "#zMax = 7.997 # minimum z based on pointing and NE2001 from frb_search_volume.ipynb\n",
    "zMax = 2.5"
   ]
  },
  {
   "cell_type": "code",
   "execution_count": 29,
   "metadata": {
    "collapsed": false,
    "deletable": true,
    "editable": true
   },
   "outputs": [
    {
     "name": "stdout",
     "output_type": "stream",
     "text": [
      "The minimum flux density detection for a given pulse width is:\n",
      "\t 126.8 mJy for a pulse width of 1 ms\n",
      "\t 89.6 mJy for a pulse width of 2 ms\n",
      "\t 63.4 mJy for a pulse width of 4 ms\n",
      "\t 44.8 mJy for a pulse width of 8 ms\n",
      "\t 31.7 mJy for a pulse width of 16 ms\n",
      "\t 22.4 mJy for a pulse width of 32 ms\n",
      "\t 15.8 mJy for a pulse width of 64 ms\n"
     ]
    }
   ],
   "source": [
    "print 'The minimum flux density detection for a given pulse width is:'\n",
    "for sMinVal, pwVal in zip(sMin, pulseWidth):\n",
    "    print '\\t %.1f mJy for a pulse width of %.0f ms'%(sMinVal*1000., pwVal/1000.)"
   ]
  },
  {
   "cell_type": "code",
   "execution_count": 31,
   "metadata": {
    "collapsed": false,
    "deletable": true,
    "editable": true
   },
   "outputs": [],
   "source": [
    "def coMovingDist(z):\n",
    "    \"\"\"Co-moving distance in Gpc, Eq. 3 from Lorimer et al. 2013\n",
    "    z: float, redshift\n",
    "    \"\"\"\n",
    "    c = 299792.458 # km s^-1\n",
    "    H0 = 68. # km s^-1 Mpc^-1\n",
    "    OmegaM = 0.32\n",
    "    OmegaLambda = 0.68\n",
    "    \n",
    "    integrand = lambda zp: 1. / np.sqrt(OmegaM * ((1. + zp)**3.) + OmegaLambda)\n",
    "    dd, err = scipy.integrate.quad(integrand, 0., z)\n",
    "    return ((c/H0) * dd) * 1e-3\n",
    "\n",
    "def coMovingVol(z):\n",
    "    \"\"\"Co-moving volume in Gpc^3\n",
    "    z: float, redshift\"\"\"\n",
    "    return (4./3.)*(coMovingDist(z)**3.)\n",
    "\n",
    "def calcLModel(sPeakRef=1., alphaRef=-1.4, zRef=0.75, fLumMin=1e7, fLumMax=1e10, fObsMin=1182e6, fObsMax=1582e6):\n",
    "    \"\"\"Calculate the standard candle FRB bolometric luminosity based on Thornton et al. 2013 model, this is used\n",
    "    to calibrate the flux-redshift relationship\n",
    "    sPeakRef: float, Jy, peak flux density, Thornton et al.: 1.\n",
    "    alphaRef: float, spectal index, Thornton et al.: -1.4\n",
    "    zRef: float, redshift, Thornton et al.: 0.75\n",
    "    fLumMin: float, Hz, minimum frequency over which the source emits, Lorimer et al.: 1e7\n",
    "    fLumMax: float, Hz, maximum frequency over which the source emits, Lorimer et al.: 1e10\n",
    "    fObsMin: float, Hz, minimum observing frequency, Thornton et al.: 1186 MHz\n",
    "    fObsMax: float, Hz, maximum observing frequency, Thornton et al.: 1582 MHz\"\"\"\n",
    "    sPeakRefErgs = sPeakRef * 1e-19 # unit: erg s^-1 ; 1 Jy = 10^-26 W = 10^-19 erg s^-1\n",
    "    \n",
    "    dd = coMovingDist(zRef) * 3.086e25 # Convert from Gpc to m\n",
    "\n",
    "    LL = ((fObsMax-fObsMin)/((fObsMax**(alphaRef+1.))-(fObsMin**(alphaRef+1.)))) * sPeakRefErgs \\\n",
    "            * 4. * np.pi * (dd**2.) \\\n",
    "            * (((fLumMax**(alphaRef+1.))-(fLumMin**(alphaRef+1.)))/((1.+zRef)**(alphaRef-1.)))\n",
    "    return LL\n",
    "\n",
    "def calcSpeak(LModel, z, alpha, fObsMin, fObsMax, fLumMin=1e7, fLumMax=1e10):\n",
    "    \"\"\"Calculate the peak flux density, Lorimer et al. 2013 eq. 9\n",
    "    LModel: float, ergs s^-1, bolometric luminosity model output of calcLModel()\n",
    "    z: float, redshift of source\n",
    "    alpha: float, spectral index of FRB standard candle model\n",
    "    fObsMin: float, Hz, minimum observing frequency\n",
    "    fObsMax: float, Hz, maximum observing frequency\n",
    "    fLumMin: float, Hz, minimum frequency over which the source emits, Lorimer et al.: 1e7\n",
    "    fLumMax: float, Hz, maximum frequency over which the source emits, Lorimer et al.: 1e10\n",
    "    \"\"\"\n",
    "    dd = coMovingDist(z) * 3.086e25 # Convert from Gpc to m\n",
    "    \n",
    "    sPeak = (LModel * ((1. + z)**(alpha-1.))) \\\n",
    "            * (1. / (4. * np.pi * dd**2. * ((fLumMax**(alpha+1.)) - (fLumMin**(alpha+1.)))) ) \\\n",
    "            * (((fObsMax**(alpha+1.)) - (fObsMin**(alpha+1.)))/(fObsMax - fObsMin))\n",
    "\n",
    "    return sPeak / 1e-19"
   ]
  },
  {
   "cell_type": "code",
   "execution_count": 30,
   "metadata": {
    "collapsed": false
   },
   "outputs": [],
   "source": [
    "# From FRBCAT\n",
    "df = pd.DataFrame(index=['Flux', 'W', 'DM', 'z'])\n",
    "df['FRB010125'] = [0.30, 9.4, 790., 0.57]\n",
    "df['FRB010621'] = [0.53, 8., 748., 0.19]\n",
    "df['FRB010724'] = [1.57, 20., 375., 0.28]\n",
    "df['FRB090625'] = [1.14, 1.92, 899.55, 0.72]\n",
    "df['FRB110220'] = [1.3, 5.6, 944.38, 0.76]\n",
    "df['FRB110523'] = [0.6, 1.73, 623.3, 0.48]\n",
    "df['FRB110626'] = [0.56, 1.4, 723., 0.56]\n",
    "df['FRB110703'] = [0.5, 4.3, 1103.6, 0.89]\n",
    "df['FRB120127'] = [0.55, 1.1, 553.3, 0.43]\n",
    "df['FRB121002'] = [0.43, 5.44, 1629.18, 1.3]\n",
    "df['FRB121102'] = [0.4, 3., 557., 0.31]\n",
    "df['FRB130626'] = [0.74, 1.98, 952.4, 0.74]\n",
    "df['FRB130628'] = [1.91, 0.64, 469.88, 0.35]\n",
    "df['FRB131104'] = [1.12, 2.08, 779., 0.59]\n",
    "df['FRB130729'] = [0.22, 15.61, 861., 0.69]\n",
    "df['FRB140514'] = [0.47, 2.8, 562.7, 0.44]\n",
    "df['FRB150418'] = [2.20, 0.8, 776.2, 0.49]\n",
    "df['FRB150807'] = [128., 0.35, 266.5, 0.16]"
   ]
  },
  {
   "cell_type": "code",
   "execution_count": 47,
   "metadata": {
    "collapsed": false,
    "deletable": true,
    "editable": true
   },
   "outputs": [
    {
     "data": {
      "text/plain": [
       "<matplotlib.text.Text at 0x7f97599ed410>"
      ]
     },
     "execution_count": 47,
     "metadata": {},
     "output_type": "execute_result"
    },
    {
     "data": {
      "image/png": "[encoded data removed]",
      "text/plain": [
       "<matplotlib.figure.Figure at 0x7f975c8093d0>"
      ]
     },
     "metadata": {},
     "output_type": "display_data"
    }
   ],
   "source": [
    "zArr = np.linspace(zMin, zMax, 1024)\n",
    "sPeakArr = np.zeros((len(alphas), len(zArr)))\n",
    "\n",
    "cmap = plt.cm.hsv\n",
    "colors = iter(cmap(np.linspace(0, 0.9, len(alphas) + len(sMin))))\n",
    "\n",
    "for aid, alpha in enumerate(alphas):\n",
    "    LModel = calcLModel(alphaRef=alpha)\n",
    "    for zid,zz in enumerate(zArr):\n",
    "        sPeakArr[aid, zid] = calcSpeak(LModel, zz, alpha, fObsMin, fObsMax)\n",
    "    plt.semilogy(zArr, sPeakArr[aid], color=next(colors), alpha=0.7, label=r'$\\alpha =$ %1.1f'%alpha)\n",
    "\n",
    "idxArr = np.zeros((len(sMin),len(alphas)), dtype='int')\n",
    "#for sMinVal, pwVal in zip(sMin, pulseWidth):\n",
    "for smid, sMinVal in enumerate(sMin):\n",
    "    pwVal = pulseWidth[smid]\n",
    "    plt.axhline(y=sMinVal, xmin=0.0, xmax=1.0, color=next(colors), linestyle=\"--\", alpha=0.7, \\\n",
    "                label='$S_{min}=$ %1.1f mJy (%.0f ms)'%(sMinVal*1000., pwVal/1000.))\n",
    "    for aid, alpha in enumerate(alphas):\n",
    "        idx = np.argmin(np.abs(sPeakArr[aid] - sMinVal)) # array index of nearest sMin/alpha flux density crossing\n",
    "        #print alpha, sMinVal, idx, zArr[idx]\n",
    "        idxArr[smid, aid] = idx\n",
    "\n",
    "for idx, row in df.iteritems():\n",
    "    #print idx, row\n",
    "    plt.plot(row['z'], row['Flux'], \"x\", markersize=10, markeredgewidth=4)\n",
    "        \n",
    "plt.legend()\n",
    "plt.xlim(zMin, zMax)\n",
    "plt.xlabel('z')\n",
    "plt.ylabel('Peak Flux Density (Jy)')\n",
    "plt.title('Redshift-SEFD Detection Relationship')\n",
    "#plt.savefig('redshift-sefd.svg')"
   ]
  },
  {
   "cell_type": "markdown",
   "metadata": {
    "deletable": true,
    "editable": true
   },
   "source": [
    "**Figure:** Similar to Figure 6 of Karastergiou et al. 2015, and Figure 2a of Lorimer et al. 2013. Peak flux density of the Lorimer et al. 2013 population model as a function of redshift $z$ and spectral index $\\alpha$. Lines of minimum dectection using the ALFABURST system is shown as dashed lines for different decimation levels. Markers are previously discovered FRBs from FRBCAT catalogue."
   ]
  },
  {
   "cell_type": "code",
   "execution_count": 33,
   "metadata": {
    "collapsed": false,
    "deletable": true,
    "editable": true
   },
   "outputs": [],
   "source": [
    "# lorimer 2b, karastergious 6 - rate to redshift relationship\n",
    "def thorntonRate(z):\n",
    "    \"\"\"Compute the event rate using Thornton et al. 2013 values as computed by Lormier et al. 2013\n",
    "    z: float, redshift\n",
    "    returns: array, [low rate, expected rate, high rate]\"\"\"\n",
    "    dd = coMovingDist(z)\n",
    "    dNorm = coMovingDist(0.75) # Thornton rate is based on events at z=0.75\n",
    "    rateNorm = np.array([0.5 * 10**4, 10**4, 1.6 * 10**4]) # Thornton et al. 2013: rate = 10000 (error: +6000/-5000)\n",
    "    rate = rateNorm * ((dd / dNorm)**3.)\n",
    "    return rate"
   ]
  },
  {
   "cell_type": "code",
   "execution_count": 34,
   "metadata": {
    "collapsed": false,
    "deletable": true,
    "editable": true
   },
   "outputs": [
    {
     "data": {
      "text/plain": [
       "<matplotlib.text.Text at 0x7f975c89ead0>"
      ]
     },
     "execution_count": 34,
     "metadata": {},
     "output_type": "execute_result"
    },
    {
     "data": {
      "image/png": "[encoded data removed]",
      "text/plain": [
       "<matplotlib.figure.Figure at 0x7f975c8ef490>"
      ]
     },
     "metadata": {},
     "output_type": "display_data"
    }
   ],
   "source": [
    "expectedRates = np.zeros((zArr.shape[0], 3))\n",
    "for zid,zz in enumerate(zArr):\n",
    "    expectedRates[zid,:] = thorntonRate(zz)\n",
    "\n",
    "plt.semilogy(zArr, expectedRates[:,1], \"w\")\n",
    "plt.fill_between(zArr, expectedRates[:,0], expectedRates[:,2], alpha=1.0, facecolor=\"blue\", edgecolor=\"white\", \\\n",
    "                 hatch=\"\\\\\\\\\\\\\")\n",
    "\n",
    "plt.plot(0.75, 1e4, \"wx\", markersize=10, markeredgewidth=4) # plot Thornton et al. (2013) rate\n",
    "\n",
    "plt.xlim(zMin, zMax)\n",
    "plt.xlabel('z')\n",
    "plt.ylabel(r'$R (< z) (\\textrm{bursts sky}^{-1} \\textrm{day}^{-1})$')\n",
    "\n",
    "plt.title('Event Rate - Redshift Relation')"
   ]
  },
  {
   "cell_type": "markdown",
   "metadata": {
    "deletable": true,
    "editable": true
   },
   "source": [
    "**Figure:** Implied redshift to event rate relation based on Thornton et al. 2013 event rate of $10000^{+6000}_{-5000} \\; \\textrm{bursts sky}^{-1} \\textrm{day}^{-1}$ at $z = 0.75$ (white cross)."
   ]
  },
  {
   "cell_type": "code",
   "execution_count": 35,
   "metadata": {
    "collapsed": false,
    "deletable": true,
    "editable": true
   },
   "outputs": [
    {
     "name": "stdout",
     "output_type": "stream",
     "text": [
      "pulse width: 1 ms (minimum flux density: 126.8 mJy)\n",
      "\t alpha: -2.0 \t max z: 1.5 \t rate: 43866 (+26320 / -21933) FRBs sky^-1 day^-1\n",
      "\t ALFABURST Expected FRB count: 3\n",
      "\t alpha: -1.4 \t max z: 1.6 \t rate: 51111 (+30667 / -25556) FRBs sky^-1 day^-1\n",
      "\t ALFABURST Expected FRB count: 4\n",
      "\t alpha: -0.7 \t max z: 1.8 \t rate: 64040 (+38424 / -32020) FRBs sky^-1 day^-1\n",
      "\t ALFABURST Expected FRB count: 5\n",
      "\t alpha: -0.1 \t max z: 2.2 \t rate: 83308 (+49985 / -41654) FRBs sky^-1 day^-1\n",
      "\t ALFABURST Expected FRB count: 6\n",
      "\t alpha: 0.1 \t max z: 2.3 \t rate: 93004 (+55802 / -46502) FRBs sky^-1 day^-1\n",
      "\t ALFABURST Expected FRB count: 7\n",
      "\t alpha: 0.7 \t max z: 2.5 \t rate: 103768 (+62261 / -51884) FRBs sky^-1 day^-1\n",
      "\t ALFABURST Expected FRB count: 8\n",
      "pulse width: 2 ms (minimum flux density: 89.6 mJy)\n",
      "\t alpha: -2.0 \t max z: 1.7 \t rate: 54047 (+32428 / -27023) FRBs sky^-1 day^-1\n",
      "\t ALFABURST Expected FRB count: 4\n",
      "\t alpha: -1.4 \t max z: 1.8 \t rate: 64040 (+38424 / -32020) FRBs sky^-1 day^-1\n",
      "\t ALFABURST Expected FRB count: 5\n",
      "\t alpha: -0.7 \t max z: 2.2 \t rate: 82713 (+49628 / -41356) FRBs sky^-1 day^-1\n",
      "\t ALFABURST Expected FRB count: 6\n",
      "\t alpha: -0.1 \t max z: 2.5 \t rate: 103768 (+62261 / -51884) FRBs sky^-1 day^-1\n",
      "\t ALFABURST Expected FRB count: 8\n",
      "\t alpha: 0.1 \t max z: 2.5 \t rate: 103768 (+62261 / -51884) FRBs sky^-1 day^-1\n",
      "\t ALFABURST Expected FRB count: 8\n",
      "\t alpha: 0.7 \t max z: 2.5 \t rate: 103768 (+62261 / -51884) FRBs sky^-1 day^-1\n",
      "\t ALFABURST Expected FRB count: 8\n",
      "pulse width: 4 ms (minimum flux density: 63.4 mJy)\n",
      "\t alpha: -2.0 \t max z: 1.9 \t rate: 65780 (+39468 / -32890) FRBs sky^-1 day^-1\n",
      "\t ALFABURST Expected FRB count: 5\n",
      "\t alpha: -1.4 \t max z: 2.1 \t rate: 79297 (+47578 / -39649) FRBs sky^-1 day^-1\n",
      "\t ALFABURST Expected FRB count: 6\n",
      "\t alpha: -0.7 \t max z: 2.5 \t rate: 103768 (+62261 / -51884) FRBs sky^-1 day^-1\n",
      "\t ALFABURST Expected FRB count: 8\n",
      "\t alpha: -0.1 \t max z: 2.5 \t rate: 103768 (+62261 / -51884) FRBs sky^-1 day^-1\n",
      "\t ALFABURST Expected FRB count: 8\n",
      "\t alpha: 0.1 \t max z: 2.5 \t rate: 103768 (+62261 / -51884) FRBs sky^-1 day^-1\n",
      "\t ALFABURST Expected FRB count: 8\n",
      "\t alpha: 0.7 \t max z: 2.5 \t rate: 103768 (+62261 / -51884) FRBs sky^-1 day^-1\n",
      "\t ALFABURST Expected FRB count: 8\n",
      "pulse width: 8 ms (minimum flux density: 44.8 mJy)\n",
      "\t alpha: -2.0 \t max z: 2.1 \t rate: 79149 (+47489 / -39575) FRBs sky^-1 day^-1\n",
      "\t ALFABURST Expected FRB count: 6\n",
      "\t alpha: -1.4 \t max z: 2.4 \t rate: 96891 (+58135 / -48445) FRBs sky^-1 day^-1\n",
      "\t ALFABURST Expected FRB count: 7\n",
      "\t alpha: -0.7 \t max z: 2.5 \t rate: 103768 (+62261 / -51884) FRBs sky^-1 day^-1\n",
      "\t ALFABURST Expected FRB count: 8\n",
      "\t alpha: -0.1 \t max z: 2.5 \t rate: 103768 (+62261 / -51884) FRBs sky^-1 day^-1\n",
      "\t ALFABURST Expected FRB count: 8\n",
      "\t alpha: 0.1 \t max z: 2.5 \t rate: 103768 (+62261 / -51884) FRBs sky^-1 day^-1\n",
      "\t ALFABURST Expected FRB count: 8\n",
      "\t alpha: 0.7 \t max z: 2.5 \t rate: 103768 (+62261 / -51884) FRBs sky^-1 day^-1\n",
      "\t ALFABURST Expected FRB count: 8\n",
      "pulse width: 16 ms (minimum flux density: 31.7 mJy)\n",
      "\t alpha: -2.0 \t max z: 2.3 \t rate: 94349 (+56610 / -47175) FRBs sky^-1 day^-1\n",
      "\t ALFABURST Expected FRB count: 7\n",
      "\t alpha: -1.4 \t max z: 2.5 \t rate: 103768 (+62261 / -51884) FRBs sky^-1 day^-1\n",
      "\t ALFABURST Expected FRB count: 8\n",
      "\t alpha: -0.7 \t max z: 2.5 \t rate: 103768 (+62261 / -51884) FRBs sky^-1 day^-1\n",
      "\t ALFABURST Expected FRB count: 8\n",
      "\t alpha: -0.1 \t max z: 2.5 \t rate: 103768 (+62261 / -51884) FRBs sky^-1 day^-1\n",
      "\t ALFABURST Expected FRB count: 8\n",
      "\t alpha: 0.1 \t max z: 2.5 \t rate: 103768 (+62261 / -51884) FRBs sky^-1 day^-1\n",
      "\t ALFABURST Expected FRB count: 8\n",
      "\t alpha: 0.7 \t max z: 2.5 \t rate: 103768 (+62261 / -51884) FRBs sky^-1 day^-1\n",
      "\t ALFABURST Expected FRB count: 8\n",
      "pulse width: 32 ms (minimum flux density: 22.4 mJy)\n",
      "\t alpha: -2.0 \t max z: 2.5 \t rate: 103768 (+62261 / -51884) FRBs sky^-1 day^-1\n",
      "\t ALFABURST Expected FRB count: 8\n",
      "\t alpha: -1.4 \t max z: 2.5 \t rate: 103768 (+62261 / -51884) FRBs sky^-1 day^-1\n",
      "\t ALFABURST Expected FRB count: 8\n",
      "\t alpha: -0.7 \t max z: 2.5 \t rate: 103768 (+62261 / -51884) FRBs sky^-1 day^-1\n",
      "\t ALFABURST Expected FRB count: 8\n",
      "\t alpha: -0.1 \t max z: 2.5 \t rate: 103768 (+62261 / -51884) FRBs sky^-1 day^-1\n",
      "\t ALFABURST Expected FRB count: 8\n",
      "\t alpha: 0.1 \t max z: 2.5 \t rate: 103768 (+62261 / -51884) FRBs sky^-1 day^-1\n",
      "\t ALFABURST Expected FRB count: 8\n",
      "\t alpha: 0.7 \t max z: 2.5 \t rate: 103768 (+62261 / -51884) FRBs sky^-1 day^-1\n",
      "\t ALFABURST Expected FRB count: 8\n",
      "pulse width: 64 ms (minimum flux density: 15.8 mJy)\n",
      "\t alpha: -2.0 \t max z: 2.5 \t rate: 103768 (+62261 / -51884) FRBs sky^-1 day^-1\n",
      "\t ALFABURST Expected FRB count: 8\n",
      "\t alpha: -1.4 \t max z: 2.5 \t rate: 103768 (+62261 / -51884) FRBs sky^-1 day^-1\n",
      "\t ALFABURST Expected FRB count: 8\n",
      "\t alpha: -0.7 \t max z: 2.5 \t rate: 103768 (+62261 / -51884) FRBs sky^-1 day^-1\n",
      "\t ALFABURST Expected FRB count: 8\n",
      "\t alpha: -0.1 \t max z: 2.5 \t rate: 103768 (+62261 / -51884) FRBs sky^-1 day^-1\n",
      "\t ALFABURST Expected FRB count: 8\n",
      "\t alpha: 0.1 \t max z: 2.5 \t rate: 103768 (+62261 / -51884) FRBs sky^-1 day^-1\n",
      "\t ALFABURST Expected FRB count: 8\n",
      "\t alpha: 0.7 \t max z: 2.5 \t rate: 103768 (+62261 / -51884) FRBs sky^-1 day^-1\n",
      "\t ALFABURST Expected FRB count: 8\n"
     ]
    }
   ],
   "source": [
    "# Determine expected number of detections based on rate per sky, time for current sky,time coverage\n",
    "\n",
    "# 4 * pi steradian in a sphere\n",
    "sqDegPerSky = 4. * np.pi * ((180. / np.pi)**2.)\n",
    "\n",
    "# From frb_search_volume.ipynb:\n",
    "# Observing time outside the galactic plane (+/-7.0 degrees) = 2175300 s\n",
    "# Total area surveyed = 4.748e+03 sq. deg\n",
    "obsTimeSec = 2175300. # seconds\n",
    "obsTimeDay = obsTimeSec / (24. * 60. * 60.) # days\n",
    "nBeams = 7. # number of beams, for ALFA this is 7\n",
    "beamFWHM = nBeams * (3.5 / 60.) # beam FWHM in degrees\n",
    "areaDeg = np.pi * (beamFWHM/2.)**2. # beam area in deg^2\n",
    "areaInSky = areaDeg / sqDegPerSky # the beam size as a precent of the total sky\n",
    "\n",
    "# Event rate based on maximum redshift which can be probed by the sensitivity of ALFABURST\n",
    "for smid, sMinVal in enumerate(sMin):\n",
    "    print 'pulse width: %.0f ms (minimum flux density: %.1f mJy)'%(pulseWidth[smid]/1000., sMinVal*1000.)\n",
    "    for aid, alpha in enumerate(alphas):\n",
    "        idx = idxArr[smid, aid]\n",
    "        print '\\t alpha: %.1f \\t max z: %.1f \\t rate: %.0f (+%.0f / -%0.f) FRBs sky^-1 day^-1'%  \\\n",
    "        (alpha, zArr[idx], expectedRates[idx, 1], expectedRates[idx, 2] - expectedRates[idx, 1], \\\n",
    "         expectedRates[idx, 1] - expectedRates[idx, 0])\n",
    "        print '\\t ALFABURST Expected FRB count: %i'%(int(expectedRates[idx, 1] * areaInSky * obsTimeDay))"
   ]
  },
  {
   "cell_type": "code",
   "execution_count": null,
   "metadata": {
    "collapsed": true,
    "deletable": true,
    "editable": true
   },
   "outputs": [],
   "source": []
  }
 ],
 "metadata": {
  "kernelspec": {
   "display_name": "Python 2",
   "language": "python",
   "name": "python2"
  },
  "language_info": {
   "codemirror_mode": {
    "name": "ipython",
    "version": 2
   },
   "file_extension": ".py",
   "mimetype": "text/x-python",
   "name": "python",
   "nbconvert_exporter": "python",
   "pygments_lexer": "ipython2",
   "version": "2.7.12"
  }
 },
 "nbformat": 4,
 "nbformat_minor": 2
}
