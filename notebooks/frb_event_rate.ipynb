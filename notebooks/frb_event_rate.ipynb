{
 "cells": [
  {
   "cell_type": "markdown",
   "metadata": {
    "deletable": true,
    "editable": true
   },
   "source": [
    "### FRB Event Rate\n",
    "\n",
    "Calculate the expected FRB event rate for thew ALFABURST survey based on Lorimer et al. 2013\n",
    "\n",
    "**Assumptions**\n",
    "\n",
    "1. Pulse width is approximately 1 ms\n",
    "2. FRB is a standard candles\n",
    "3. Thornton et al. 2013 correctly relates flux density to redshift"
   ]
  },
  {
   "cell_type": "code",
   "execution_count": 2,
   "metadata": {
    "collapsed": true,
    "deletable": true,
    "editable": true
   },
   "outputs": [],
   "source": [
    "import numpy as np\n",
    "import matplotlib.pyplot as plt\n",
    "import scipy.integrate\n",
    "from matplotlib import rc\n",
    "\n",
    "%matplotlib inline\n",
    "rc('text', usetex=True)\n",
    "plt.rcParams['figure.figsize'] = (12, 8)"
   ]
  },
  {
   "cell_type": "markdown",
   "metadata": {
    "deletable": true,
    "editable": true
   },
   "source": [
    "Equation 6 of Karastergiou et al. 2015 is derived from the radiometer equation:\n",
    "\n",
    "$$\n",
    "S_{min} = \\textrm{SEFD} \\frac{\\textrm{SNR}_{min}}{\\sqrt{D \\; \\Delta \\tau \\; \\Delta \\nu}}\n",
    "$$\n",
    "\n",
    "where $S_{min}$ is the minimum flux density (in Jy) detection rate. This is based on the telescope SEFD, the minimum SNR detection level $\\textrm{SNR}_{min}$ and the decimation rate $D$ compared to the native instrumental time resolution $\\tau$, this comes from the search pipeline which averages together spectra to search for scattered pulses. ALFABURST has a native resolution of $\\Delta \\tau = 256 \\; \\mu s$, effective bandwidth $\\Delta \\nu = 56 \\textrm{MHz}$, and $\\textrm{SNR}_{min} = 10$.\n",
    "\n",
    "For reference see:\n",
    "* https://www.cv.nrao.edu/course/astr534/Radiometers.html\n",
    "* http://www.naic.edu/alfa/performance/\n",
    "* https://casper.berkeley.edu/astrobaki/index.php/Radiometer_Equation_Applied_to_Telescopes\n",
    "* https://science.nrao.edu/facilities/vla/docs/manuals/oss/performance/sensitivity"
   ]
  },
  {
   "cell_type": "code",
   "execution_count": 29,
   "metadata": {
    "collapsed": true
   },
   "outputs": [],
   "source": [
    "# Parameters\n",
    "SEFD = 3. # Jy, SEFD of ALFA (main beam)\n",
    "threshold = 10. # SNR threshold of detection pipeline\n",
    "pulseWidth = np.array([1., 2., 4., 8., 16., 32., 64.]) * 1000. # us, expected pulse width\n",
    "tRes = 256. # us, ALFABURST spectra time resolution\n",
    "dFactor = pulseWidth / tRes# decimation factor\n",
    "bw = 56. * 1e6 # ALFABURST effective bandwidth in Hz\n",
    "sMin = SEFD * (threshold / np.sqrt(dFactor * (tRes * 1e-6) * bw)) # Minimum flux density detection, based on radiometer equation\n",
    "\n",
    "fObsMin = 1347e6 # ALFABURST 56 MHz bandwidth system min frequency\n",
    "fObsMax = 1403e6 # ALFABURST 56 MHz bandwidth system max frequency\n",
    "\n",
    "alphas = [-2., -1.4, -0.7, -0.1, 0.1, 0.7] # spectral indicies to model\n",
    "zMin = 0.01\n",
    "#zMax = 4.0\n",
    "zMax = 7.997 # minimum z based on pointing and NE2001 from frb_search_volume.ipynb"
   ]
  },
  {
   "cell_type": "code",
   "execution_count": 347,
   "metadata": {
    "collapsed": false
   },
   "outputs": [
    {
     "name": "stdout",
     "output_type": "stream",
     "text": [
      "The minimum flux density detection for a given pulse width is:\n",
      "\t 126.8 mJy for a pulse width of 1 ms\n",
      "\t 89.6 mJy for a pulse width of 2 ms\n",
      "\t 63.4 mJy for a pulse width of 4 ms\n",
      "\t 44.8 mJy for a pulse width of 8 ms\n",
      "\t 31.7 mJy for a pulse width of 16 ms\n",
      "\t 22.4 mJy for a pulse width of 32 ms\n",
      "\t 15.8 mJy for a pulse width of 64 ms\n"
     ]
    }
   ],
   "source": [
    "print 'The minimum flux density detection for a given pulse width is:'\n",
    "for sMinVal, pwVal in zip(sMin, pulseWidth):\n",
    "    print '\\t %.1f mJy for a pulse width of %.0f ms'%(sMinVal*1000., pwVal/1000.)"
   ]
  },
  {
   "cell_type": "code",
   "execution_count": 348,
   "metadata": {
    "collapsed": false,
    "deletable": true,
    "editable": true
   },
   "outputs": [],
   "source": [
    "def coMovingDist(z):\n",
    "    \"\"\"Co-moving distance in Gpc, Eq. 3 from Lorimer et al. 2013\n",
    "    z: float, redshift\n",
    "    \"\"\"\n",
    "    c = 299792.458 # km s^-1\n",
    "    H0 = 68. # km s^-1 Mpc^-1\n",
    "    OmegaM = 0.32\n",
    "    OmegaLambda = 0.68\n",
    "    \n",
    "    integrand = lambda zp: 1. / np.sqrt(OmegaM * ((1. + zp)**3.) + OmegaLambda)\n",
    "    dd, err = scipy.integrate.quad(integrand, 0., z)\n",
    "    return ((c/H0) * dd) * 1e-3\n",
    "\n",
    "def coMovingVol(z):\n",
    "    \"\"\"Co-moving volume in Gpc^3\n",
    "    z: float, redshift\"\"\"\n",
    "    return (4./3.)*(coMovingDist(z)**3.)\n",
    "\n",
    "def calcLModel(sPeakRef=1., alphaRef=-1.4, zRef=0.75, fLumMin=1e7, fLumMax=1e10, fObsMin=1182e6, fObsMax=1582e6):\n",
    "    \"\"\"Calculate the standard candle FRB bolometric luminosity based on Thornton et al. 2013 model, this is used\n",
    "    to calibrate the flux-redshift relationship\n",
    "    sPeakRef: float, Jy, peak flux density, Thornton et al.: 1.\n",
    "    alphaRef: float, spectal index, Thornton et al.: -1.4\n",
    "    zRef: float, redshift, Thornton et al.: 0.75\n",
    "    fLumMin: float, Hz, minimum frequency over which the source emits, Lorimer et al.: 1e7\n",
    "    fLumMax: float, Hz, maximum frequency over which the source emits, Lorimer et al.: 1e10\n",
    "    fObsMin: float, Hz, minimum observing frequency, Thornton et al.: 1186 MHz\n",
    "    fObsMax: float, Hz, maximum observing frequency, Thornton et al.: 1582 MHz\"\"\"\n",
    "    sPeakRefErgs = sPeakRef * 1e-19 # unit: erg s^-1 ; 1 Jy = 10^-26 W = 10^-19 erg s^-1\n",
    "    \n",
    "    dd = coMovingDist(zRef) * 3.086e25 # Convert from Gpc to m\n",
    "\n",
    "    LL = ((fObsMax-fObsMin)/((fObsMax**(alphaRef+1.))-(fObsMin**(alphaRef+1.)))) * sPeakRefErgs \\\n",
    "            * 4. * np.pi * (dd**2.) \\\n",
    "            * (((fLumMax**(alphaRef+1.))-(fLumMin**(alphaRef+1.)))/((1.+zRef)**(alphaRef-1.)))\n",
    "    return LL\n",
    "\n",
    "def calcSpeak(LModel, z, alpha, fObsMin, fObsMax, fLumMin=1e7, fLumMax=1e10):\n",
    "    \"\"\"Calculate the peak flux density, Lorimer et al. 2013 eq. 9\n",
    "    LModel: float, ergs s^-1, bolometric luminosity model output of calcLModel()\n",
    "    z: float, redshift of source\n",
    "    alpha: float, spectral index of FRB standard candle model\n",
    "    fObsMin: float, Hz, minimum observing frequency\n",
    "    fObsMax: float, Hz, maximum observing frequency\n",
    "    fLumMin: float, Hz, minimum frequency over which the source emits, Lorimer et al.: 1e7\n",
    "    fLumMax: float, Hz, maximum frequency over which the source emits, Lorimer et al.: 1e10\n",
    "    \"\"\"\n",
    "    dd = coMovingDist(z) * 3.086e25 # Convert from Gpc to m\n",
    "    \n",
    "    sPeak = (LModel * ((1. + z)**(alpha-1.))) \\\n",
    "            * (1. / (4. * np.pi * dd**2. * ((fLumMax**(alpha+1.)) - (fLumMin**(alpha+1.)))) ) \\\n",
    "            * (((fObsMax**(alpha+1.)) - (fObsMin**(alpha+1.)))/(fObsMax - fObsMin))\n",
    "\n",
    "    return sPeak / 1e-19"
   ]
  },
  {
   "cell_type": "code",
   "execution_count": 349,
   "metadata": {
    "collapsed": false,
    "deletable": true,
    "editable": true
   },
   "outputs": [
    {
     "data": {
      "text/plain": [
       "<matplotlib.text.Text at 0x7f50acaa4c90>"
      ]
     },
     "execution_count": 349,
     "metadata": {},
     "output_type": "execute_result"
    },
    {
     "data": {
      "image/png": "[encoded data removed]",
      "text/plain": [
       "<matplotlib.figure.Figure at 0x7f50acbc3650>"
      ]
     },
     "metadata": {},
     "output_type": "display_data"
    }
   ],
   "source": [
    "zArr = np.linspace(zMin, zMax, 1024)\n",
    "sPeakArr = np.zeros((len(alphas), len(zArr)))\n",
    "\n",
    "cmap = plt.cm.hsv\n",
    "colors = iter(cmap(np.linspace(0, 0.9, len(alphas) + len(sMin))))\n",
    "\n",
    "for aid, alpha in enumerate(alphas):\n",
    "    LModel = calcLModel(alphaRef=alpha)\n",
    "    for zid,zz in enumerate(zArr):\n",
    "        sPeakArr[aid, zid] = calcSpeak(LModel, zz, alpha, fObsMin, fObsMax)\n",
    "    plt.semilogy(zArr, sPeakArr[aid], color=next(colors), alpha=0.7, label=r'$\\alpha =$ %1.1f'%alpha)\n",
    "\n",
    "idxArr = np.zeros((len(sMin),len(alphas)), dtype='int')\n",
    "#for sMinVal, pwVal in zip(sMin, pulseWidth):\n",
    "for smid, sMinVal in enumerate(sMin):\n",
    "    pwVal = pulseWidth[smid]\n",
    "    plt.axhline(y=sMinVal, xmin=0.0, xmax=1.0, color=next(colors), linestyle=\"--\", alpha=0.7, \\\n",
    "                label='$S_{min}=$ %1.1f Jy (%.0f ms)'%(sMinVal, pwVal/1000.))\n",
    "    for aid, alpha in enumerate(alphas):\n",
    "        idx = np.argmin(np.abs(sPeakArr[aid] - sMinVal)) # array index of nearest sMin/alpha flux density crossing\n",
    "        #print alpha, sMinVal, idx, zArr[idx]\n",
    "        idxArr[smid, aid] = idx\n",
    "\n",
    "plt.legend()\n",
    "plt.xlim(zMin, zMax)\n",
    "plt.xlabel('z')\n",
    "plt.ylabel('Peak Flux Density (Jy)')\n",
    "plt.title('Redshift-SEFD Detection Relationship')"
   ]
  },
  {
   "cell_type": "markdown",
   "metadata": {
    "deletable": true,
    "editable": true
   },
   "source": [
    "**Figure:** Similar to Figure 6 of Karastergiou et al. 2015, and Figure 2a of Lorimer et al. 2013. Peak flux density of the Lorimer et al. 2013 population model as a function of redshift $z$ and spectral index $\\alpha$. Lines of minimum dectection using the ALFABURST system is shown as dashed lines for different decimation levels."
   ]
  },
  {
   "cell_type": "code",
   "execution_count": 350,
   "metadata": {
    "collapsed": false,
    "deletable": true,
    "editable": true
   },
   "outputs": [],
   "source": [
    "# lorimer 2b, karastergious 6 - rate to redshift relationship\n",
    "def thorntonRate(z):\n",
    "    \"\"\"Compute the event rate using Thornton et al. 2013 values as computed by Lormier et al. 2013\n",
    "    z: float, redshift\n",
    "    returns: array, [low rate, expected rate, high rate]\"\"\"\n",
    "    dd = coMovingDist(z)\n",
    "    dNorm = coMovingDist(0.75) # Thornton rate is based on events at z=0.75\n",
    "    rateNorm = np.array([0.5 * 10**4, 10**4, 1.6 * 10**4]) # Thornton et al. 2013: rate = 10000 (error: +6000/-5000)\n",
    "    rate = rateNorm * ((dd / dNorm)**3.)\n",
    "    return rate"
   ]
  },
  {
   "cell_type": "code",
   "execution_count": 351,
   "metadata": {
    "collapsed": false
   },
   "outputs": [
    {
     "data": {
      "text/plain": [
       "<matplotlib.text.Text at 0x7f50ac85d590>"
      ]
     },
     "execution_count": 351,
     "metadata": {},
     "output_type": "execute_result"
    },
    {
     "data": {
      "image/png": "[encoded data removed]",
      "text/plain": [
       "<matplotlib.figure.Figure at 0x7f50acb5db50>"
      ]
     },
     "metadata": {},
     "output_type": "display_data"
    }
   ],
   "source": [
    "expectedRates = np.zeros((zArr.shape[0], 3))\n",
    "for zid,zz in enumerate(zArr):\n",
    "    expectedRates[zid,:] = thorntonRate(zz)\n",
    "\n",
    "plt.semilogy(zArr, expectedRates[:,1], \"w\")\n",
    "plt.fill_between(zArr, expectedRates[:,0], expectedRates[:,2], alpha=1.0, facecolor=\"blue\", edgecolor=\"white\", \\\n",
    "                 hatch=\"\\\\\\\\\\\\\")\n",
    "\n",
    "plt.plot(0.75, 1e4, \"wx\", markersize=10, markeredgewidth=4) # plot Thornton et al. (2013) rate\n",
    "\n",
    "plt.xlim(zMin, zMax)\n",
    "plt.xlabel('z')\n",
    "plt.ylabel(r'$R (< z) (\\textrm{bursts sky}^{-1} \\textrm{day}^{-1})$')\n",
    "\n",
    "plt.title('Event Rate - Redshift Relation')"
   ]
  },
  {
   "cell_type": "markdown",
   "metadata": {
    "deletable": true,
    "editable": true
   },
   "source": [
    "**Figure:** Implied redshift to event rate relation based on Thornton et al. 2013 event rate of $10000^{+6000}_{-5000} \\; \\textrm{bursts sky}^{-1} \\textrm{day}^{-1}$ at $z = 0.75$ (white cross)."
   ]
  },
  {
   "cell_type": "code",
   "execution_count": 354,
   "metadata": {
    "collapsed": false
   },
   "outputs": [
    {
     "name": "stdout",
     "output_type": "stream",
     "text": [
      "pulse width: 1 ms (minimum flux density: 126.8 mJy)\n",
      "\t alpha: -2.0 \t max z: 1.5 \t rate: 44089 (+26453 / -22045) FRBs sky^-1 day^-1\n",
      "\t ALFABURST Expected FRB count: 3\n",
      "\t alpha: -1.4 \t max z: 1.6 \t rate: 51108 (+30665 / -25554) FRBs sky^-1 day^-1\n",
      "\t ALFABURST Expected FRB count: 4\n",
      "\t alpha: -0.7 \t max z: 1.8 \t rate: 63865 (+38319 / -31933) FRBs sky^-1 day^-1\n",
      "\t ALFABURST Expected FRB count: 5\n",
      "\t alpha: -0.1 \t max z: 2.2 \t rate: 83204 (+49923 / -41602) FRBs sky^-1 day^-1\n",
      "\t ALFABURST Expected FRB count: 6\n",
      "\t alpha: 0.1 \t max z: 2.3 \t rate: 93253 (+55952 / -46626) FRBs sky^-1 day^-1\n",
      "\t ALFABURST Expected FRB count: 7\n",
      "\t alpha: 0.7 \t max z: 3.2 \t rate: 148192 (+88915 / -74096) FRBs sky^-1 day^-1\n",
      "\t ALFABURST Expected FRB count: 11\n",
      "pulse width: 2 ms (minimum flux density: 89.6 mJy)\n",
      "\t alpha: -2.0 \t max z: 1.7 \t rate: 54248 (+32549 / -27124) FRBs sky^-1 day^-1\n",
      "\t ALFABURST Expected FRB count: 4\n",
      "\t alpha: -1.4 \t max z: 1.8 \t rate: 63865 (+38319 / -31933) FRBs sky^-1 day^-1\n",
      "\t ALFABURST Expected FRB count: 5\n",
      "\t alpha: -0.7 \t max z: 2.2 \t rate: 82727 (+49636 / -41364) FRBs sky^-1 day^-1\n",
      "\t ALFABURST Expected FRB count: 6\n",
      "\t alpha: -0.1 \t max z: 2.6 \t rate: 111941 (+67165 / -55971) FRBs sky^-1 day^-1\n",
      "\t ALFABURST Expected FRB count: 8\n",
      "\t alpha: 0.1 \t max z: 2.9 \t rate: 127158 (+76295 / -63579) FRBs sky^-1 day^-1\n",
      "\t ALFABURST Expected FRB count: 10\n",
      "\t alpha: 0.7 \t max z: 4.5 \t rate: 220733 (+132440 / -110367) FRBs sky^-1 day^-1\n",
      "\t ALFABURST Expected FRB count: 17\n",
      "pulse width: 4 ms (minimum flux density: 63.4 mJy)\n",
      "\t alpha: -2.0 \t max z: 1.9 \t rate: 65725 (+39435 / -32863) FRBs sky^-1 day^-1\n",
      "\t ALFABURST Expected FRB count: 5\n",
      "\t alpha: -1.4 \t max z: 2.1 \t rate: 79393 (+47636 / -39696) FRBs sky^-1 day^-1\n",
      "\t ALFABURST Expected FRB count: 6\n",
      "\t alpha: -0.7 \t max z: 2.5 \t rate: 105241 (+63145 / -52620) FRBs sky^-1 day^-1\n",
      "\t ALFABURST Expected FRB count: 8\n",
      "\t alpha: -0.1 \t max z: 3.2 \t rate: 146806 (+88084 / -73403) FRBs sky^-1 day^-1\n",
      "\t ALFABURST Expected FRB count: 11\n",
      "\t alpha: 0.1 \t max z: 3.6 \t rate: 169553 (+101732 / -84776) FRBs sky^-1 day^-1\n",
      "\t ALFABURST Expected FRB count: 13\n",
      "\t alpha: 0.7 \t max z: 6.7 \t rate: 320457 (+192274 / -160229) FRBs sky^-1 day^-1\n",
      "\t ALFABURST Expected FRB count: 25\n",
      "pulse width: 8 ms (minimum flux density: 44.8 mJy)\n",
      "\t alpha: -2.0 \t max z: 2.1 \t rate: 79393 (+47636 / -39696) FRBs sky^-1 day^-1\n",
      "\t ALFABURST Expected FRB count: 6\n",
      "\t alpha: -1.4 \t max z: 2.4 \t rate: 97089 (+58254 / -48545) FRBs sky^-1 day^-1\n",
      "\t ALFABURST Expected FRB count: 7\n",
      "\t alpha: -0.7 \t max z: 3.0 \t rate: 131404 (+78842 / -65702) FRBs sky^-1 day^-1\n",
      "\t ALFABURST Expected FRB count: 10\n",
      "\t alpha: -0.1 \t max z: 4.0 \t rate: 189331 (+113599 / -94666) FRBs sky^-1 day^-1\n",
      "\t ALFABURST Expected FRB count: 15\n",
      "\t alpha: 0.1 \t max z: 4.6 \t rate: 221543 (+132926 / -110772) FRBs sky^-1 day^-1\n",
      "\t ALFABURST Expected FRB count: 17\n",
      "\t alpha: 0.7 \t max z: 8.0 \t rate: 369805 (+221883 / -184902) FRBs sky^-1 day^-1\n",
      "\t ALFABURST Expected FRB count: 29\n",
      "pulse width: 16 ms (minimum flux density: 31.7 mJy)\n",
      "\t alpha: -2.0 \t max z: 2.3 \t rate: 94212 (+56527 / -47106) FRBs sky^-1 day^-1\n",
      "\t ALFABURST Expected FRB count: 7\n",
      "\t alpha: -1.4 \t max z: 2.7 \t rate: 117190 (+70314 / -58595) FRBs sky^-1 day^-1\n",
      "\t ALFABURST Expected FRB count: 9\n",
      "\t alpha: -0.7 \t max z: 3.5 \t rate: 161906 (+97143 / -80953) FRBs sky^-1 day^-1\n",
      "\t ALFABURST Expected FRB count: 12\n",
      "\t alpha: -0.1 \t max z: 4.9 \t rate: 239019 (+143411 / -119509) FRBs sky^-1 day^-1\n",
      "\t ALFABURST Expected FRB count: 19\n",
      "\t alpha: 0.1 \t max z: 5.8 \t rate: 282676 (+169606 / -141338) FRBs sky^-1 day^-1\n",
      "\t ALFABURST Expected FRB count: 22\n",
      "\t alpha: 0.7 \t max z: 8.0 \t rate: 369805 (+221883 / -184902) FRBs sky^-1 day^-1\n",
      "\t ALFABURST Expected FRB count: 29\n",
      "pulse width: 32 ms (minimum flux density: 22.4 mJy)\n",
      "\t alpha: -2.0 \t max z: 2.6 \t rate: 110985 (+66591 / -55493) FRBs sky^-1 day^-1\n",
      "\t ALFABURST Expected FRB count: 8\n",
      "\t alpha: -1.4 \t max z: 3.1 \t rate: 139373 (+83624 / -69686) FRBs sky^-1 day^-1\n",
      "\t ALFABURST Expected FRB count: 11\n",
      "\t alpha: -0.7 \t max z: 4.1 \t rate: 196622 (+117973 / -98311) FRBs sky^-1 day^-1\n",
      "\t ALFABURST Expected FRB count: 15\n",
      "\t alpha: -0.1 \t max z: 6.1 \t rate: 295457 (+177274 / -147729) FRBs sky^-1 day^-1\n",
      "\t ALFABURST Expected FRB count: 23\n",
      "\t alpha: 0.1 \t max z: 7.5 \t rate: 352158 (+211295 / -176079) FRBs sky^-1 day^-1\n",
      "\t ALFABURST Expected FRB count: 28\n",
      "\t alpha: 0.7 \t max z: 8.0 \t rate: 369805 (+221883 / -184902) FRBs sky^-1 day^-1\n",
      "\t ALFABURST Expected FRB count: 29\n",
      "pulse width: 64 ms (minimum flux density: 15.8 mJy)\n",
      "\t alpha: -2.0 \t max z: 2.9 \t rate: 129990 (+77994 / -64995) FRBs sky^-1 day^-1\n",
      "\t ALFABURST Expected FRB count: 10\n",
      "\t alpha: -1.4 \t max z: 3.5 \t rate: 164615 (+98769 / -82308) FRBs sky^-1 day^-1\n",
      "\t ALFABURST Expected FRB count: 13\n",
      "\t alpha: -0.7 \t max z: 4.8 \t rate: 234713 (+140828 / -117356) FRBs sky^-1 day^-1\n",
      "\t ALFABURST Expected FRB count: 18\n",
      "\t alpha: -0.1 \t max z: 7.7 \t rate: 357948 (+214769 / -178974) FRBs sky^-1 day^-1\n",
      "\t ALFABURST Expected FRB count: 28\n",
      "\t alpha: 0.1 \t max z: 8.0 \t rate: 369805 (+221883 / -184902) FRBs sky^-1 day^-1\n",
      "\t ALFABURST Expected FRB count: 29\n",
      "\t alpha: 0.7 \t max z: 8.0 \t rate: 369805 (+221883 / -184902) FRBs sky^-1 day^-1\n",
      "\t ALFABURST Expected FRB count: 29\n"
     ]
    }
   ],
   "source": [
    "# Determine expected number of detections based on rate per sky, time for current sky,time coverage\n",
    "\n",
    "# From frb_search_volume.ipynb:\n",
    "# Observing time outside the galactic plane (+/-7.0 degrees) = 2175300 s\n",
    "# Total area surveyed = 4.748e+03 sq. deg\n",
    "obsTimeSec = 2175300. # seconds\n",
    "obsTimeDay = obsTimeSec / (24. * 60. * 60.) # days\n",
    "nBeams = 7. # number of beams, for ALFA this is 7\n",
    "beamFWHM = nBeams * (3.5 / 60.) # beam FWHM in degrees\n",
    "areaDeg = np.pi * (beamFWHM/2.)**2. # beam area in deg^2\n",
    "areaInSky = areaDeg / sqDegPerSky # the beam size as a precent of the total sky\n",
    "\n",
    "# 4 * pi steradian in a sphere\n",
    "sqDegPerSky = 4. * np.pi * ((180. / np.pi)**2.)\n",
    "\n",
    "# Event rate based on maximum redshift which can be probed by the sensitivity of ALFABURST\n",
    "for smid, sMinVal in enumerate(sMin):\n",
    "    print 'pulse width: %.0f ms (minimum flux density: %.1f mJy)'%(pulseWidth[smid]/1000., sMinVal*1000.)\n",
    "    for aid, alpha in enumerate(alphas):\n",
    "        idx = idxArr[smid, aid]\n",
    "        print '\\t alpha: %.1f \\t max z: %.1f \\t rate: %.0f (+%.0f / -%0.f) FRBs sky^-1 day^-1'%  \\\n",
    "        (alpha, zArr[idx], expectedRates[idx, 1], expectedRates[idx, 2] - expectedRates[idx, 1], \\\n",
    "         expectedRates[idx, 1] - expectedRates[idx, 0])\n",
    "        print '\\t ALFABURST Expected FRB count: %i'%(int(expectedRates[idx, 1] * areaInSky * obsTimeDay))"
   ]
  },
  {
   "cell_type": "markdown",
   "metadata": {
    "collapsed": true
   },
   "source": [
    "### Sensitivity\n",
    "\n",
    "The RFI clipper will replace individual channels which exceed the channelRejectionRMS and 0-DM summed spectra which exceed spectrumRejectionRMS. For very bright, small DM pulses the RFI clipper will replace channels or spectra. For bright, high DM pulses the spectra wil;l likely not be replaced but individual channels may resulting in a lower detected flux. Note, the RFI clipper only works in the undecimated-in-time case (D=1), that is the sensitivity that we are most concerned about when setting the RFI clipper thresholds.\n",
    "\n",
    "Detected FRBs at L-band range between 200 mJy to a few Jy in flux density, typically on the order of 5-10 milliseconds. For a low DM pulse this results in a maximum integrated pulse (256 us width) flux of ~150 mJy before the pulse is clipped. The maximum detectable flux increases as the square-root of the pulse width."
   ]
  },
  {
   "cell_type": "code",
   "execution_count": 28,
   "metadata": {
    "collapsed": false
   },
   "outputs": [
    {
     "name": "stdout",
     "output_type": "stream",
     "text": [
      "Parameters:\n",
      "\tSEFD: 3.0 Jy\n",
      "\ttRes: 256.0 us\n",
      "\tChannel SNR Threshold: 5.0\n",
      "\tSpectrum SNR Threshold: 6.0\n",
      "\n",
      "Per Channel (109.4 kHz) Sensitivity:\n",
      "D: 1 \t S_min: 2.83 Jy\n",
      "D: 2 \t S_min: 2.00 Jy\n",
      "D: 4 \t S_min: 1.42 Jy\n",
      "D: 8 \t S_min: 1.00 Jy\n",
      "D: 16 \t S_min: 0.71 Jy\n",
      "D: 32 \t S_min: 0.50 Jy\n",
      "D: 64 \t S_min: 0.35 Jy\n",
      "\n",
      "Full Band (56.0 MHz) Sensitivity:\n",
      "D: 1 \t S_min: 150.33 mJy\n",
      "D: 2 \t S_min: 106.30 mJy\n",
      "D: 4 \t S_min: 75.17 mJy\n",
      "D: 8 \t S_min: 53.15 mJy\n",
      "D: 16 \t S_min: 37.58 mJy\n",
      "D: 32 \t S_min: 26.58 mJy\n",
      "D: 64 \t S_min: 18.79 mJy\n",
      "\n",
      "1/16 Band (3.5 MHz) Sensitivity:\n",
      "D: 1 \t S_min: 601.34 mJy\n",
      "\n",
      "1/8 Band (7.0 MHz) Sensitivity:\n",
      "D: 1 \t S_min: 425.21 mJy\n",
      "\n",
      "1/4 Band (14.0 MHz) Sensitivity:\n",
      "D: 1 \t S_min: 300.67 mJy\n",
      "\n",
      "1/2 Band (28.0 MHz) Sensitivity:\n",
      "D: 1 \t S_min: 212.61 mJy\n"
     ]
    }
   ],
   "source": [
    "# Parameters\n",
    "SEFD = 3. # Jy, SEFD of ALFA (main beam)\n",
    "dFactor = np.array([1., 2., 4., 8., 16., 32., 64.]) # decimation factor\n",
    "tRes = 256. # us, ALFABURST spectra time resolution\n",
    "nChan = 512\n",
    "channelRejectionRMS = 5. # RFI clipper channel rejection threshold\n",
    "spectrumRejectionRMS = 6. # RFI clipper spectrum rejection threshold\n",
    "\n",
    "print 'Parameters:'\n",
    "print '\\tSEFD: %.1f Jy'%SEFD\n",
    "print '\\ttRes: %.1f us'%tRes\n",
    "print '\\tChannel SNR Threshold: %.1f'%channelRejectionRMS\n",
    "print '\\tSpectrum SNR Threshold: %.1f'%spectrumRejectionRMS\n",
    "\n",
    "# Per channel sensitivity, assuming uniform sensitivity across the band\n",
    "bw = 56. * 1e6 / nChan # ALFABURST single-channel bandwidth in Hz\n",
    "sMin = SEFD * (channelRejectionRMS / np.sqrt(dFactor * (tRes * 1e-6) * bw)) # Minimum flux density detection\n",
    "print '\\nPer Channel (%.1f kHz) Sensitivity:'%(bw/1e3)\n",
    "for sid in np.arange(sMin.size):\n",
    "    print 'D: %i \\t S_min: %.2f Jy'%(dFactor[sid], sMin[sid])\n",
    "\n",
    "# Full band sensitivity\n",
    "bw = 56. * 1e6 # ALFABURST bandwidth\n",
    "sMin = SEFD * (spectrumRejectionRMS / np.sqrt(dFactor * (tRes * 1e-6) * bw)) # Minimum flux density detection\n",
    "print '\\nFull Band (%.1f MHz) Sensitivity:'%(bw/1e6)\n",
    "for sid in np.arange(sMin.size):\n",
    "    print 'D: %i \\t S_min: %.2f mJy'%(dFactor[sid], sMin[sid]*1000.)\n",
    "\n",
    "dFactor = np.array([1.]) # decimation factor\n",
    "# 1/16 band sensitivity\n",
    "bw = 56. * 1e6 / 16. # 1/16 ALFABURST bandwidth\n",
    "sMin = SEFD * (spectrumRejectionRMS / np.sqrt(dFactor * (tRes * 1e-6) * bw)) # Minimum flux density detection\n",
    "print '\\n1/16 Band (%.1f MHz) Sensitivity:'%(bw/1e6)\n",
    "for sid in np.arange(sMin.size):\n",
    "    print 'D: %i \\t S_min: %.2f mJy'%(dFactor[sid], sMin[sid]*1000.)\n",
    "    \n",
    "# 1/8 band sensitivity\n",
    "bw = 56. * 1e6 / 8. # 1/8 ALFABURST bandwidth\n",
    "sMin = SEFD * (spectrumRejectionRMS / np.sqrt(dFactor * (tRes * 1e-6) * bw)) # Minimum flux density detection\n",
    "print '\\n1/8 Band (%.1f MHz) Sensitivity:'%(bw/1e6)\n",
    "for sid in np.arange(sMin.size):\n",
    "    print 'D: %i \\t S_min: %.2f mJy'%(dFactor[sid], sMin[sid]*1000.)\n",
    "\n",
    "# 1/4 band sensitivity\n",
    "bw = 56. * 1e6 / 4. # 1/4 ALFABURST bandwidth\n",
    "sMin = SEFD * (spectrumRejectionRMS / np.sqrt(dFactor * (tRes * 1e-6) * bw)) # Minimum flux density detection\n",
    "print '\\n1/4 Band (%.1f MHz) Sensitivity:'%(bw/1e6)\n",
    "for sid in np.arange(sMin.size):\n",
    "    print 'D: %i \\t S_min: %.2f mJy'%(dFactor[sid], sMin[sid]*1000.)\n",
    "\n",
    "# 1/2 band sensitivity\n",
    "bw = 56. * 1e6 / 2. # 1/2 ALFABURST bandwidth\n",
    "sMin = SEFD * (spectrumRejectionRMS / np.sqrt(dFactor * (tRes * 1e-6) * bw)) # Minimum flux density detection\n",
    "print '\\n1/2 Band (%.1f MHz) Sensitivity:'%(bw/1e6)\n",
    "for sid in np.arange(sMin.size):\n",
    "    print 'D: %i \\t S_min: %.2f mJy'%(dFactor[sid], sMin[sid]*1000.)"
   ]
  },
  {
   "cell_type": "markdown",
   "metadata": {},
   "source": [
    "Now, we need to consider the pulse DM relation to the maximum flux density before a portion of the pulse is clipped. Rearranging Kramer and Lorimer e.q. 5.1\n",
    "\n",
    "$$\\textrm{DM}_{\\textrm{step}} = \\frac{\\Delta t}{4.15 \\times 10^6 \\; (f_{\\textrm{start}}^{-2} - f_{\\textrm{stop}}^{-2})}$$\n",
    "\n",
    "we can derive the maximum DM before a pulse is not fully contained in the time window $\\Delta t$."
   ]
  },
  {
   "cell_type": "code",
   "execution_count": 61,
   "metadata": {
    "collapsed": false
   },
   "outputs": [],
   "source": [
    "def dmStep(deltat, fStart, fStop):\n",
    "    \"\"\"deltat: ms\n",
    "    fStart: MHz\n",
    "    fStop: MHz\"\"\"\n",
    "    return deltat / (4.15 * (10.**6) * (fStart**(-2.) - fStop**(-2.)))"
   ]
  },
  {
   "cell_type": "markdown",
   "metadata": {},
   "source": [
    "Considering the full 56 MHz band, the maximum DM before part of the pulse is spread into the next time sample is small:"
   ]
  },
  {
   "cell_type": "code",
   "execution_count": 43,
   "metadata": {
    "collapsed": false
   },
   "outputs": [
    {
     "name": "stdout",
     "output_type": "stream",
     "text": [
      "DM Max: 1.80237166756\n"
     ]
    }
   ],
   "source": [
    "print 'DM Max:', dmStep(tRes / 1e3, 1457., 1513.)"
   ]
  },
  {
   "cell_type": "markdown",
   "metadata": {},
   "source": [
    "The maximum DM before the pulse is in a new time sample between every frequency channel is:"
   ]
  },
  {
   "cell_type": "code",
   "execution_count": 45,
   "metadata": {
    "collapsed": false
   },
   "outputs": [
    {
     "name": "stdout",
     "output_type": "stream",
     "text": [
      "0.109375\n",
      "DM Max: 976.592750697\n"
     ]
    }
   ],
   "source": [
    "chanBW = 56. / nChan # ALFABURST single-channel bandwidth in MHz\n",
    "print 'DM Max:', dmStep(tRes / 1e3, 1513.-chanBW, 1513.)"
   ]
  },
  {
   "cell_type": "markdown",
   "metadata": {},
   "source": [
    "A high DM before this extreme case occurs. We can consider the intermediate cases where only a portion of the band is in a single time sample."
   ]
  },
  {
   "cell_type": "code",
   "execution_count": 52,
   "metadata": {
    "collapsed": false
   },
   "outputs": [
    {
     "name": "stdout",
     "output_type": "stream",
     "text": [
      "DM Max (1/64 Band): 121.981433915\n",
      "DM Max (1/32 Band): 60.9377780092\n",
      "DM Max (1/16 Band): 30.4159653997\n",
      "DM Max (1/8 Band): 15.1550898439\n",
      "DM Max (1/4 Band): 7.52471381391\n"
     ]
    }
   ],
   "source": [
    "bw = 56. / 64. # 1/64 ALFABURST bandwidth\n",
    "print 'DM Max (1/64 Band):', dmStep(tRes / 1e3, 1513.-bw, 1513.)\n",
    "\n",
    "bw = 56. / 32. # 1/32 ALFABURST bandwidth\n",
    "print 'DM Max (1/32 Band):', dmStep(tRes / 1e3, 1513.-bw, 1513.)\n",
    "\n",
    "bw = 56. / 16. # 1/16 ALFABURST bandwidth\n",
    "print 'DM Max (1/16 Band):', dmStep(tRes / 1e3, 1513.-bw, 1513.)\n",
    "\n",
    "bw = 56. / 8. # 1/8 ALFABURST bandwidth\n",
    "print 'DM Max (1/8 Band):', dmStep(tRes / 1e3, 1513.-bw, 1513.)\n",
    "\n",
    "bw = 56. / 4. # 1/4 ALFABURST bandwidth\n",
    "print 'DM Max (1/4 Band):', dmStep(tRes / 1e3, 1513.-bw, 1513.)"
   ]
  },
  {
   "cell_type": "markdown",
   "metadata": {},
   "source": [
    "Given the integrated flux and MD on an FRB, assuming the width if the pulse is on the order or smaller than that of the time sample resolution we can compute the integrated flux for a single time sample. Note, if the pulse width is significantly wider than the time sample resolution, the flux per time sample will decrease, allowing for wider pulses to pass the RFI clipper given a fixed integrated flux."
   ]
  },
  {
   "cell_type": "code",
   "execution_count": 80,
   "metadata": {
    "collapsed": false
   },
   "outputs": [
    {
     "name": "stdout",
     "output_type": "stream",
     "text": [
      "Observing at 1513 MHz with 512 channels (109 kHz) an FRB with DM=250 will cover at most 0.427125 MHz (4 channels) per time sample (256 us) \n",
      "This will result in 0.007812 of the total flux (4.000000 Jy), or 31.250000 mJy per time sample\n"
     ]
    }
   ],
   "source": [
    "# Test case for a bright, low DM FRB\n",
    "sPeak = 4. # Jy\n",
    "dm = 250.\n",
    "\n",
    "def maxPartialBWofFRB(deltat, dm, fStop):\n",
    "    \"\"\"returns the maximum bandwidth a portion of a broadband FRB pulse that is contained ina  single time sample\n",
    "    based on the maximum observing frequency, time resolution, and DM of a pulse.\n",
    "    \n",
    "    deltat: ms\n",
    "    dm\n",
    "    fStop: MHz\"\"\"\n",
    "    fStart = ((deltat / (4.15 * (10.**6) * dm)) + fStop**(-2.))**(-0.5)\n",
    "    return fStop - fStart\n",
    "\n",
    "maxFreq = 1513. # MHz\n",
    "chanBW = 56. * 1e3 / nChan\n",
    "maxBW = maxPartialBWofFRB(tRes / 1e3, dm, maxFreq)\n",
    "maxBWchans = int(1. + nChan * maxBW / 56.) # number of channels\n",
    "\n",
    "print 'Observing at %.0f MHz with %i channels (%.0f kHz) an FRB with DM=%.0f will cover at most %f MHz (%i channels) per time sample (%.0f us) '%(maxFreq, nChan, chanBW, dm, maxBW, maxBWchans, tRes) \n",
    "\n",
    "print 'This will result in %f of the total flux (%f Jy), or %f mJy per time sample'%(maxBWchans/float(nChan), sPeak, 1e3*sPeak*(maxBWchans/float(nChan)))"
   ]
  },
  {
   "cell_type": "markdown",
   "metadata": {},
   "source": [
    "Based on this test FRB and the RFI clipper threshold then we do not expect very brigth, low DM (for FRBS) pulses to be clipped by the RFI spectrum clipper. Only if the FRB is extremely bright, and all or most of the channels are clipped by the channel clipper would we expect to clip out and FRB."
   ]
  }
 ],
 "metadata": {
  "kernelspec": {
   "display_name": "Python 2",
   "language": "python",
   "name": "python2"
  },
  "language_info": {
   "codemirror_mode": {
    "name": "ipython",
    "version": 2
   },
   "file_extension": ".py",
   "mimetype": "text/x-python",
   "name": "python",
   "nbconvert_exporter": "python",
   "pygments_lexer": "ipython2",
   "version": "2.7.12"
  }
 },
 "nbformat": 4,
 "nbformat_minor": 2
}
