{
 "cells": [
  {
   "cell_type": "markdown",
   "metadata": {},
   "source": [
    "Using ALFAbuffers.pkl generated with daiyDatProcessing.py, generate a list of evnts basedon SNR, DM, and time range cuts. Also, update ALFAbuffers.pkl with extracted feature data.\n",
    "\n",
    "* Transfer to abc3\n",
    "* get lists of files: `cat snr14_dm50.082017.csv | split -l 1000 - snr14_dm50.`\n",
    "* tarball up: `for f in snr14_dm50.a*; do tar -czf $f.tar.gz --files-from $f; done`"
   ]
  },
  {
   "cell_type": "code",
   "execution_count": null,
   "metadata": {
    "collapsed": true
   },
   "outputs": [],
   "source": [
    "import numpy as np\n",
    "import pandas as pd\n",
    "import datetime"
   ]
  },
  {
   "cell_type": "code",
   "execution_count": null,
   "metadata": {
    "collapsed": true
   },
   "outputs": [],
   "source": [
    "df = pd.read_pickle('/home/griffin/projects/alfaburst-initial-survey/data/ALFAbuffers.082017.pkl')"
   ]
  },
  {
   "cell_type": "code",
   "execution_count": null,
   "metadata": {
    "collapsed": false
   },
   "outputs": [],
   "source": [
    "# SNR > 14, DM > 50\n",
    "snrDf = df.loc[(df['bestSNR'] > 14.) & (df['bestDM'] > 50.)]\n",
    "print len(snrDf)"
   ]
  },
  {
   "cell_type": "code",
   "execution_count": null,
   "metadata": {
    "collapsed": false
   },
   "outputs": [],
   "source": [
    "datfiles = ''\n",
    "fileCnt = 0\n",
    "for idx, row in snrDf.iterrows():\n",
    "    # select data from April 01, 2017 to August 31, 2017\n",
    "    dt = datetime.datetime.strptime(row['TSID'], 'D%Y%m%dT%H%M%S')\n",
    "    if (dt > datetime.datetime(2017, 3, 31, 0, 0, 0) and dt < datetime.datetime(2017, 9, 1, 0, 0, 0)):\n",
    "        prefix = 'Beam%i_fb_%s.buffer%i.d%i.png'%(row['Beam'], row['TSID'], row['Buffer'], row['BinFactor'])\n",
    "        #print row['Beam'], row['TSID'], row['Buffer'], row['BinFactor']\n",
    "        datfiles += prefix + '\\n'\n",
    "        prefix = 'Beam%i_fb_%s.buffer%i.meta.pkl'%(row['Beam'], row['TSID'], row['Buffer'])\n",
    "        #print row['Beam'], row['TSID'], row['Buffer'], row['BinFactor']\n",
    "        datfiles += prefix + '\\n'\n",
    "        fileCnt += 1"
   ]
  },
  {
   "cell_type": "code",
   "execution_count": null,
   "metadata": {
    "collapsed": false
   },
   "outputs": [],
   "source": [
    "print fileCnt"
   ]
  },
  {
   "cell_type": "code",
   "execution_count": null,
   "metadata": {
    "collapsed": false
   },
   "outputs": [],
   "source": [
    "fh = open('snr14_dm50.082017.csv', 'w')\n",
    "fh.write(datfiles)\n",
    "fh.close()"
   ]
  },
  {
   "cell_type": "code",
   "execution_count": null,
   "metadata": {
    "collapsed": false
   },
   "outputs": [],
   "source": [
    "print snrDf.columns"
   ]
  },
  {
   "cell_type": "code",
   "execution_count": null,
   "metadata": {
    "collapsed": false
   },
   "outputs": [],
   "source": [
    "df = pd.read_pickle('/home/griffin/projects/alfaburst-initial-survey/data/ALFAbuffers.082017.pkl')\n",
    "snrDf = df.loc[(df['bestSNR'] >= 14.) & (df['bestDM'] > 50)]\n",
    "print len(snrDf)\n",
    "datfiles = ''\n",
    "fileCnt = 0\n",
    "for idx, row in snrDf.iterrows():\n",
    "    # filter data from Dec 21, 2016 to March 10, 2017\n",
    "    dt = datetime.datetime.strptime(row['TSID'], 'D%Y%m%dT%H%M%S')\n",
    "    if (dt > datetime.datetime(2017, 3, 31, 0, 0, 0) and dt < datetime.datetime(2017, 9, 1, 0, 0, 0)):\n",
    "        prefix = 'Beam%i_fb_%s.buffer%i.d%i.png'%(row['Beam'], row['TSID'], row['Buffer'], row['BinFactor'])\n",
    "        #print row['Beam'], row['TSID'], row['Buffer'], row['BinFactor']\n",
    "        datfiles += prefix + '\\n'\n",
    "        prefix = 'Beam%i_fb_%s.buffer%i.meta.pkl'%(row['Beam'], row['TSID'], row['Buffer'])\n",
    "        #print row['Beam'], row['TSID'], row['Buffer'], row['BinFactor']\n",
    "        datfiles += prefix + '\\n'\n",
    "        fileCnt += 1\n",
    "print fileCnt"
   ]
  },
  {
   "cell_type": "markdown",
   "metadata": {},
   "source": [
    "---"
   ]
  },
  {
   "cell_type": "code",
   "execution_count": null,
   "metadata": {
    "collapsed": false
   },
   "outputs": [],
   "source": [
    "# 14 > SNR > 11, DM > 50\n",
    "snrDf = df.loc[(df['bestSNR'] > 11) & (df['bestSNR'] <= 14) & (df['bestDM'] > 50)]\n",
    "print len(snrDf)"
   ]
  },
  {
   "cell_type": "code",
   "execution_count": null,
   "metadata": {
    "collapsed": true
   },
   "outputs": [],
   "source": [
    "datfiles = ''\n",
    "fileCnt = 0\n",
    "for idx, row in snrDf.iterrows():\n",
    "    # select data from April 01, 2017 to August 31, 2017\n",
    "    dt = datetime.datetime.strptime(row['TSID'], 'D%Y%m%dT%H%M%S')\n",
    "    if (dt > datetime.datetime(2017, 3, 31, 0, 0, 0) and dt < datetime.datetime(2017, 9, 1, 0, 0, 0)):\n",
    "        prefix = 'Beam%i_fb_%s.buffer%i.d%i.png'%(row['Beam'], row['TSID'], row['Buffer'], row['BinFactor'])\n",
    "        #print row['Beam'], row['TSID'], row['Buffer'], row['BinFactor']\n",
    "        datfiles += prefix + '\\n'\n",
    "        prefix = 'Beam%i_fb_%s.buffer%i.meta.pkl'%(row['Beam'], row['TSID'], row['Buffer'])\n",
    "        #print row['Beam'], row['TSID'], row['Buffer'], row['BinFactor']\n",
    "        datfiles += prefix + '\\n'\n",
    "        fileCnt += 1"
   ]
  },
  {
   "cell_type": "code",
   "execution_count": null,
   "metadata": {
    "collapsed": false
   },
   "outputs": [],
   "source": [
    "print fileCnt"
   ]
  },
  {
   "cell_type": "code",
   "execution_count": null,
   "metadata": {
    "collapsed": true
   },
   "outputs": [],
   "source": [
    "fh = open('snr11-14_dm50.082017.csv', 'w')\n",
    "fh.write(datfiles)\n",
    "fh.close()"
   ]
  },
  {
   "cell_type": "code",
   "execution_count": null,
   "metadata": {
    "collapsed": false
   },
   "outputs": [],
   "source": [
    "print snrDf.columns"
   ]
  },
  {
   "cell_type": "code",
   "execution_count": null,
   "metadata": {
    "collapsed": false
   },
   "outputs": [],
   "source": [
    "df = pd.read_pickle('/home/griffin/projects/alfaburst-initial-survey/data/ALFAbuffers.082017.pkl')\n",
    "snrDf = df.loc[(df['bestSNR'] >= 11.) & (df['bestDM'] > 50)]\n",
    "print len(snrDf)\n",
    "datfiles = ''\n",
    "fileCnt = 0\n",
    "for idx, row in snrDf.iterrows():\n",
    "    # filter data from Dec 21, 2016 to March 10, 2017\n",
    "    dt = datetime.datetime.strptime(row['TSID'], 'D%Y%m%dT%H%M%S')\n",
    "    if (dt > datetime.datetime(2017, 3, 31, 0, 0, 0) and dt < datetime.datetime(2017, 9, 1, 0, 0, 0)):\n",
    "        prefix = 'Beam%i_fb_%s.buffer%i.d%i.png'%(row['Beam'], row['TSID'], row['Buffer'], row['BinFactor'])\n",
    "        #print row['Beam'], row['TSID'], row['Buffer'], row['BinFactor']\n",
    "        datfiles += prefix + '\\n'\n",
    "        prefix = 'Beam%i_fb_%s.buffer%i.meta.pkl'%(row['Beam'], row['TSID'], row['Buffer'])\n",
    "        #print row['Beam'], row['TSID'], row['Buffer'], row['BinFactor']\n",
    "        datfiles += prefix + '\\n'\n",
    "        fileCnt += 1\n",
    "print fileCnt"
   ]
  },
  {
   "cell_type": "markdown",
   "metadata": {},
   "source": [
    "---"
   ]
  },
  {
   "cell_type": "code",
   "execution_count": null,
   "metadata": {
    "collapsed": false
   },
   "outputs": [],
   "source": [
    "# 11 > SNR > 10, DM > 50\n",
    "snrDf = df.loc[(df['bestSNR'] >= 10) & (df['bestSNR'] <= 11) & (df['bestDM'] > 50)]\n",
    "print len(snrDf)"
   ]
  },
  {
   "cell_type": "code",
   "execution_count": null,
   "metadata": {
    "collapsed": true
   },
   "outputs": [],
   "source": [
    "datfiles = ''\n",
    "fileCnt = 0\n",
    "for idx, row in snrDf.iterrows():\n",
    "    # select data from April 01, 2017 to August 31, 2017\n",
    "    dt = datetime.datetime.strptime(row['TSID'], 'D%Y%m%dT%H%M%S')\n",
    "    if (dt > datetime.datetime(2017, 3, 31, 0, 0, 0) and dt < datetime.datetime(2017, 9, 1, 0, 0, 0)):\n",
    "        prefix = 'Beam%i_fb_%s.buffer%i.d%i.png'%(row['Beam'], row['TSID'], row['Buffer'], row['BinFactor'])\n",
    "        #print row['Beam'], row['TSID'], row['Buffer'], row['BinFactor']\n",
    "        datfiles += prefix + '\\n'\n",
    "        prefix = 'Beam%i_fb_%s.buffer%i.meta.pkl'%(row['Beam'], row['TSID'], row['Buffer'])\n",
    "        #print row['Beam'], row['TSID'], row['Buffer'], row['BinFactor']\n",
    "        datfiles += prefix + '\\n'\n",
    "        fileCnt += 1"
   ]
  },
  {
   "cell_type": "code",
   "execution_count": null,
   "metadata": {
    "collapsed": false
   },
   "outputs": [],
   "source": [
    "print fileCnt"
   ]
  },
  {
   "cell_type": "code",
   "execution_count": null,
   "metadata": {
    "collapsed": true
   },
   "outputs": [],
   "source": [
    "fh = open('snr10-11_dm50.082017.csv', 'w')\n",
    "fh.write(datfiles)\n",
    "fh.close()"
   ]
  },
  {
   "cell_type": "code",
   "execution_count": null,
   "metadata": {
    "collapsed": false
   },
   "outputs": [],
   "source": [
    "print snrDf.columns"
   ]
  },
  {
   "cell_type": "code",
   "execution_count": null,
   "metadata": {
    "collapsed": false
   },
   "outputs": [],
   "source": [
    "df = pd.read_pickle('/home/griffin/projects/alfaburst-initial-survey/data/ALFAbuffers.082017.pkl')\n",
    "snrDf = df.loc[(df['bestSNR'] >= 10) & (df['bestDM'] > 50)]\n",
    "print len(snrDf)\n",
    "datfiles = ''\n",
    "fileCnt = 0\n",
    "for idx, row in snrDf.iterrows():\n",
    "    # filter data from Dec 21, 2016 to March 10, 2017\n",
    "    dt = datetime.datetime.strptime(row['TSID'], 'D%Y%m%dT%H%M%S')\n",
    "    if (dt > datetime.datetime(2017, 3, 31, 0, 0, 0) and dt < datetime.datetime(2017, 9, 1, 0, 0, 0)):\n",
    "        prefix = 'Beam%i_fb_%s.buffer%i.d%i.png'%(row['Beam'], row['TSID'], row['Buffer'], row['BinFactor'])\n",
    "        #print row['Beam'], row['TSID'], row['Buffer'], row['BinFactor']\n",
    "        datfiles += prefix + '\\n'\n",
    "        prefix = 'Beam%i_fb_%s.buffer%i.meta.pkl'%(row['Beam'], row['TSID'], row['Buffer'])\n",
    "        #print row['Beam'], row['TSID'], row['Buffer'], row['BinFactor']\n",
    "        datfiles += prefix + '\\n'\n",
    "        fileCnt += 1\n",
    "print fileCnt"
   ]
  }
 ],
 "metadata": {
  "kernelspec": {
   "display_name": "Python 2",
   "language": "python",
   "name": "python2"
  },
  "language_info": {
   "codemirror_mode": {
    "name": "ipython",
    "version": 2
   },
   "file_extension": ".py",
   "mimetype": "text/x-python",
   "name": "python",
   "nbconvert_exporter": "python",
   "pygments_lexer": "ipython2",
   "version": "2.7.12"
  }
 },
 "nbformat": 4,
 "nbformat_minor": 2
}
