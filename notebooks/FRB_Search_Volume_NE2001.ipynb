{
 "cells": [
  {
   "cell_type": "markdown",
   "metadata": {
    "deletable": true,
    "editable": true
   },
   "source": [
    "### FRB Search Volume\n",
    "\n",
    "Given a DM limit of an FRB search, compute the search volume of the ALFABURST survey.\n",
    "\n",
    "Dependency: NE2001\n",
    "\n",
    "Adapted from code by Jayanth Chennamangalam and Evan Keane (calcfrbvol.py)\n",
    "\n",
    "**Assumptions:**\n",
    "1. All FRBs originate outside the Galaxy\n",
    "2. There exists a constant electron density in the IGM (Ioka 2003 and Inoue 2004)\n",
    "3. Distances are cosmological, $d(z) = \\frac{c \\cdot z}{H_0}$\n",
    "4. The number density of galaxies is $n_{\\textrm{gal}} = \\frac{0.01}{\\textrm{Mpc}^{3}}$\n",
    "5. The host galaxy provides a DM of 100\n",
    "6. Using a constant z to DM relation of $z = \\frac{\\textrm{DM}}{1200}$\n",
    "7. FRBs are flat spectrum, standard candles"
   ]
  },
  {
   "cell_type": "code",
   "execution_count": 1,
   "metadata": {
    "collapsed": false,
    "deletable": true,
    "editable": true
   },
   "outputs": [],
   "source": [
    "import numpy as np\n",
    "import matplotlib.pyplot as plt\n",
    "import pandas as pd\n",
    "import astropy.units\n",
    "from astropy.coordinates import SkyCoord\n",
    "import scipy.integrate\n",
    "import subprocess\n",
    "\n",
    "%matplotlib inline"
   ]
  },
  {
   "cell_type": "code",
   "execution_count": 2,
   "metadata": {
    "collapsed": false,
    "deletable": true,
    "editable": true
   },
   "outputs": [
    {
     "name": "stdout",
     "output_type": "stream",
     "text": [
      "Beam Width: 0.408333 deg (0.007127 rad)\n",
      "Beam Area: 0.130954 deg^2 (0.000040 str)\n"
     ]
    }
   ],
   "source": [
    "# Parameters\n",
    "dmMax = 10000. # Dispersion measure limit of search in cm^-3 pc\n",
    "dmHost = 100. # Assume DM=100 component from source, this asusmption is that the source is embedded in a galaxy\n",
    "\n",
    "cognizeLog = '../data/cognize.pkl'\n",
    "#gal_cut = 7. # Cut points +/- degrees around the galactic plane\n",
    "gal_cut = None\n",
    "\n",
    "nBeams = 7. # number of beams, for ALFA this is 7\n",
    "beamFWHM = (nBeams * (3.5 / 60.)) * np.pi/180. # beam FWHM in radians\n",
    "print 'Beam Width: %f deg (%f rad)'%(beamFWHM * 180./np.pi, beamFWHM)\n",
    "\n",
    "beamArea = np.pi * (beamFWHM/2.)**2. # beam area in steradians\n",
    "print 'Beam Area: %f deg^2 (%f str)'%(beamArea * ((180./np.pi)**2.), beamArea)\n",
    "\n",
    "nGalaxies = 1e-2 # number density of galaxies, Mpc^-3"
   ]
  },
  {
   "cell_type": "code",
   "execution_count": 3,
   "metadata": {
    "collapsed": true,
    "deletable": true,
    "editable": true
   },
   "outputs": [],
   "source": [
    "# Constants\n",
    "deg2rad = np.pi / 180.\n",
    "rad2deg = 180. / np.pi\n",
    "Gpc32Mpc3 = 1e9 # convert Gpc^3 to Mpc^3"
   ]
  },
  {
   "cell_type": "code",
   "execution_count": 4,
   "metadata": {
    "collapsed": true,
    "deletable": true,
    "editable": true
   },
   "outputs": [],
   "source": [
    "def coMovingDist(z):\n",
    "    \"\"\"Co-moving distance in Gpc, Eq. 3 from Lorimer et al. 2013\n",
    "    z: float, redshift\n",
    "    \"\"\"\n",
    "    c = 299792.458 # km s^-1\n",
    "    H0 = 68. # km s^-1 Mpc^-1\n",
    "    OmegaM = 0.32\n",
    "    OmegaLambda = 0.68\n",
    "    \n",
    "    integrand = lambda zp: 1. / np.sqrt(OmegaM * ((1. + zp)**3.) + OmegaLambda)\n",
    "    dd, err = scipy.integrate.quad(integrand, 0., z)\n",
    "    return ((c/H0) * dd) * 1e-3"
   ]
  },
  {
   "cell_type": "code",
   "execution_count": 5,
   "metadata": {
    "collapsed": false,
    "deletable": true,
    "editable": true
   },
   "outputs": [],
   "source": [
    "# Load pandas dataframe from cognize log to get (RA, Dec) and integration time\n",
    "df = pd.read_pickle(cognizeLog)"
   ]
  },
  {
   "cell_type": "code",
   "execution_count": 6,
   "metadata": {
    "collapsed": false,
    "deletable": true,
    "editable": true
   },
   "outputs": [
    {
     "name": "stdout",
     "output_type": "stream",
     "text": [
      "Total observation time: 3830640 seconds\n"
     ]
    }
   ],
   "source": [
    "activeObs = df[df.status==1] # select log of active observations\n",
    "\n",
    "# NOTE:only using the central beam\n",
    "# RA in hours, DEC in degrees and flipped\n",
    "ra0 = activeObs['RA0'].values * (15. * np.pi / 180.) # Hours to radians\n",
    "dec0 = (activeObs['DEC0'].values * (np.pi / 180.) ) # Degrees to radians\n",
    "tint = activeObs['tint'].values # integration time in seconds\n",
    "\n",
    "totalObsTime = np.sum(tint)\n",
    "print 'Total observation time: %i seconds'%(totalObsTime)\n",
    "\n",
    "# Convert (RA, Dec) to Galactic (lat, long)\n",
    "coords = SkyCoord(ra=ra0 * astropy.units.rad, dec=dec0 * astropy.units.rad, frame='icrs')\n",
    "gall = coords.galactic.l.degree\n",
    "galb = coords.galactic.b.degree\n",
    "\n",
    "# cut out a galactic plane strip\n",
    "galCutObsTime = totalObsTime\n",
    "if gal_cut is not None:\n",
    "    idx = np.argwhere(np.abs(galb) > gal_cut)\n",
    "    gall = gall[idx].flatten()\n",
    "    galb = galb[idx].flatten()\n",
    "    tint = tint[idx].flatten()\n",
    "\n",
    "    galCutObsTime = np.sum(tint)\n",
    "    print 'Galaxy Cut Observation time: %i seconds'%(galCutObsTime)"
   ]
  },
  {
   "cell_type": "code",
   "execution_count": 7,
   "metadata": {
    "collapsed": false,
    "deletable": true,
    "editable": true
   },
   "outputs": [],
   "source": [
    "# NE2001 Setup\n",
    "NE2001root = \"/home/griffin/projects/NE2001/\" # HARDCODE\n",
    "NE2001bin = NE2001root + \"bin.NE2001/NE2001\"\n",
    "NE2001inp = NE2001root + \"input.NE2001/\"\n",
    "tailProcs = \"| tr -s ' ' | sed 's/^[ \\t]*//'\"\n",
    "# Choose some large distance outside the Galaxy, so that NE2001 returns the\n",
    "# DM for the entire line-of-sight within the Galaxy\n",
    "distBound = 100. # kpc\n",
    "dirDist2DM = \"-1\" # direction: distance to DM\n",
    "dirDM2Dist = \"1\" # direction: DM to distance"
   ]
  },
  {
   "cell_type": "code",
   "execution_count": 8,
   "metadata": {
    "collapsed": false,
    "deletable": true,
    "editable": true
   },
   "outputs": [
    {
     "name": "stdout",
     "output_type": "stream",
     "text": [
      "Pointings: 63844\n",
      "0\n",
      "1000\n",
      "2000\n",
      "3000\n",
      "4000\n",
      "5000\n",
      "6000\n",
      "7000\n",
      "8000\n",
      "9000\n",
      "10000\n",
      "11000\n",
      "12000\n",
      "13000\n",
      "14000\n",
      "15000\n",
      "16000\n",
      "17000\n",
      "18000\n",
      "19000\n",
      "20000\n",
      "21000\n",
      "22000\n",
      "23000\n",
      "24000\n",
      "25000\n",
      "26000\n",
      "27000\n",
      "28000\n",
      "29000\n",
      "30000\n",
      "31000\n",
      "32000\n",
      "33000\n",
      "34000\n",
      "35000\n",
      "36000\n",
      "37000\n",
      "38000\n",
      "39000\n",
      "40000\n",
      "41000\n",
      "42000\n",
      "43000\n",
      "44000\n",
      "45000\n",
      "46000\n",
      "47000\n",
      "48000\n",
      "49000\n",
      "50000\n",
      "51000\n",
      "52000\n",
      "53000\n",
      "54000\n",
      "55000\n",
      "56000\n",
      "57000\n",
      "58000\n",
      "59000\n",
      "60000\n",
      "61000\n",
      "62000\n",
      "63000\n"
     ]
    }
   ],
   "source": [
    "# initialization\n",
    "nGalSurvey = 0. # number of galaxies in the survey\n",
    "volSurvey = 0. # volume of surveyed universe\n",
    "areaSurvey = 0. # area of sky surveyed\n",
    "zVals = [] # distance in z calculated from the NE2001 model based on the maximum DM search\n",
    "\n",
    "#for l,b in zip(gall[:10],galb[:10]):\n",
    "print 'Pointings:', gall.shape[0]\n",
    "for cnt,(l,b) in enumerate(zip(gall,galb)):\n",
    "    if cnt % 1000 == 0: print cnt\n",
    "    # Calculate the galactic DM for each poiinting\n",
    "    # build NE2001 command string\n",
    "    cmd = \" \".join(('cd %s;'%NE2001inp, NE2001bin, str(l), str(b), str(distBound), dirDist2DM, tailProcs))\n",
    "    outputBuffer = subprocess.check_output(cmd, shell=True, universal_newlines=True, cwd=NE2001inp) # run NE2001 command\n",
    "    cols = outputBuffer.split(\"\\n\")[7].split(\" \") # get the 7th line\n",
    "    dmGal = float(cols[0]) # galactic DM\n",
    "    dmGal = 50.\n",
    "    \n",
    "    dmDiff = dmMax - (dmGal + dmHost) # > 0 if there is excess DM outside the host and our galaxy\n",
    "    if dmDiff > 0.:\n",
    "        zz = dmDiff / 1200. # calculate the distance in z to the source using the relation DM ~ 1200 z cm^-3 pc\n",
    "        # for z <= 2 (Lorimer et al. 2007), based on Ioka (2003) and Inoue (2004)\n",
    "        \n",
    "        zVals.append(zz)\n",
    "        \n",
    "        dd = coMovingDist(zz) # compute the Hubble distance, in Gpc\n",
    "        \n",
    "        # Volume, assuming a cone, V = pi r^2 h / 3, where r = dd theta / 2 (small angle approximation), and h = dd\n",
    "        # this ignores any sensitivity beyond the beam FWHM\n",
    "        vol = (np.pi * ((dd * (beamFWHM/2.))**2.) * dd) / 3.\n",
    "        vol *= Gpc32Mpc3 # convert from Gpc^3 to Mpc^3\n",
    "        nGal = vol * nGalaxies  # number of galaxies in volume\n",
    "        \n",
    "        nGalSurvey += nGal\n",
    "        volSurvey += vol\n",
    "        areaSurvey += beamArea\n",
    "\n",
    "zVals = np.array(zVals)\n",
    "zMin = np.min(zVals)\n",
    "zMax = np.max(zVals)\n",
    "zMean = np.mean(zVals)"
   ]
  },
  {
   "cell_type": "code",
   "execution_count": 10,
   "metadata": {
    "collapsed": false,
    "deletable": true,
    "editable": true
   },
   "outputs": [
    {
     "name": "stdout",
     "output_type": "stream",
     "text": [
      "Total time observing = 3830640 s\n",
      "Total volume surveyed = 6.309e+02 Gpc^3 = 6.309e+11 Mpc^3\n",
      "Total area surveyed = 2.547e+00 sq. deg.\n",
      "z (max = 8.208, min = 8.208, mean = 8.208)\n",
      "Total number of galaxies (assuming n = 0.010 Mpc^-3) = 6309459400.750\n",
      "9.05815352418\n",
      "9882619.19797\n",
      "98826.1919797\n"
     ]
    }
   ],
   "source": [
    "print \"Total time observing = %i s\"%(totalObsTime)\n",
    "#print \"Observing time outside the galactic plane (+/-%.1f degrees) = %i s\"%(gal_cut, galCutObsTime)\n",
    "print \"Total volume surveyed = %2.3e Gpc^3\" % (volSurvey / Gpc32Mpc3), \"= %2.3e Mpc^3\" % volSurvey\n",
    "print \"Total area surveyed = %2.3e sq. deg.\" % areaSurvey\n",
    "print \"z (max = %2.3f, min = %2.3f, mean = %2.3f)\" % (zMax, zMin, zMean)\n",
    "print \"Total number of galaxies (assuming n = %2.3f\" % nGalaxies, \"Mpc^-3) = %2.3f\" % nGalSurvey\n",
    "print dd\n",
    "print vol\n",
    "print nGal"
   ]
  }
 ],
 "metadata": {
  "kernelspec": {
   "display_name": "Python 2",
   "language": "python",
   "name": "python2"
  },
  "language_info": {
   "codemirror_mode": {
    "name": "ipython",
    "version": 2
   },
   "file_extension": ".py",
   "mimetype": "text/x-python",
   "name": "python",
   "nbconvert_exporter": "python",
   "pygments_lexer": "ipython2",
   "version": "2.7.12"
  }
 },
 "nbformat": 4,
 "nbformat_minor": 2
}
