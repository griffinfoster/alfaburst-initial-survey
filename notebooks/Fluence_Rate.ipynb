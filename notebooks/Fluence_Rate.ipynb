{
 "cells": [
  {
   "cell_type": "markdown",
   "metadata": {
    "deletable": true,
    "editable": true
   },
   "source": [
    "## Fluence Rate"
   ]
  },
  {
   "cell_type": "code",
   "execution_count": 1,
   "metadata": {
    "collapsed": true,
    "deletable": true,
    "editable": true
   },
   "outputs": [],
   "source": [
    "import numpy as np\n",
    "import matplotlib.pyplot as plt\n",
    "#import seaborn as sns\n",
    "import datetime\n",
    "from matplotlib import rc\n",
    "\n",
    "%matplotlib inline\n",
    "rc('text', usetex=True)\n",
    "plt.rcParams['figure.figsize'] = (5.5, 4)"
   ]
  },
  {
   "cell_type": "code",
   "execution_count": 2,
   "metadata": {
    "collapsed": true,
    "deletable": true,
    "editable": true
   },
   "outputs": [],
   "source": [
    "#sns.set()\n",
    "#sns.set_context(\"paper\")"
   ]
  },
  {
   "cell_type": "markdown",
   "metadata": {
    "deletable": true,
    "editable": true
   },
   "source": [
    "Computed using Keane and Petroff 2014"
   ]
  },
  {
   "cell_type": "code",
   "execution_count": 3,
   "metadata": {
    "collapsed": true,
    "deletable": true,
    "editable": true
   },
   "outputs": [],
   "source": [
    "# From Minimum flux density detection, based on radiometer equation\n",
    "SEFD = 3. # Jy, SEFD of ALFA (main beam)\n",
    "threshold = 10. # SNR threshold of detection pipeline\n",
    "pulseWidth = 2.**(np.arange(0,7)) * 256. # us, expected pulse width\n",
    "#pulseWidth = np.array([256., 1024., 4096., 4.*4096]) # us, expected pulse width\n",
    "tRes = 256. # us, ALFABURST spectra time resolution\n",
    "dFactor = pulseWidth / tRes# decimation factor\n",
    "bw = 56. * 1e6 # ALFABURST effective bandwidth in Hz\n",
    "#bw = 6. * 56. * 1e6 # ALFABURST effective bandwidth in Hz\n",
    "sMin = SEFD * (threshold / np.sqrt(dFactor * (tRes * 1e-6) * bw))"
   ]
  },
  {
   "cell_type": "code",
   "execution_count": 4,
   "metadata": {
    "collapsed": false,
    "deletable": true,
    "editable": true
   },
   "outputs": [
    {
     "name": "stdout",
     "output_type": "stream",
     "text": [
      "\t 250.6 mJy for a pulse width of 256 us\n",
      "\t 177.2 mJy for a pulse width of 512 us\n",
      "\t 125.3 mJy for a pulse width of 1024 us\n",
      "\t 88.6 mJy for a pulse width of 2048 us\n",
      "\t 62.6 mJy for a pulse width of 4096 us\n",
      "\t 44.3 mJy for a pulse width of 8192 us\n",
      "\t 31.3 mJy for a pulse width of 16384 us\n"
     ]
    }
   ],
   "source": [
    "for sMinVal, pwVal in zip(sMin, pulseWidth):\n",
    "    print '\\t %.1f mJy for a pulse width of %.0f us'%(sMinVal*1000., pwVal)"
   ]
  },
  {
   "cell_type": "code",
   "execution_count": 5,
   "metadata": {
    "collapsed": false,
    "deletable": true,
    "editable": true
   },
   "outputs": [
    {
     "name": "stdout",
     "output_type": "stream",
     "text": [
      "[   32.    64.   128.   256.   512.  1024.  2048.]\n"
     ]
    }
   ],
   "source": [
    "sMax = 32. * 2.**(np.arange(0,7)) # Jy, the conservative RFI clipper upper limit\n",
    "print sMax"
   ]
  },
  {
   "cell_type": "code",
   "execution_count": 6,
   "metadata": {
    "collapsed": true,
    "deletable": true,
    "editable": true
   },
   "outputs": [],
   "source": [
    "from matplotlib.patches import Polygon\n",
    "from matplotlib.collections import PatchCollection"
   ]
  },
  {
   "cell_type": "code",
   "execution_count": 9,
   "metadata": {
    "collapsed": false,
    "deletable": true,
    "editable": true
   },
   "outputs": [
    {
     "data": {
      "image/png": "[encoded data removed]",
      "text/plain": [
       "<matplotlib.figure.Figure at 0x7ff022b42590>"
      ]
     },
     "metadata": {},
     "output_type": "display_data"
    }
   ],
   "source": [
    "fig, ax = plt.subplots()\n",
    "\n",
    "patches = []\n",
    "\n",
    "# ALFABURST sensitivty range\n",
    "polygon = Polygon(np.array([[256., 250.6], [16384., 31.3], [16384., 2048.*1000.], [256., 32.*1000.]])/1000., True)\n",
    "patches.append(polygon)\n",
    "\n",
    "# region of possible RFI clipping\n",
    "polygon = Polygon(np.array([[256., 32.*1000.], [16384., 2048.*1000.], [256., 2048.*1000.]])/1000., True)\n",
    "patches.append(polygon)\n",
    "\n",
    "# wide pulse region that see a loss in SNR due to maximum time binning\n",
    "polygon = Polygon(np.array([[16384., 31.3], [16384. + 8006., 2048.*1000.], [16384., 2048.*1000.]])/1000., True)\n",
    "patches.append(polygon)\n",
    "\n",
    "#colors = 100*np.random.rand(len(patches))\n",
    "#print colors\n",
    "colors = [40., 80., 40.]\n",
    "p = PatchCollection(patches, alpha=0.4)\n",
    "p.set_array(np.array(colors))\n",
    "ax.add_collection(p)\n",
    "\n",
    "# constant fluence lines\n",
    "widthRange = np.logspace(-1, 2, num=20) # ms\n",
    "fluenceRange = [0.1, 1., 10., 100.] # Jy ms\n",
    "for flu in fluenceRange:\n",
    "    sens = flu / widthRange\n",
    "    plt.plot(widthRange, sens, 'k', alpha=0.5)\n",
    "    if flu < 1.: plt.text(6., sens[-9], '%.1f Jy ms'%flu, rotation=-20)\n",
    "    else: plt.text(6., sens[-9], '%.0f Jy ms'%flu, rotation=-20)\n",
    "\n",
    "# detected FRBs\n",
    "FRBdict = {\n",
    "    'FRB010125': {'width':9.40, 'speak':0.30, 'telescope':'parkes'},\n",
    "    'FRB010621': {'width':7.00, 'speak':0.41, 'telescope':'parkes'}, \n",
    "    'FRB010724': {'width':5.00, 'speak':30.0, 'telescope':'parkes'},\n",
    "    'FRB090625': {'width':1.92, 'speak':1.14, 'telescope':'parkes'},\n",
    "    'FRB110220': {'width':5.60, 'speak':1.30, 'telescope':'parkes'},\n",
    "    'FRB110523': {'width':1.73, 'speak':0.60, 'telescope':'gbt'},\n",
    "    'FRB110626': {'width':1.40, 'speak':0.40, 'telescope':'parkes'},  \n",
    "    'FRB110703': {'width':4.30, 'speak':0.50, 'telescope':'parkes'},  \n",
    "    'FRB120127': {'width':1.10, 'speak':0.50, 'telescope':'parkes'},  \n",
    "    'FRB121002': {'width':5.44, 'speak':0.43, 'telescope':'arecibo'},\n",
    "    'FRB121102': {'width':3.00, 'speak':0.40, 'telescope':'parkes'},\n",
    "    'FRB130626': {'width':1.98, 'speak':0.74, 'telescope':'parkes'},\n",
    "    'FRB130628': {'width':0.64, 'speak':1.91, 'telescope':'parkes'},\n",
    "    'FRB130729': {'width':15.61, 'speak':0.22, 'telescope':'parkes'},\n",
    "    'FRB131104': {'width':2.08, 'speak':1.12, 'telescope':'parkes'},\n",
    "    'FRB140514': {'width':2.80, 'speak':0.47, 'telescope':'parkes'},\n",
    "    'FRB150215': {'width':2.80, 'speak':0.70, 'telescope':'parkes'},\n",
    "    'FRB150418': {'width':0.83, 'speak':2.19, 'telescope':'parkes'},\n",
    "    'FRB150807': {'width':0.35, 'speak':128., 'telescope':'parkes'},\n",
    "    'FRB160317': {'width':21.0, 'speak':3.00, 'telescope':'utmost'},\n",
    "    'FRB160410': {'width':4.00, 'speak':7.00, 'telescope':'utmost'},\n",
    "    'FRB160608': {'width':9.00, 'speak':4.30, 'telescope':'utmost'},\n",
    "    'FRB170107': {'width':2.60, 'speak':22.3, 'telescope':'askap'}\n",
    "}\n",
    "for key in FRBdict:\n",
    "    if FRBdict[key]['telescope'].startswith('gbt'):\n",
    "        plt.scatter(FRBdict[key]['width'], FRBdict[key]['speak'], c='firebrick', marker='o')\n",
    "    elif FRBdict[key]['telescope'].startswith('arecibo'):\n",
    "        plt.scatter(FRBdict[key]['width'], FRBdict[key]['speak'], c='w', marker='D')\n",
    "    elif FRBdict[key]['telescope'].startswith('utmost'):\n",
    "        #plt.scatter(FRBdict[key]['width'], FRBdict[key]['speak'], c='teal', marker='p')\n",
    "        plt.scatter(FRBdict[key]['width'], FRBdict[key]['speak'], c='greenyellow', marker='p')\n",
    "    elif FRBdict[key]['telescope'].startswith('askap'):\n",
    "        plt.scatter(FRBdict[key]['width'], FRBdict[key]['speak'], c='g', marker='H')\n",
    "    elif FRBdict[key]['telescope'].startswith('parkes'):\n",
    "        plt.scatter(FRBdict[key]['width'], FRBdict[key]['speak'], c='k', marker='^')\n",
    "\n",
    "ax.set_xscale(\"log\")\n",
    "ax.set_yscale(\"log\")\n",
    "plt.ylim(0.01, 200.)\n",
    "plt.xlim(0.2, 30.)\n",
    "\n",
    "plt.ylabel('Peak Flux Density $S_{peak}$ (Jy)')\n",
    "plt.xlabel('Pulse Width (ms)')\n",
    "\n",
    "plt.tight_layout()\n",
    "plt.savefig('fluence_rate.pdf')"
   ]
  }
 ],
 "metadata": {
  "kernelspec": {
   "display_name": "Python 2",
   "language": "python",
   "name": "python2"
  },
  "language_info": {
   "codemirror_mode": {
    "name": "ipython",
    "version": 2
   },
   "file_extension": ".py",
   "mimetype": "text/x-python",
   "name": "python",
   "nbconvert_exporter": "python",
   "pygments_lexer": "ipython2",
   "version": "2.7.12"
  }
 },
 "nbformat": 4,
 "nbformat_minor": 2
}
