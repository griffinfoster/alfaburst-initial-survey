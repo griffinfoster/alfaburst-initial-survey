{
 "cells": [
  {
   "cell_type": "markdown",
   "metadata": {
    "deletable": true,
    "editable": true
   },
   "source": [
    "### FRB Search Volume\n",
    "\n",
    "Given a DM limit of an FRB search, compute the search volume of the ALFABURST survey. This is a simplified version to the FRB search volume notebook which uses the NE2001 model. We assume here that we are sensitivity rather than maximum DM limited.\n",
    "\n",
    "Adapted from code by Jayanth Chennamangalam and Evan Keane (calcfrbvol.py)\n",
    "\n",
    "**Assumptions:**\n",
    "1. All FRBs originate outside the Galaxy\n",
    "2. There exists a constant electron density in the IGM (Ioka 2003 and Inoue 2004)\n",
    "3. Distances are cosmological, $d(z) = \\frac{c \\cdot z}{H_0}$\n",
    "4. The number density of galaxies is $n_{\\textrm{gal}} = \\frac{0.01}{\\textrm{Mpc}^{3}}$\n",
    "5. The host galaxy provides a DM of 100\n",
    "6. Using a constant z to DM relation of $z = \\frac{\\textrm{DM}}{1200}$\n",
    "7. FRBs are flat spectrum, standard candles\n",
    "8. The maximum DM search is sufficiently large that the galactic DM contribution is small enough that our search volume is sensitivity limited rather than DM limited. True for searches where the maximum DM is 4000+."
   ]
  },
  {
   "cell_type": "code",
   "execution_count": 5,
   "metadata": {
    "collapsed": false,
    "deletable": true,
    "editable": true
   },
   "outputs": [],
   "source": [
    "import numpy as np\n",
    "import matplotlib.pyplot as plt\n",
    "import pandas as pd\n",
    "import astropy.units\n",
    "from astropy.coordinates import SkyCoord\n",
    "import scipy.integrate\n",
    "\n",
    "%matplotlib inline"
   ]
  },
  {
   "cell_type": "code",
   "execution_count": 12,
   "metadata": {
    "collapsed": false,
    "deletable": true,
    "editable": true
   },
   "outputs": [
    {
     "name": "stdout",
     "output_type": "stream",
     "text": [
      "Beam Area: 0.006874 deg^2 (0.000002 str)\n",
      "Beam Area: 0.009537 deg^2 (0.000003 str)\n",
      "Beam Area: 0.012154 deg^2 (0.000004 str)\n",
      "Beam Area: 0.014854 deg^2 (0.000005 str)\n",
      "Beam Area: 0.017651 deg^2 (0.000005 str)\n",
      "Beam Area: 0.020481 deg^2 (0.000006 str)\n",
      "Beam Area: 0.023479 deg^2 (0.000007 str)\n",
      "Beam Area: 0.026497 deg^2 (0.000008 str)\n",
      "Beam Area: 0.029938 deg^2 (0.000009 str)\n",
      "Beam Area: 0.033611 deg^2 (0.000010 str)\n",
      "Beam Area: 0.036877 deg^2 (0.000011 str)\n",
      "Beam Area: 0.040058 deg^2 (0.000012 str)\n",
      "Beam Area: 0.043480 deg^2 (0.000013 str)\n",
      "Beam Area: 0.047653 deg^2 (0.000015 str)\n",
      "Beam Area: 0.051567 deg^2 (0.000016 str)\n",
      "Beam Area: 0.055950 deg^2 (0.000017 str)\n",
      "Beam Area: 0.059990 deg^2 (0.000018 str)\n",
      "Beam Area: 0.064880 deg^2 (0.000020 str)\n",
      "Beam Area: 0.072632 deg^2 (0.000022 str)\n",
      "Beam Area: 0.081589 deg^2 (0.000025 str)\n",
      "Beam Area: 0.091003 deg^2 (0.000028 str)\n",
      "Beam Area: 0.100201 deg^2 (0.000031 str)\n",
      "Beam Area: 0.107491 deg^2 (0.000033 str)\n",
      "Beam Area: 0.112667 deg^2 (0.000034 str)\n",
      "Beam Area: 0.116859 deg^2 (0.000036 str)\n",
      "Beam Area: 0.120441 deg^2 (0.000037 str)\n",
      "Beam Area: 0.123051 deg^2 (0.000037 str)\n",
      "Beam Area: 0.125336 deg^2 (0.000038 str)\n",
      "Beam Area: 0.127274 deg^2 (0.000039 str)\n",
      "Beam Area: 0.128761 deg^2 (0.000039 str)\n",
      "Beam Area: 0.130314 deg^2 (0.000040 str)\n",
      "Beam Area: 0.131710 deg^2 (0.000040 str)\n",
      "Beam Area: 0.133156 deg^2 (0.000041 str)\n",
      "Beam Area: 0.134441 deg^2 (0.000041 str)\n",
      "Beam Area: 0.135818 deg^2 (0.000041 str)\n",
      "Beam Area: 0.137012 deg^2 (0.000042 str)\n",
      "Beam Area: 0.138309 deg^2 (0.000042 str)\n",
      "Beam Area: 0.139534 deg^2 (0.000043 str)\n",
      "Beam Area: 0.140648 deg^2 (0.000043 str)\n",
      "Beam Area: 0.141823 deg^2 (0.000043 str)\n",
      "Beam Area: 0.142975 deg^2 (0.000044 str)\n",
      "Beam Area: 0.144062 deg^2 (0.000044 str)\n",
      "Beam Area: 0.145229 deg^2 (0.000044 str)\n",
      "Beam Area: 0.146282 deg^2 (0.000045 str)\n",
      "Beam Area: 0.147400 deg^2 (0.000045 str)\n",
      "Beam Area: 0.148342 deg^2 (0.000045 str)\n",
      "Beam Area: 0.149437 deg^2 (0.000046 str)\n",
      "Beam Area: 0.150482 deg^2 (0.000046 str)\n",
      "Beam Area: 0.151382 deg^2 (0.000046 str)\n",
      "Beam Area: 0.152458 deg^2 (0.000046 str)\n",
      "Beam Area: 0.153393 deg^2 (0.000047 str)\n",
      "Beam Area: 0.154346 deg^2 (0.000047 str)\n",
      "Beam Area: 0.155369 deg^2 (0.000047 str)\n",
      "Beam Area: 0.156269 deg^2 (0.000048 str)\n",
      "Beam Area: 0.157173 deg^2 (0.000048 str)\n",
      "Beam Area: 0.158176 deg^2 (0.000048 str)\n",
      "Beam Area: 0.159058 deg^2 (0.000048 str)\n",
      "Beam Area: 0.159901 deg^2 (0.000049 str)\n",
      "Beam Area: 0.160851 deg^2 (0.000049 str)\n",
      "Beam Area: 0.161732 deg^2 (0.000049 str)\n",
      "Beam Area: 0.162579 deg^2 (0.000050 str)\n",
      "Beam Area: 0.163483 deg^2 (0.000050 str)\n",
      "Beam Area: 0.164318 deg^2 (0.000050 str)\n",
      "Beam Area: 0.165123 deg^2 (0.000050 str)\n"
     ]
    }
   ],
   "source": [
    "nGalaxies = 1e-2 # number density of galaxies, Mpc^-3\n",
    "\n",
    "# beam size from ALFA_Beam_Response.ipynb\n",
    "beamArea =  np.array([0.00687408,  0.00953674,  0.01215363,  0.01485443,  0.0176506 ,  0.02048111,\n",
    "                      0.02347946,  0.02649689,  0.02993774,  0.0336113 ,  0.03687668,  0.04005814,\n",
    "                      0.04347992,  0.0476532 ,  0.05156708,  0.05595016,  0.05998993,  0.06488037,\n",
    "                      0.07263184,  0.08158875,  0.09100342,  0.10020065,  0.10749054,  0.11266708,\n",
    "                      0.11685944,  0.12044144,  0.12305069,  0.12533569,  0.12727356,  0.12876129,\n",
    "                      0.13031387,  0.13171005,  0.13315582,  0.13444138,  0.13581848,  0.13701248,\n",
    "                      0.13830948,  0.139534  ,  0.14064789,  0.14182281,  0.14297485,  0.14406204,\n",
    "                      0.14522934,  0.1462822 ,  0.1473999 ,  0.14834213,  0.14943695,  0.15048218,\n",
    "                      0.15138245,  0.15245819,  0.15339279,  0.15434647,  0.1553688 ,  0.15626907,\n",
    "                      0.15717316,  0.15817642,  0.15905762,  0.15990067,  0.16085052,  0.16173172,\n",
    "                      0.16257858,  0.16348267,  0.16431808,  0.16512299])\n",
    "beamArea *= ((np.pi/180.)**2.)\n",
    "\n",
    "for ba in beamArea:\n",
    "    print 'Beam Area: %f deg^2 (%f str)'%(ba * ((180./np.pi)**2.), ba)"
   ]
  },
  {
   "cell_type": "code",
   "execution_count": 13,
   "metadata": {
    "collapsed": true,
    "deletable": true,
    "editable": true
   },
   "outputs": [],
   "source": [
    "# Constants\n",
    "deg2rad = np.pi / 180.\n",
    "rad2deg = 180. / np.pi\n",
    "Gpc32Mpc3 = 1e9 # convert Gpc^3 to Mpc^3"
   ]
  },
  {
   "cell_type": "code",
   "execution_count": 14,
   "metadata": {
    "collapsed": true,
    "deletable": true,
    "editable": true
   },
   "outputs": [],
   "source": [
    "def coMovingDist(z):\n",
    "    \"\"\"Co-moving distance in Gpc, Eq. 3 from Lorimer et al. 2013\n",
    "    z: float, redshift\n",
    "    \"\"\"\n",
    "    c = 299792.458 # km s^-1\n",
    "    H0 = 68. # km s^-1 Mpc^-1\n",
    "    OmegaM = 0.32\n",
    "    OmegaLambda = 0.68\n",
    "    \n",
    "    integrand = lambda zp: 1. / np.sqrt(OmegaM * ((1. + zp)**3.) + OmegaLambda)\n",
    "    dd, err = scipy.integrate.quad(integrand, 0., z)\n",
    "    return ((c/H0) * dd) * 1e-3"
   ]
  },
  {
   "cell_type": "code",
   "execution_count": null,
   "metadata": {
    "collapsed": false
   },
   "outputs": [],
   "source": []
  },
  {
   "cell_type": "code",
   "execution_count": 19,
   "metadata": {
    "collapsed": false,
    "deletable": true,
    "editable": true
   },
   "outputs": [
    {
     "name": "stdout",
     "output_type": "stream",
     "text": [
      "Pointings: 63844\n"
     ]
    },
    {
     "ename": "NameError",
     "evalue": "name 'beamFWHM0' is not defined",
     "output_type": "error",
     "traceback": [
      "\u001b[0;31m---------------------------------------------------------------------------\u001b[0m",
      "\u001b[0;31mNameError\u001b[0m                                 Traceback (most recent call last)",
      "\u001b[0;32m<ipython-input-19-375b084c246c>\u001b[0m in \u001b[0;36m<module>\u001b[0;34m()\u001b[0m\n\u001b[1;32m      3\u001b[0m \u001b[0;32mfor\u001b[0m \u001b[0mcnt\u001b[0m\u001b[0;34m,\u001b[0m\u001b[0;34m(\u001b[0m\u001b[0ml\u001b[0m\u001b[0;34m,\u001b[0m\u001b[0mb\u001b[0m\u001b[0;34m)\u001b[0m \u001b[0;32min\u001b[0m \u001b[0menumerate\u001b[0m\u001b[0;34m(\u001b[0m\u001b[0mzip\u001b[0m\u001b[0;34m(\u001b[0m\u001b[0mgall\u001b[0m\u001b[0;34m,\u001b[0m\u001b[0mgalb\u001b[0m\u001b[0;34m)\u001b[0m\u001b[0;34m)\u001b[0m\u001b[0;34m:\u001b[0m\u001b[0;34m\u001b[0m\u001b[0m\n\u001b[1;32m      4\u001b[0m     \u001b[0mdd0\u001b[0m \u001b[0;34m=\u001b[0m \u001b[0mcoMovingDist\u001b[0m\u001b[0;34m(\u001b[0m\u001b[0;36m3.2\u001b[0m\u001b[0;34m)\u001b[0m\u001b[0;34m\u001b[0m\u001b[0m\n\u001b[0;32m----> 5\u001b[0;31m     \u001b[0mvol0\u001b[0m \u001b[0;34m=\u001b[0m \u001b[0;34m(\u001b[0m\u001b[0mnp\u001b[0m\u001b[0;34m.\u001b[0m\u001b[0mpi\u001b[0m \u001b[0;34m*\u001b[0m \u001b[0;34m(\u001b[0m\u001b[0;34m(\u001b[0m\u001b[0mdd0\u001b[0m \u001b[0;34m*\u001b[0m \u001b[0;34m(\u001b[0m\u001b[0mbeamFWHM0\u001b[0m\u001b[0;34m/\u001b[0m\u001b[0;36m2.\u001b[0m\u001b[0;34m)\u001b[0m\u001b[0;34m)\u001b[0m\u001b[0;34m**\u001b[0m\u001b[0;36m2.\u001b[0m\u001b[0;34m)\u001b[0m \u001b[0;34m*\u001b[0m \u001b[0mdd0\u001b[0m\u001b[0;34m)\u001b[0m \u001b[0;34m/\u001b[0m \u001b[0;36m3.\u001b[0m\u001b[0;34m\u001b[0m\u001b[0m\n\u001b[0m\u001b[1;32m      6\u001b[0m \u001b[0;34m\u001b[0m\u001b[0m\n\u001b[1;32m      7\u001b[0m     \u001b[0mdmDiff\u001b[0m \u001b[0;34m=\u001b[0m \u001b[0mdmMax\u001b[0m \u001b[0;34m-\u001b[0m \u001b[0;34m(\u001b[0m\u001b[0mdmGal\u001b[0m \u001b[0;34m+\u001b[0m \u001b[0mdmHost\u001b[0m\u001b[0;34m)\u001b[0m \u001b[0;31m# > 0 if there is excess DM outside the host and our galaxy\u001b[0m\u001b[0;34m\u001b[0m\u001b[0m\n",
      "\u001b[0;31mNameError\u001b[0m: name 'beamFWHM0' is not defined"
     ]
    }
   ],
   "source": [
    "#for l,b in zip(gall[:10],galb[:10]):\n",
    "print 'Pointings:', gall.shape[0]\n",
    "for cnt,(l,b) in enumerate(zip(gall,galb)):\n",
    "    dd0 = coMovingDist(3.2)\n",
    "    vol0 = (np.pi * ((dd0 * (beamFWHM0/2.))**2.) * dd0) / 3.\n",
    "    \n",
    "    dmDiff = dmMax - (dmGal + dmHost) # > 0 if there is excess DM outside the host and our galaxy\n",
    "    if dmDiff > 0.:\n",
    "        #zz = dmDiff / 1200. # calculate the distance in z to the source using the relation DM ~ 1200 z cm^-3 pc\n",
    "        # for z <= 2 (Lorimer et al. 2007), based on Ioka (2003) and Inoue (2004)\n",
    "        zz = 1.5\n",
    "        \n",
    "        zVals.append(zz)\n",
    "        \n",
    "        dd = coMovingDist(zz) # compute the Hubble distance, in Gpc\n",
    "        \n",
    "        # Volume, assuming a cone, V = pi r^2 h / 3, where r = dd theta / 2 (small angle approximation), and h = dd\n",
    "        # this ignores any sensitivity beyond the beam FWHM\n",
    "        vol = (np.pi * ((dd * (beamFWHM/2.))**2.) * dd) / 3. - (np.pi * ((dd * (beamFWHM0/2.))**2.) * dd) / 3. +vol0\n",
    "        vol *= Gpc32Mpc3 # convert from Gpc^3 to Mpc^3\n",
    "        nGal = vol * nGalaxies  # number of galaxies in volume\n",
    "        \n",
    "        nGalSurvey += nGal\n",
    "        volSurvey += vol\n",
    "        areaSurvey += areaDeg\n",
    "\n",
    "zVals = np.array(zVals)\n",
    "zMin = np.min(zVals)\n",
    "zMax = np.max(zVals)\n",
    "zMean = np.mean(zVals)"
   ]
  },
  {
   "cell_type": "code",
   "execution_count": 9,
   "metadata": {
    "collapsed": false,
    "deletable": true,
    "editable": true
   },
   "outputs": [
    {
     "name": "stdout",
     "output_type": "stream",
     "text": [
      "Total time observing = 3830640 s\n",
      "Observing time outside the galactic plane (+/-7.0 degrees) = 2175300 s\n",
      "Total volume surveyed = 2.199e+02 Gpc^3 = 2.199e+11 Mpc^3\n",
      "Total area surveyed = 4.250e+00 sq. deg.\n",
      "z (max = 1.500, min = 1.500, mean = 1.500)\n",
      "Total number of galaxies (assuming n = 0.010 Mpc^-3) = 2198741088.309\n",
      "4.42646102365\n",
      "6064656.15311\n",
      "60646.5615311\n"
     ]
    }
   ],
   "source": [
    "print \"Total time observing = %i s\"%(totalObsTime)\n",
    "print \"Observing time outside the galactic plane (+/-%.1f degrees) = %i s\"%(gal_cut, galCutObsTime)\n",
    "print \"Total volume surveyed = %2.3e Gpc^3\" % (volSurvey / Gpc32Mpc3), \"= %2.3e Mpc^3\" % volSurvey\n",
    "print \"Total area surveyed = %2.3e sq. deg.\" % areaSurvey\n",
    "print \"z (max = %2.3f, min = %2.3f, mean = %2.3f)\" % (zMax, zMin, zMean)\n",
    "print \"Total number of galaxies (assuming n = %2.3f\" % nGalaxies, \"Mpc^-3) = %2.3f\" % nGalSurvey\n",
    "print dd\n",
    "print vol\n",
    "print nGal"
   ]
  },
  {
   "cell_type": "code",
   "execution_count": 10,
   "metadata": {
    "collapsed": false
   },
   "outputs": [
    {
     "data": {
      "text/plain": [
       "0.015854895991882292"
      ]
     },
     "execution_count": 10,
     "metadata": {},
     "output_type": "execute_result"
    }
   ],
   "source": [
    "500000. / (60.*60.*24*365)"
   ]
  },
  {
   "cell_type": "code",
   "execution_count": 11,
   "metadata": {
    "collapsed": false
   },
   "outputs": [
    {
     "name": "stdout",
     "output_type": "stream",
     "text": [
      "60646.5615311\n"
     ]
    }
   ],
   "source": [
    "print nGal"
   ]
  },
  {
   "cell_type": "code",
   "execution_count": 12,
   "metadata": {
    "collapsed": false
   },
   "outputs": [
    {
     "name": "stdout",
     "output_type": "stream",
     "text": [
      "0.736666490561\n"
     ]
    }
   ],
   "source": [
    "print nGal * 1e-4 * 0.12146879756468798"
   ]
  }
 ],
 "metadata": {
  "kernelspec": {
   "display_name": "Python 2",
   "language": "python",
   "name": "python2"
  },
  "language_info": {
   "codemirror_mode": {
    "name": "ipython",
    "version": 2
   },
   "file_extension": ".py",
   "mimetype": "text/x-python",
   "name": "python",
   "nbconvert_exporter": "python",
   "pygments_lexer": "ipython2",
   "version": "2.7.12"
  }
 },
 "nbformat": 4,
 "nbformat_minor": 2
}
