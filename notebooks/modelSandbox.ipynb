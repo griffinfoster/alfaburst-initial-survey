{
 "cells": [
  {
   "cell_type": "markdown",
   "metadata": {
    "deletable": true,
    "editable": true
   },
   "source": [
    "## Prioritizer Model\n",
    "\n",
    "Trained model for classification and prioritization for ALFABURST events based on the labelled feature set from  featureBuilder.ipynb.\n",
    "\n",
    "### Classifier model\n",
    "\n",
    "Probabalistic classifier using random forests.\n",
    "\n",
    "### Labels\n",
    "\n",
    "#### RFI\n",
    "\n",
    "* 1 : Unclipped RFI/Noise\n",
    "* 2 : Wide-band, long-duration in time clipped RFI (2016+)\n",
    "* 3 : Wide-band, short-duration in time clipped RFI (2016+)\n",
    "* 4 : Wide-band, short duration clipped RFI (2015)\n",
    "* 5 : Sharp bandpass transition\n",
    "* 6 : Wide-band, bursty clipped RFI (2015)\n",
    "* 7 : Error in spectra captue or replacement\n",
    "* 8 : Systematic int/float overflow\n",
    "\n",
    "#### Astronomical\n",
    "\n",
    "* 0 : Interesting, follow up\n",
    "* 9 : Known Pulsar"
   ]
  },
  {
   "cell_type": "code",
   "execution_count": 1,
   "metadata": {
    "collapsed": true,
    "deletable": true,
    "editable": true
   },
   "outputs": [],
   "source": [
    "import numpy as np\n",
    "import pandas as pd\n",
    "import matplotlib.pyplot as plt\n",
    "import seaborn as sns\n",
    "\n",
    "%matplotlib inline"
   ]
  },
  {
   "cell_type": "markdown",
   "metadata": {
    "deletable": true,
    "editable": true
   },
   "source": [
    "### Preamble\n",
    "\n",
    "Read in the dataframe and prepare the features for use in scikit-learn."
   ]
  },
  {
   "cell_type": "code",
   "execution_count": 2,
   "metadata": {
    "collapsed": false,
    "deletable": true,
    "editable": true
   },
   "outputs": [
    {
     "data": {
      "text/plain": [
       "u'0.19.2'"
      ]
     },
     "execution_count": 2,
     "metadata": {},
     "output_type": "execute_result"
    }
   ],
   "source": [
    "pd.__version__"
   ]
  },
  {
   "cell_type": "code",
   "execution_count": 3,
   "metadata": {
    "collapsed": false,
    "deletable": true,
    "editable": true
   },
   "outputs": [],
   "source": [
    "df = pd.read_pickle('featureDataframe.pkl')"
   ]
  },
  {
   "cell_type": "code",
   "execution_count": 4,
   "metadata": {
    "collapsed": false,
    "deletable": true,
    "editable": true
   },
   "outputs": [
    {
     "data": {
      "text/html": [
       "<div>\n",
       "<table border=\"1\" class=\"dataframe\">\n",
       "  <thead>\n",
       "    <tr style=\"text-align: right;\">\n",
       "      <th></th>\n",
       "      <th>Beam</th>\n",
       "      <th>Buffer</th>\n",
       "      <th>MJDstart</th>\n",
       "      <th>bestDM</th>\n",
       "      <th>bestSNR</th>\n",
       "      <th>BinFactor</th>\n",
       "      <th>Events</th>\n",
       "      <th>DMmax</th>\n",
       "      <th>DMmin</th>\n",
       "      <th>DMmean</th>\n",
       "      <th>...</th>\n",
       "      <th>pixelMean_15_0</th>\n",
       "      <th>pixelMax_15_1</th>\n",
       "      <th>pixelMin_15_1</th>\n",
       "      <th>pixelMean_15_1</th>\n",
       "      <th>pixelMax_15_2</th>\n",
       "      <th>pixelMin_15_2</th>\n",
       "      <th>pixelMean_15_2</th>\n",
       "      <th>pixelMax_15_3</th>\n",
       "      <th>pixelMin_15_3</th>\n",
       "      <th>pixelMean_15_3</th>\n",
       "    </tr>\n",
       "  </thead>\n",
       "  <tbody>\n",
       "    <tr>\n",
       "      <th>count</th>\n",
       "      <td>73282.000000</td>\n",
       "      <td>73282.000000</td>\n",
       "      <td>73282.000000</td>\n",
       "      <td>73282.000000</td>\n",
       "      <td>73282.000000</td>\n",
       "      <td>73282.000000</td>\n",
       "      <td>7.328200e+04</td>\n",
       "      <td>73282.000000</td>\n",
       "      <td>73282.000000</td>\n",
       "      <td>73282.000000</td>\n",
       "      <td>...</td>\n",
       "      <td>1.553600e+04</td>\n",
       "      <td>1.553600e+04</td>\n",
       "      <td>1.553600e+04</td>\n",
       "      <td>1.553600e+04</td>\n",
       "      <td>1.553600e+04</td>\n",
       "      <td>1.553600e+04</td>\n",
       "      <td>1.553600e+04</td>\n",
       "      <td>1.553600e+04</td>\n",
       "      <td>1.553600e+04</td>\n",
       "      <td>1.553600e+04</td>\n",
       "    </tr>\n",
       "    <tr>\n",
       "      <th>mean</th>\n",
       "      <td>3.556617</td>\n",
       "      <td>211.437952</td>\n",
       "      <td>57392.275750</td>\n",
       "      <td>994.132829</td>\n",
       "      <td>12.890546</td>\n",
       "      <td>14.171406</td>\n",
       "      <td>5.290837e+03</td>\n",
       "      <td>1843.879770</td>\n",
       "      <td>355.848537</td>\n",
       "      <td>1106.626399</td>\n",
       "      <td>...</td>\n",
       "      <td>3.036053e+38</td>\n",
       "      <td>3.663497e+38</td>\n",
       "      <td>3.663497e+38</td>\n",
       "      <td>3.663497e+38</td>\n",
       "      <td>3.122199e+38</td>\n",
       "      <td>3.122199e+38</td>\n",
       "      <td>3.122199e+38</td>\n",
       "      <td>2.912765e+38</td>\n",
       "      <td>2.912765e+38</td>\n",
       "      <td>2.912765e+38</td>\n",
       "    </tr>\n",
       "    <tr>\n",
       "      <th>std</th>\n",
       "      <td>2.433997</td>\n",
       "      <td>272.753575</td>\n",
       "      <td>186.092812</td>\n",
       "      <td>2270.499049</td>\n",
       "      <td>79.265038</td>\n",
       "      <td>20.233713</td>\n",
       "      <td>3.448143e+04</td>\n",
       "      <td>3329.930528</td>\n",
       "      <td>1195.291547</td>\n",
       "      <td>2135.608269</td>\n",
       "      <td>...</td>\n",
       "      <td>1.204643e+39</td>\n",
       "      <td>1.308466e+39</td>\n",
       "      <td>1.308466e+39</td>\n",
       "      <td>1.308466e+39</td>\n",
       "      <td>1.157410e+39</td>\n",
       "      <td>1.157410e+39</td>\n",
       "      <td>1.157410e+39</td>\n",
       "      <td>1.196846e+39</td>\n",
       "      <td>1.196846e+39</td>\n",
       "      <td>1.196846e+39</td>\n",
       "    </tr>\n",
       "    <tr>\n",
       "      <th>min</th>\n",
       "      <td>0.000000</td>\n",
       "      <td>1.000000</td>\n",
       "      <td>57197.378446</td>\n",
       "      <td>0.000000</td>\n",
       "      <td>6.001704</td>\n",
       "      <td>1.000000</td>\n",
       "      <td>1.000000e+00</td>\n",
       "      <td>3.000000</td>\n",
       "      <td>0.000000</td>\n",
       "      <td>3.000000</td>\n",
       "      <td>...</td>\n",
       "      <td>-8.851245e+04</td>\n",
       "      <td>-1.229460e+05</td>\n",
       "      <td>-1.229460e+05</td>\n",
       "      <td>-1.229460e+05</td>\n",
       "      <td>-1.541351e+05</td>\n",
       "      <td>-1.541351e+05</td>\n",
       "      <td>-1.541351e+05</td>\n",
       "      <td>-1.649856e+05</td>\n",
       "      <td>-1.649856e+05</td>\n",
       "      <td>-1.649856e+05</td>\n",
       "    </tr>\n",
       "    <tr>\n",
       "      <th>25%</th>\n",
       "      <td>1.000000</td>\n",
       "      <td>25.000000</td>\n",
       "      <td>57275.173537</td>\n",
       "      <td>7.000000</td>\n",
       "      <td>10.510364</td>\n",
       "      <td>2.000000</td>\n",
       "      <td>4.000000e+00</td>\n",
       "      <td>10.000000</td>\n",
       "      <td>5.000000</td>\n",
       "      <td>7.500000</td>\n",
       "      <td>...</td>\n",
       "      <td>-1.281110e+01</td>\n",
       "      <td>1.217415e+01</td>\n",
       "      <td>1.217415e+01</td>\n",
       "      <td>1.217415e+01</td>\n",
       "      <td>1.911395e+01</td>\n",
       "      <td>1.911395e+01</td>\n",
       "      <td>1.911395e+01</td>\n",
       "      <td>2.122114e+01</td>\n",
       "      <td>2.122114e+01</td>\n",
       "      <td>2.122114e+01</td>\n",
       "    </tr>\n",
       "    <tr>\n",
       "      <th>50%</th>\n",
       "      <td>4.000000</td>\n",
       "      <td>111.000000</td>\n",
       "      <td>57328.330289</td>\n",
       "      <td>13.000000</td>\n",
       "      <td>11.301913</td>\n",
       "      <td>4.000000</td>\n",
       "      <td>3.400000e+01</td>\n",
       "      <td>27.000000</td>\n",
       "      <td>7.000000</td>\n",
       "      <td>16.500000</td>\n",
       "      <td>...</td>\n",
       "      <td>3.136781e+00</td>\n",
       "      <td>2.029442e+01</td>\n",
       "      <td>2.029442e+01</td>\n",
       "      <td>2.029442e+01</td>\n",
       "      <td>3.726743e+01</td>\n",
       "      <td>3.726743e+01</td>\n",
       "      <td>3.726743e+01</td>\n",
       "      <td>4.588743e+01</td>\n",
       "      <td>4.588743e+01</td>\n",
       "      <td>4.588743e+01</td>\n",
       "    </tr>\n",
       "    <tr>\n",
       "      <th>75%</th>\n",
       "      <td>6.000000</td>\n",
       "      <td>295.000000</td>\n",
       "      <td>57372.219326</td>\n",
       "      <td>273.000000</td>\n",
       "      <td>12.641252</td>\n",
       "      <td>16.000000</td>\n",
       "      <td>4.890000e+02</td>\n",
       "      <td>2024.000000</td>\n",
       "      <td>16.000000</td>\n",
       "      <td>947.812319</td>\n",
       "      <td>...</td>\n",
       "      <td>3.046355e+01</td>\n",
       "      <td>3.833758e+01</td>\n",
       "      <td>3.833758e+01</td>\n",
       "      <td>3.833758e+01</td>\n",
       "      <td>6.726700e+01</td>\n",
       "      <td>6.726700e+01</td>\n",
       "      <td>6.726700e+01</td>\n",
       "      <td>8.036246e+01</td>\n",
       "      <td>8.036246e+01</td>\n",
       "      <td>8.036246e+01</td>\n",
       "    </tr>\n",
       "    <tr>\n",
       "      <th>max</th>\n",
       "      <td>6.000000</td>\n",
       "      <td>2001.000000</td>\n",
       "      <td>57893.840891</td>\n",
       "      <td>10039.000000</td>\n",
       "      <td>20954.304688</td>\n",
       "      <td>64.000000</td>\n",
       "      <td>2.135578e+06</td>\n",
       "      <td>57287.182376</td>\n",
       "      <td>10035.000000</td>\n",
       "      <td>10035.500000</td>\n",
       "      <td>...</td>\n",
       "      <td>1.956399e+40</td>\n",
       "      <td>2.133469e+40</td>\n",
       "      <td>2.133469e+40</td>\n",
       "      <td>2.133469e+40</td>\n",
       "      <td>2.055277e+40</td>\n",
       "      <td>2.055277e+40</td>\n",
       "      <td>2.055277e+40</td>\n",
       "      <td>2.146130e+40</td>\n",
       "      <td>2.146130e+40</td>\n",
       "      <td>2.146130e+40</td>\n",
       "    </tr>\n",
       "  </tbody>\n",
       "</table>\n",
       "<p>8 rows × 403 columns</p>\n",
       "</div>"
      ],
      "text/plain": [
       "               Beam        Buffer      MJDstart        bestDM       bestSNR  \\\n",
       "count  73282.000000  73282.000000  73282.000000  73282.000000  73282.000000   \n",
       "mean       3.556617    211.437952  57392.275750    994.132829     12.890546   \n",
       "std        2.433997    272.753575    186.092812   2270.499049     79.265038   \n",
       "min        0.000000      1.000000  57197.378446      0.000000      6.001704   \n",
       "25%        1.000000     25.000000  57275.173537      7.000000     10.510364   \n",
       "50%        4.000000    111.000000  57328.330289     13.000000     11.301913   \n",
       "75%        6.000000    295.000000  57372.219326    273.000000     12.641252   \n",
       "max        6.000000   2001.000000  57893.840891  10039.000000  20954.304688   \n",
       "\n",
       "          BinFactor        Events         DMmax         DMmin        DMmean  \\\n",
       "count  73282.000000  7.328200e+04  73282.000000  73282.000000  73282.000000   \n",
       "mean      14.171406  5.290837e+03   1843.879770    355.848537   1106.626399   \n",
       "std       20.233713  3.448143e+04   3329.930528   1195.291547   2135.608269   \n",
       "min        1.000000  1.000000e+00      3.000000      0.000000      3.000000   \n",
       "25%        2.000000  4.000000e+00     10.000000      5.000000      7.500000   \n",
       "50%        4.000000  3.400000e+01     27.000000      7.000000     16.500000   \n",
       "75%       16.000000  4.890000e+02   2024.000000     16.000000    947.812319   \n",
       "max       64.000000  2.135578e+06  57287.182376  10035.000000  10035.500000   \n",
       "\n",
       "            ...        pixelMean_15_0  pixelMax_15_1  pixelMin_15_1  \\\n",
       "count       ...          1.553600e+04   1.553600e+04   1.553600e+04   \n",
       "mean        ...          3.036053e+38   3.663497e+38   3.663497e+38   \n",
       "std         ...          1.204643e+39   1.308466e+39   1.308466e+39   \n",
       "min         ...         -8.851245e+04  -1.229460e+05  -1.229460e+05   \n",
       "25%         ...         -1.281110e+01   1.217415e+01   1.217415e+01   \n",
       "50%         ...          3.136781e+00   2.029442e+01   2.029442e+01   \n",
       "75%         ...          3.046355e+01   3.833758e+01   3.833758e+01   \n",
       "max         ...          1.956399e+40   2.133469e+40   2.133469e+40   \n",
       "\n",
       "       pixelMean_15_1  pixelMax_15_2  pixelMin_15_2  pixelMean_15_2  \\\n",
       "count    1.553600e+04   1.553600e+04   1.553600e+04    1.553600e+04   \n",
       "mean     3.663497e+38   3.122199e+38   3.122199e+38    3.122199e+38   \n",
       "std      1.308466e+39   1.157410e+39   1.157410e+39    1.157410e+39   \n",
       "min     -1.229460e+05  -1.541351e+05  -1.541351e+05   -1.541351e+05   \n",
       "25%      1.217415e+01   1.911395e+01   1.911395e+01    1.911395e+01   \n",
       "50%      2.029442e+01   3.726743e+01   3.726743e+01    3.726743e+01   \n",
       "75%      3.833758e+01   6.726700e+01   6.726700e+01    6.726700e+01   \n",
       "max      2.133469e+40   2.055277e+40   2.055277e+40    2.055277e+40   \n",
       "\n",
       "       pixelMax_15_3  pixelMin_15_3  pixelMean_15_3  \n",
       "count   1.553600e+04   1.553600e+04    1.553600e+04  \n",
       "mean    2.912765e+38   2.912765e+38    2.912765e+38  \n",
       "std     1.196846e+39   1.196846e+39    1.196846e+39  \n",
       "min    -1.649856e+05  -1.649856e+05   -1.649856e+05  \n",
       "25%     2.122114e+01   2.122114e+01    2.122114e+01  \n",
       "50%     4.588743e+01   4.588743e+01    4.588743e+01  \n",
       "75%     8.036246e+01   8.036246e+01    8.036246e+01  \n",
       "max     2.146130e+40   2.146130e+40    2.146130e+40  \n",
       "\n",
       "[8 rows x 403 columns]"
      ]
     },
     "execution_count": 4,
     "metadata": {},
     "output_type": "execute_result"
    }
   ],
   "source": [
    "df.describe()"
   ]
  },
  {
   "cell_type": "code",
   "execution_count": 5,
   "metadata": {
    "collapsed": false,
    "deletable": true,
    "editable": true
   },
   "outputs": [
    {
     "data": {
      "text/plain": [
       "(73282, 406)"
      ]
     },
     "execution_count": 5,
     "metadata": {},
     "output_type": "execute_result"
    }
   ],
   "source": [
    "df.shape"
   ]
  },
  {
   "cell_type": "markdown",
   "metadata": {},
   "source": [
    "#### Re-label Mis-labelled Type 8 Events"
   ]
  },
  {
   "cell_type": "code",
   "execution_count": 6,
   "metadata": {
    "collapsed": false,
    "deletable": true,
    "editable": true
   },
   "outputs": [],
   "source": [
    "reLabel = [('Beam4_fb_D20150821T195709.fil', 202),\n",
    "           ('Beam0_fb_D20150906T194609.fil', 275),\n",
    "           ('Beam4_fb_D20150909T235709.fil', 467),\n",
    "           ('Beam6_fb_D20150925T221909.fil', 3),\n",
    "           ('Beam1_fb_D20151215T221703.fil', 377),\n",
    "           ('Beam1_fb_D20151215T221703.fil', 595),\n",
    "           ('Beam1_fb_D20151216T231103.fil', 50),\n",
    "           ('Beam1_fb_D20151217T050412.fil', 196),\n",
    "           ('Beam1_fb_D20151217T050412.fil', 197),\n",
    "           ('Beam1_fb_D20151217T050412.fil', 202),\n",
    "           ('Beam0_fb_D20160824T104004.fil', 1392),\n",
    "           ('Beam0_fb_D20160825T003010.fil', 3),\n",
    "           ('Beam0_fb_D20160824T104004.fil', 1392),\n",
    "           ('Beam0_fb_D20160825T003010.fil', 3),\n",
    "           ('Beam0_fb_D20170310T020409.fil', 6),\n",
    "           ('Beam0_fb_D20170310T020409.fil', 8),\n",
    "           ('Beam0_fb_D20170310T020409.fil', 9),\n",
    "           ('Beam0_fb_D20170310T020409.fil', 11),\n",
    "           ('Beam0_fb_D20170310T020409.fil', 14),\n",
    "           ('Beam0_fb_D20170310T020409.fil', 15),\n",
    "           ('Beam0_fb_D20170310T020409.fil', 16),\n",
    "           ('Beam0_fb_D20170310T020409.fil', 17),\n",
    "           ('Beam0_fb_D20170310T020409.fil', 19),\n",
    "           ('Beam0_fb_D20170310T020409.fil', 21),\n",
    "           ('Beam0_fb_D20170310T020409.fil', 25),\n",
    "           ('Beam1_fb_D20170310T020409.fil', 4),\n",
    "           ('Beam4_fb_D20170310T020409.fil', 7),\n",
    "           ('Beam5_fb_D20170310T020409.fil', 1),\n",
    "           ('Beam5_fb_D20170310T020409.fil', 2),\n",
    "           ('Beam6_fb_D20170311T184903.fil', 2),\n",
    "           ('Beam1_fb_D20170312T182504.fil', 2),\n",
    "           ('Beam2_fb_D20170325T011509.fil', 1),\n",
    "           ('Beam1_fb_D20170310T020409.fil', 3),\n",
    "           ('Beam0_fb_D20170311T184903.fil', 2),\n",
    "           ('Beam1_fb_D20170311T184903.fil', 1),\n",
    "           ('Beam5_fb_D20170312T182504.fil', 1),\n",
    "           ('Beam1_fb_D20170310T020409.fil', 2),\n",
    "           ('Beam6_fb_D20170311T184903.fil', 3),\n",
    "           ('Beam4_fb_D20170312T182504.fil', 10),\n",
    "           ('Beam0_fb_D20170310T020409.fil', 2),\n",
    "           ('Beam4_fb_D20170310T020409.fil', 4),\n",
    "           ('Beam0_fb_D20170310T020409.fil', 1),\n",
    "           ('Beam0_fb_D20170310T020409.fil', 3),\n",
    "           ('Beam0_fb_D20170310T020409.fil', 4),\n",
    "           ('Beam0_fb_D20170310T020409.fil', 5),\n",
    "           ('Beam0_fb_D20170310T020409.fil', 7),\n",
    "           ('Beam0_fb_D20170310T020409.fil', 10),\n",
    "           ('Beam0_fb_D20170310T020409.fil', 12),\n",
    "           ('Beam0_fb_D20170310T020409.fil', 13),\n",
    "           ('Beam0_fb_D20170310T020409.fil', 18),\n",
    "           ('Beam0_fb_D20170310T020409.fil', 20),\n",
    "           ('Beam0_fb_D20170310T020409.fil', 22),\n",
    "           ('Beam0_fb_D20170310T020409.fil', 23),\n",
    "           ('Beam0_fb_D20170310T020409.fil', 24),\n",
    "           ('Beam1_fb_D20170310T020409.fil', 1),\n",
    "           ('Beam4_fb_D20170310T020409.fil', 3),\n",
    "           ('Beam4_fb_D20170310T020409.fil', 5),\n",
    "           ('Beam4_fb_D20170310T020409.fil', 6),\n",
    "           ('Beam0_fb_D20170311T184903.fil', 1)]"
   ]
  },
  {
   "cell_type": "code",
   "execution_count": 7,
   "metadata": {
    "collapsed": false
   },
   "outputs": [],
   "source": [
    "# Relabel mis-labelled events to overflow (label 8)\n",
    "for fil,buf in reLabel:\n",
    "    #print fil, buf\n",
    "    df.loc[(df['filterbank']==fil) & (df['Buffer']==buf), 'Label'] = 8"
   ]
  },
  {
   "cell_type": "markdown",
   "metadata": {},
   "source": [
    "#### Compute MJD Features\n",
    "\n",
    "We don't care about the absolute MJDs, but the relative offset within the dataset."
   ]
  },
  {
   "cell_type": "code",
   "execution_count": 8,
   "metadata": {
    "collapsed": true
   },
   "outputs": [],
   "source": [
    "df['relMJDmax'] = df['MJDmax'] - df['MJDmin']\n",
    "df['relMJDmean'] = df['MJDmean'] - df['MJDmin']\n",
    "df['relMJDmedian'] = df['MJDmedian'] - df['MJDmin']"
   ]
  },
  {
   "cell_type": "markdown",
   "metadata": {
    "deletable": true,
    "editable": true
   },
   "source": [
    "**Filter for only labelled data (i.e. Label > -1) and Drop Type 8 Events**"
   ]
  },
  {
   "cell_type": "code",
   "execution_count": 9,
   "metadata": {
    "collapsed": true,
    "deletable": true,
    "editable": true
   },
   "outputs": [],
   "source": [
    "labelledDf = df[df['Label'] > -1]\n",
    "labelledDf = labelledDf[labelledDf['Label'] != 8]"
   ]
  },
  {
   "cell_type": "markdown",
   "metadata": {},
   "source": [
    "**Relabel 0 to 9**\n",
    "\n",
    "We are interested in both 9 and 0 labels and both appear similar."
   ]
  },
  {
   "cell_type": "code",
   "execution_count": 10,
   "metadata": {
    "collapsed": true
   },
   "outputs": [],
   "source": [
    "labelledDf.loc[labelledDf['Label'] == 0, 'Label'] = 9"
   ]
  },
  {
   "cell_type": "code",
   "execution_count": 11,
   "metadata": {
    "collapsed": false
   },
   "outputs": [
    {
     "name": "stdout",
     "output_type": "stream",
     "text": [
      "datfile Beam0_dm_D20150624T020452.dat Beam6_dm_D20170324T215304.dat\n",
      "Beam 0 6 2.64289416941\n",
      "TSID D20150624T020452 D20170325T092403\n",
      "Buffer 1 1997 234.099730177\n",
      "MJDstart 57197.3848466 57837.3807827 158.637469447\n",
      "bestDM 51.0 10039.0 2925.42377249\n",
      "bestSNR 10.0002756119 181.342330933 7.78511888853\n",
      "BinFactor 1 64 23.3707904092\n",
      "Events 1 1800508 63404.711047\n",
      "DMmax 54.0 10039.0 3741.79111564\n",
      "DMmin 0.0 10035.0 1854.50379848\n",
      "DMmean 25.1612903226 10035.5 2705.60863642\n",
      "DMmedian 9.0 10035.5 2819.01443151\n",
      "DMstd 0.707106781187 4672.49363237 881.751739387\n",
      "SNRmean 7.07141349051 19.9987541906 1.31552412109\n",
      "SNRmedian 6.77030944824 15.0827293396 0.96828782134\n",
      "SNRstd 0.000775502012695 14.4079302489 1.31336401293\n",
      "MJDmax 57197.3848944 57837.3808056 158.637465108\n",
      "MJDmin 57197.3848934 57837.3808055 158.637468173\n",
      "MJDstd 0.0 4.11672955923e-05 8.34844478405e-06\n",
      "MJDmean 57197.384894 57837.3808055 158.637466696\n",
      "MJDmedian 57197.384894 57837.3808055 158.637466697\n",
      "Label 1 9 2.14351963379\n",
      "predictLabel -1 -1 0.0\n",
      "filterbank Beam0_fb_D20150624T020452.fil Beam6_fb_D20170324T215304.fil\n",
      "pctZero 0.0 1.0 0.131784722092\n",
      "pctZeroDeriv 0.0 1.0 0.251346001821\n",
      "ofCount 0.0 0.0 0.0\n",
      "ofPct 0.0 0.0 0.0\n",
      "longestRun0 0.0 3967.0 229.031165243\n",
      "longestRun1 -39.3862 4.0625 0.552013\n",
      "longestRun2 0.0 0.9755859375 0.120734042258\n",
      "globtsStatsStd 0.0 548.124 77.6702\n",
      "globtsStatsMax -629.252 1008.37 43.4333\n",
      "globtsStatsPosCnt 0.0 15966.0 965.907791348\n",
      "globtsStatsMin -1603.77 0.00012207 324.834\n",
      "globtsStatsNegPct 0.0 0.5 0.103673732141\n",
      "globtsStatsMedian -1087.21 1.10535 155.456\n",
      "globtsStatsRatio0 0.0 554451.0 15645.1\n",
      "globtsStatsPosPct 0.0 0.5 0.107548217116\n",
      "globtsStatsNegCnt 0.0 16046.0 978.127141878\n",
      "globtsStatsRatio1 0.0 1821.19 17.5763\n",
      "globtsStatsMean -1081.13 39.0303 143.458\n",
      "globDedisptsStatsStd 0.0 8571.54 281.777\n",
      "globDedisptsStatsMax -343.771 19930.3 1042.03\n",
      "globDedisptsStatsPosCnt 0.0 16384.0 989.68066029\n",
      "globDedisptsStatsMin -15904.6 0.0 1435.53\n",
      "globDedisptsStatsNegPct 0.0 0.5 0.0826572170019\n",
      "globDedisptsStatsMedian -1102.69 131.923 157.427\n",
      "globDedisptsStatsRatio0 0.0 9547.91 151.598\n",
      "globDedisptsStatsPosPct 0.0 0.5 0.0824216749563\n",
      "globDedisptsStatsNegCnt 0.0 16384.0 989.79126473\n",
      "globDedisptsStatsRatio1 0.0 8.6186 0.581879\n",
      "globDedisptsStatsMean -1081.13 39.0303 143.458\n",
      "windTimeStatsStd0 0.0 558.382751465 42.5584919622\n",
      "windTimeStatsMax0 -865.115234375 585.878173828 101.474565207\n",
      "windTimeStatsMin0 -1541.94482422 0.005859375 246.659906704\n",
      "windTimeStatsSnr0 -90.8653095482 57.4736974806 3.20791229868\n",
      "windTimeStatsMean0 -1131.98266602 18.4203453064 158.074266775\n",
      "windTimeStatsStd1 0.0 583.635437012 39.7327446182\n",
      "windTimeStatsMax1 -856.729492188 760.246459961 102.496382305\n",
      "windTimeStatsMin1 -1603.77038574 0.0107421875 239.505979751\n",
      "windTimeStatsSnr1 -56.7908184676 90.8653095482 2.63285466867\n",
      "windTimeStatsMean1 -1116.21887207 24.9705371857 158.500352834\n",
      "windTimeStatsStd2 0.0 556.963317871 42.4081456925\n",
      "windTimeStatsMax2 -891.661621094 560.338623047 90.8833253546\n",
      "windTimeStatsMin2 -1578.42089844 1.2001953125 242.587816067\n",
      "windTimeStatsSnr2 -45.8603968849 35.471115165 2.5177254237\n",
      "windTimeStatsMean2 -1134.70727539 37.0761795044 160.277459727\n",
      "windTimeStatsStd3 0.0 551.717773438 40.3013795379\n",
      "windTimeStatsMax3 -826.946533203 250.213043213 89.8203696033\n",
      "windTimeStatsMin3 -1511.36987305 0.0107421875 233.228193011\n",
      "windTimeStatsSnr3 -56.7908184676 45.4326547741 2.56599837933\n",
      "windTimeStatsMean3 -1100.49194336 3.16044020653 156.985118309\n",
      "windTimeStatsStd4 0.0 549.284301758 41.6680636819\n",
      "windTimeStatsMax4 -727.579101562 318.655609131 94.5002053292\n",
      "windTimeStatsMin4 -1506.27978516 0.0068359375 233.566809716\n",
      "windTimeStatsSnr4 -56.7908184676 28.8444933938 2.52528105191\n",
      "windTimeStatsMean4 -1067.62365723 5.24286317825 156.616369415\n",
      "windTimeStatsStd5 0.0 558.300109863 42.1971675811\n",
      "windTimeStatsMax5 -863.502685547 373.134216309 90.6498922561\n",
      "windTimeStatsMin5 -1484.79980469 0.00732421875 233.507843061\n",
      "windTimeStatsSnr5 -22.9894789922 37.3579033624 2.37838918822\n",
      "windTimeStatsMean5 -1095.90820312 5.57915496826 158.204441971\n",
      "windTimeStatsStd6 0.0 525.65447998 41.1844825736\n",
      "windTimeStatsMax6 -825.634765625 849.233886719 96.0114068211\n",
      "windTimeStatsMin6 -1460.19335938 0.00732421875 237.30482705\n",
      "windTimeStatsSnr6 -102.223473242 42.9642972136 2.55936434285\n",
      "windTimeStatsMean6 -1060.02416992 4.72606658936 155.046034097\n",
      "windTimeStatsStd7 0.0 519.60534668 41.3000095057\n",
      "windTimeStatsMax7 -771.24420166 761.433837891 97.8046775821\n",
      "windTimeStatsMin7 -1460.19335938 0.009765625 236.693092116\n",
      "windTimeStatsSnr7 -33.1046784594 62.0330442303 2.53697669963\n",
      "windTimeStatsMean7 -1047.58349609 134.817565918 154.155166886\n",
      "windTimeStatsStd8 0.0 557.462646484 39.1605863784\n",
      "windTimeStatsMax8 -896.201171875 907.08795166 116.428330422\n",
      "windTimeStatsMin8 -1537.42016602 0.05712890625 242.124018431\n",
      "windTimeStatsSnr8 -27.5352390659 56.7908184676 2.61173879159\n",
      "windTimeStatsMean8 -1116.61474609 95.2661056519 167.899886782\n",
      "windTimeStatsStd9 0.0 544.641052246 43.3738513643\n",
      "windTimeStatsMax9 -864.51184082 800.519287109 102.429702717\n",
      "windTimeStatsMin9 -1489.76000977 2.44482421875 242.011249289\n",
      "windTimeStatsSnr9 -24.5964555833 37.4558682547 2.46593415593\n",
      "windTimeStatsMean9 -1098.32958984 67.6925201416 161.149796219\n",
      "windTimeStatsStd10 0.0 578.808349609 38.0329443022\n",
      "windTimeStatsMax10 -823.198608398 831.51184082 103.379538415\n",
      "windTimeStatsMin10 -1461.76025391 0.0087890625 230.827289949\n",
      "windTimeStatsSnr10 -35.1850570817 36.2845893228 2.50908471397\n",
      "windTimeStatsMean10 -1092.98046875 72.6569747925 156.69466659\n",
      "windTimeStatsStd11 0.0 542.165466309 39.4181555582\n",
      "windTimeStatsMax11 -887.702880859 1008.37207031 111.993139364\n",
      "windTimeStatsMin11 -1560.71386719 0.103271484375 247.454130126\n",
      "windTimeStatsSnr11 -27.2595924031 34.0744910806 2.54579310798\n",
      "windTimeStatsMean11 -1126.1105957 53.0462722778 166.074580224\n",
      "windTimeStatsStd12 0.0 570.473022461 41.1910523475\n",
      "windTimeStatsMax12 -888.789794922 953.875244141 105.240013163\n",
      "windTimeStatsMin12 -1603.56237793 0.969360351562 250.791223723\n",
      "windTimeStatsSnr12 -45.4326547741 30.2421232277 2.43558759275\n",
      "windTimeStatsMean12 -1106.43554688 100.566696167 165.455908125\n",
      "windTimeStatsStd13 0.0 537.392456055 39.7119865141\n",
      "windTimeStatsMax13 -892.153442383 605.985717773 105.634889097\n",
      "windTimeStatsMin13 -1477.55688477 0.580688476562 234.961327134\n",
      "windTimeStatsSnr13 -329.386747112 45.9789579845 3.91025261283\n",
      "windTimeStatsMean13 -1081.16943359 85.6817169189 160.791614851\n",
      "windTimeStatsStd14 0.0 581.288452148 43.86777877\n",
      "windTimeStatsMax14 -856.71875 724.088256836 98.9091719615\n",
      "windTimeStatsMin14 -1590.36755371 2.75109863281 255.962235569\n",
      "windTimeStatsSnr14 -48.3794524304 120.694764709 2.79134982501\n",
      "windTimeStatsMean14 -1109.09313965 10.0377645493 165.815808604\n",
      "windTimeStatsStd15 0.0 550.697753906 44.8167739768\n",
      "windTimeStatsMax15 -892.554199219 823.316772461 115.395351498\n",
      "windTimeStatsMin15 -1578.421875 0.0107421875 264.336307414\n",
      "windTimeStatsSnr15 -45.4326547741 51.7263277325 2.55858013982\n",
      "windTimeStatsMean15 -1124.16772461 41.4628868103 170.388525306\n",
      "windDedispTimeStatsStd0 0.0 4778.08398438 227.466560224\n",
      "windDedispTimeStatsMax0 -4107.50927734 9515.87402344 584.539303514\n",
      "windDedispTimeStatsMin0 -12673.8535156 1712.37353516 598.561718572\n",
      "windDedispTimeStatsSnr0 -9.09977945273 18.9576027228 1.66331014919\n",
      "windDedispTimeStatsMean0 -6899.90917969 7137.66796875 255.041818691\n",
      "windDedispTimeStatsStd1 0.0 4605.71191406 216.134689491\n",
      "windDedispTimeStatsMax1 -1302.98339844 7338.38378906 540.686044683\n",
      "windDedispTimeStatsMin1 -12048.4267578 880.971679688 587.226970021\n",
      "windDedispTimeStatsSnr1 -7.60216824298 17.4980208463 1.62234124421\n",
      "windDedispTimeStatsMean1 -4867.97265625 2190.75927734 226.945031569\n",
      "windDedispTimeStatsStd2 0.0 13291.6679688 245.589007245\n",
      "windDedispTimeStatsMax2 -2983.08496094 18531.984375 562.697915563\n",
      "windDedispTimeStatsMin2 -15904.5917969 1123.80859375 617.162186211\n",
      "windDedispTimeStatsSnr2 -8.063559005 17.8956255428 1.62336009126\n",
      "windDedispTimeStatsMean2 -4451.39257812 2485.90039062 233.240949119\n",
      "windDedispTimeStatsStd3 0.0 6912.37988281 230.380054181\n",
      "windDedispTimeStatsMax3 -3616.38525391 12387.3398438 541.416186347\n",
      "windDedispTimeStatsMin3 -12406.1533203 1039.88806152 636.432731061\n",
      "windDedispTimeStatsSnr3 -10.1495534907 15.4509602604 1.63339986473\n",
      "windDedispTimeStatsMean3 -7377.52636719 2504.92724609 270.497355496\n",
      "windDedispTimeStatsStd4 0.0 4546.95214844 234.137495058\n",
      "windDedispTimeStatsMax4 -7663.75585938 10331.5068359 539.147126887\n",
      "windDedispTimeStatsMin4 -12589.7001953 1430.22705078 676.729358381\n",
      "windDedispTimeStatsSnr4 -11.0903535907 18.8868209803 1.6196282465\n",
      "windDedispTimeStatsMean4 -8980.453125 2324.94799805 274.116661612\n",
      "windDedispTimeStatsStd5 0.0 13068.8310547 241.349051937\n",
      "windDedispTimeStatsMax5 -1149.09277344 18983.375 571.76267559\n",
      "windDedispTimeStatsMin5 -14515.2060547 1470.52099609 603.426248701\n",
      "windDedispTimeStatsSnr5 -6.92389962613 17.2712789735 1.63616903597\n",
      "windDedispTimeStatsMean5 -3972.21484375 4393.43408203 224.533478516\n",
      "windDedispTimeStatsStd6 0.0 7856.71142578 230.721281678\n",
      "windDedispTimeStatsMax6 -6188.10009766 15923.2167969 569.869259672\n",
      "windDedispTimeStatsMin6 -13606.765625 1337.15625 625.503270186\n",
      "windDedispTimeStatsSnr6 -7.09223813346 16.1695734804 1.5870653126\n",
      "windDedispTimeStatsMean6 -9315.86523438 4728.5546875 238.308137799\n",
      "windDedispTimeStatsStd7 0.0 5132.26416016 230.423289512\n",
      "windDedispTimeStatsMax7 -4408.91552734 12662.2431641 580.695170613\n",
      "windDedispTimeStatsMin7 -13173.8984375 916.908203125 628.068579184\n",
      "windDedispTimeStatsSnr7 -6.32924871276 17.7079406334 1.57696390593\n",
      "windDedispTimeStatsMean7 -8509.03808594 2746.38935849 241.723134152\n",
      "windDedispTimeStatsStd8 0.0 7766.61865234 230.408010052\n",
      "windDedispTimeStatsMax8 -1010.27685547 17299.1738281 581.720098303\n",
      "windDedispTimeStatsMin8 -11938.5644531 1516.54345703 602.459204613\n",
      "windDedispTimeStatsSnr8 -7.71159586694 18.1058463949 1.66926824992\n",
      "windDedispTimeStatsMean8 -5588.32714844 6933.78857422 240.698075223\n",
      "windDedispTimeStatsStd9 0.0 4901.16601562 233.393746924\n",
      "windDedispTimeStatsMax9 -1252.38598633 12262.2675781 554.568873216\n",
      "windDedispTimeStatsMin9 -12401.8984375 1806.03417969 682.972271395\n",
      "windDedispTimeStatsSnr9 -6.46416623727 17.1155781484 1.58866839233\n",
      "windDedispTimeStatsMean9 -5955.81640625 2666.18139648 236.18683776\n",
      "windDedispTimeStatsStd10 0.0 7653.37402344 220.260367951\n",
      "windDedispTimeStatsMax10 -1170.67138672 15373.4091797 570.393849525\n",
      "windDedispTimeStatsMin10 -10057.9248047 1378.16113281 570.180882154\n",
      "windDedispTimeStatsSnr10 -5.54373290374 17.7861497907 1.59397455229\n",
      "windDedispTimeStatsMean10 -3261.77441406 4923.7578125 220.129007932\n",
      "windDedispTimeStatsStd11 0.0 7290.14013672 225.680293955\n",
      "windDedispTimeStatsMax11 -999.180664062 12943.4160156 555.535285835\n",
      "windDedispTimeStatsMin11 -11391.1357422 1340.35839844 592.336161216\n",
      "windDedispTimeStatsSnr11 -8.52782611371 16.5322827788 1.6306789998\n",
      "windDedispTimeStatsMean11 -3971.3515625 2135.91259766 221.048653275\n",
      "windDedispTimeStatsStd12 0.0 8408.05664062 237.540935255\n",
      "windDedispTimeStatsMax12 -967.302001953 15135.0117188 569.540900231\n",
      "windDedispTimeStatsMin12 -12623.2724609 1378.35498047 612.556638635\n",
      "windDedispTimeStatsSnr12 -5.95637879814 20.5369117104 1.54558342127\n",
      "windDedispTimeStatsMean12 -5129.89111328 3048.61914062 239.536466985\n",
      "windDedispTimeStatsStd13 0.0 9149.80664062 244.624739585\n",
      "windDedispTimeStatsMax13 -894.917480469 16169.0390625 609.044549779\n",
      "windDedispTimeStatsMin13 -12926.4941406 1965.12402344 616.006568461\n",
      "windDedispTimeStatsSnr13 -6.07153422403 16.3853932948 1.6065707376\n",
      "windDedispTimeStatsMean13 -4924.54199219 5055.21875 273.553585471\n",
      "windDedispTimeStatsStd14 0.0 5782.45410156 240.110369699\n",
      "windDedispTimeStatsMax14 -3295.52050781 10376.1933594 609.826239462\n",
      "windDedispTimeStatsMin14 -15753.5117188 5266.56005859 661.668842761\n",
      "windDedispTimeStatsSnr14 -8.900423989 16.7065489499 1.68308027074\n",
      "windDedispTimeStatsMean14 -8517.70898438 7211.52832031 348.684542159\n",
      "windDedispTimeStatsStd15 0.0 6610.48109153 508.001663523\n",
      "windDedispTimeStatsMax15 -1682.06152344 19930.2890625 985.84592364\n",
      "windDedispTimeStatsMin15 -13073.0488281 1342.13867188 1249.55651998\n",
      "windDedispTimeStatsSnr15 -7.08542880386 20.5876405515 1.65872289584\n",
      "windDedispTimeStatsMean15 -6393.93359375 6100.04101562 594.270549871\n",
      "pixelMax_0_0 -53.5594825745 288.825500488 41.3531910913\n",
      "pixelMin_0_0 -53.5594825745 288.825500488 41.3531910913\n",
      "pixelMean_0_0 -53.5594825745 288.825500488 41.3531910913\n",
      "pixelMax_0_1 -15.076748848 268.584747314 36.3891181363\n",
      "pixelMin_0_1 -15.076748848 268.584747314 36.3891181363\n",
      "pixelMean_0_1 -15.076748848 268.584747314 36.3891181363\n",
      "pixelMax_0_2 -36.3486289978 1050.48168945 41.4322423898\n",
      "pixelMin_0_2 -36.3486289978 1050.48168945 41.4322423898\n",
      "pixelMean_0_2 -36.3486289978 1050.48168945 41.4322423898\n",
      "pixelMax_0_3 -23.4307804108 425.801269531 46.6658634868\n",
      "pixelMin_0_3 -23.4307804108 425.801269531 46.6658634868\n",
      "pixelMean_0_3 -23.4307804108 425.801269531 46.6658634868\n",
      "pixelMax_1_0 -54.0473976135 282.05456543 40.832405356\n",
      "pixelMin_1_0 -54.0473976135 282.05456543 40.832405356\n",
      "pixelMean_1_0 -54.0473976135 282.05456543 40.832405356\n",
      "pixelMax_1_1 -19.9328174591 310.181671143 35.5210028028\n",
      "pixelMin_1_1 -19.9328174591 310.181671143 35.5210028028\n",
      "pixelMean_1_1 -19.9328174591 310.181671143 35.5210028028\n",
      "pixelMax_1_2 -35.9993362427 1047.18005371 40.8390142302\n",
      "pixelMin_1_2 -35.9993362427 1047.18005371 40.8390142302\n",
      "pixelMean_1_2 -35.9993362427 1047.18005371 40.8390142302\n",
      "pixelMax_1_3 -22.8797588348 450.725006104 46.3924568073\n",
      "pixelMin_1_3 -22.8797588348 450.725006104 46.3924568073\n",
      "pixelMean_1_3 -22.8797588348 450.725006104 46.3924568073\n",
      "pixelMax_2_0 -53.5337677002 283.089782715 40.8251187157\n",
      "pixelMin_2_0 -53.5337677002 283.089782715 40.8251187157\n",
      "pixelMean_2_0 -53.5337677002 283.089782715 40.8251187157\n",
      "pixelMax_2_1 -19.0611896515 293.414276123 35.7069742617\n",
      "pixelMin_2_1 -19.0611896515 293.414276123 35.7069742617\n",
      "pixelMean_2_1 -19.0611896515 293.414276123 35.7069742617\n",
      "pixelMax_2_2 -36.2150497437 1053.2154541 41.0400596338\n",
      "pixelMin_2_2 -36.2150497437 1053.2154541 41.0400596338\n",
      "pixelMean_2_2 -36.2150497437 1053.2154541 41.0400596338\n",
      "pixelMax_2_3 -23.3056411743 411.588195801 46.4270973972\n",
      "pixelMin_2_3 -23.3056411743 411.588195801 46.4270973972\n",
      "pixelMean_2_3 -23.3056411743 411.588195801 46.4270973972\n",
      "pixelMax_3_0 -54.1617355347 281.867675781 40.935575157\n",
      "pixelMin_3_0 -54.1617355347 281.867675781 40.935575157\n",
      "pixelMean_3_0 -54.1617355347 281.867675781 40.935575157\n",
      "pixelMax_3_1 -18.9161815643 349.350402832 35.6163553819\n",
      "pixelMin_3_1 -18.9161815643 349.350402832 35.6163553819\n",
      "pixelMean_3_1 -18.9161815643 349.350402832 35.6163553819\n",
      "pixelMax_3_2 -35.9291915894 1055.77722168 40.8041529768\n",
      "pixelMin_3_2 -35.9291915894 1055.77722168 40.8041529768\n",
      "pixelMean_3_2 -35.9291915894 1055.77722168 40.8041529768\n",
      "pixelMax_3_3 -22.8020496368 402.516693115 46.4068010771\n",
      "pixelMin_3_3 -22.8020496368 402.516693115 46.4068010771\n",
      "pixelMean_3_3 -22.8020496368 402.516693115 46.4068010771\n",
      "pixelMax_4_0 -55.2150764465 284.620483398 40.9806287441\n",
      "pixelMin_4_0 -55.2150764465 284.620483398 40.9806287441\n",
      "pixelMean_4_0 -55.2150764465 284.620483398 40.9806287441\n",
      "pixelMax_4_1 -17.5338668823 335.453216553 35.9503859367\n",
      "pixelMin_4_1 -17.5338668823 335.453216553 35.9503859367\n",
      "pixelMean_4_1 -17.5338668823 335.453216553 35.9503859367\n",
      "pixelMax_4_2 -36.1824302673 1047.36437988 41.0783714657\n",
      "pixelMin_4_2 -36.1824302673 1047.36437988 41.0783714657\n",
      "pixelMean_4_2 -36.1824302673 1047.36437988 41.0783714657\n",
      "pixelMax_4_3 -22.7590503693 370.587432861 46.7201739977\n",
      "pixelMin_4_3 -22.7590503693 370.587432861 46.7201739977\n",
      "pixelMean_4_3 -22.7590503693 370.587432861 46.7201739977\n",
      "pixelMax_5_0 -52.4001159668 284.637634277 41.1593885731\n",
      "pixelMin_5_0 -52.4001159668 284.637634277 41.1593885731\n",
      "pixelMean_5_0 -52.4001159668 284.637634277 41.1593885731\n",
      "pixelMax_5_1 -19.9815731049 306.741516113 36.4807785542\n",
      "pixelMin_5_1 -19.9815731049 306.741516113 36.4807785542\n",
      "pixelMean_5_1 -19.9815731049 306.741516113 36.4807785542\n",
      "pixelMax_5_2 -36.2249908447 1045.46972656 41.780893022\n",
      "pixelMin_5_2 -36.2249908447 1045.46972656 41.780893022\n",
      "pixelMean_5_2 -36.2249908447 1045.46972656 41.780893022\n",
      "pixelMax_5_3 -22.935256958 336.706573486 47.2734853384\n",
      "pixelMin_5_3 -22.935256958 336.706573486 47.2734853384\n",
      "pixelMean_5_3 -22.935256958 336.706573486 47.2734853384\n",
      "pixelMax_6_0 -54.4544715881 283.901855469 41.2599227023\n",
      "pixelMin_6_0 -54.4544715881 283.901855469 41.2599227023\n",
      "pixelMean_6_0 -54.4544715881 283.901855469 41.2599227023\n",
      "pixelMax_6_1 -19.1946697235 282.802734375 36.5046268494\n",
      "pixelMin_6_1 -19.1946697235 282.802734375 36.5046268494\n",
      "pixelMean_6_1 -19.1946697235 282.802734375 36.5046268494\n",
      "pixelMax_6_2 -36.1987113953 1035.22766113 41.5482926596\n",
      "pixelMin_6_2 -36.1987113953 1035.22766113 41.5482926596\n",
      "pixelMean_6_2 -36.1987113953 1035.22766113 41.5482926596\n",
      "pixelMax_6_3 -23.3385238647 336.955718994 47.0949594009\n",
      "pixelMin_6_3 -23.3385238647 336.955718994 47.0949594009\n",
      "pixelMean_6_3 -23.3385238647 336.955718994 47.0949594009\n",
      "pixelMax_7_0 -53.4113693237 282.858551025 41.2565895541\n",
      "pixelMin_7_0 -53.4113693237 282.858551025 41.2565895541\n",
      "pixelMean_7_0 -53.4113693237 282.858551025 41.2565895541\n",
      "pixelMax_7_1 -20.7069664001 292.927703857 36.6961022018\n",
      "pixelMin_7_1 -20.7069664001 292.927703857 36.6961022018\n",
      "pixelMean_7_1 -20.7069664001 292.927703857 36.6961022018\n",
      "pixelMax_7_2 -36.54114151 1032.47021484 41.6602345907\n",
      "pixelMin_7_2 -36.54114151 1032.47021484 41.6602345907\n",
      "pixelMean_7_2 -36.54114151 1032.47021484 41.6602345907\n",
      "pixelMax_7_3 -23.1489391327 346.052764893 47.2798009662\n",
      "pixelMin_7_3 -23.1489391327 346.052764893 47.2798009662\n",
      "pixelMean_7_3 -23.1489391327 346.052764893 47.2798009662\n",
      "pixelMax_8_0 -53.9123268127 280.578826904 41.0759681675\n",
      "pixelMin_8_0 -53.9123268127 280.578826904 41.0759681675\n",
      "pixelMean_8_0 -53.9123268127 280.578826904 41.0759681675\n",
      "pixelMax_8_1 -19.5317783356 296.045135498 36.2937501247\n",
      "pixelMin_8_1 -19.5317783356 296.045135498 36.2937501247\n",
      "pixelMean_8_1 -19.5317783356 296.045135498 36.2937501247\n",
      "pixelMax_8_2 -36.0308227539 1024.79174805 41.4275952504\n",
      "pixelMin_8_2 -36.0308227539 1024.79174805 41.4275952504\n",
      "pixelMean_8_2 -36.0308227539 1024.79174805 41.4275952504\n",
      "pixelMax_8_3 -22.8599243164 337.959411621 47.2588030577\n",
      "pixelMin_8_3 -22.8599243164 337.959411621 47.2588030577\n",
      "pixelMean_8_3 -22.8599243164 337.959411621 47.2588030577\n",
      "pixelMax_9_0 -53.8054504395 293.309265137 41.4262517622\n",
      "pixelMin_9_0 -53.8054504395 293.309265137 41.4262517622\n",
      "pixelMean_9_0 -53.8054504395 293.309265137 41.4262517622\n",
      "pixelMax_9_1 -19.1142196655 260.722473145 36.4501997777\n",
      "pixelMin_9_1 -19.1142196655 260.722473145 36.4501997777\n",
      "pixelMean_9_1 -19.1142196655 260.722473145 36.4501997777\n",
      "pixelMax_9_2 -36.0944900513 1023.88208008 41.2859814919\n",
      "pixelMin_9_2 -36.0944900513 1023.88208008 41.2859814919\n",
      "pixelMean_9_2 -36.0944900513 1023.88208008 41.2859814919\n",
      "pixelMax_9_3 -22.882604599 1197.40820312 48.1172121929\n",
      "pixelMin_9_3 -22.882604599 1197.40820312 48.1172121929\n",
      "pixelMean_9_3 -22.882604599 1197.40820312 48.1172121929\n",
      "pixelMax_10_0 -52.644569397 282.417449951 41.2496605289\n",
      "pixelMin_10_0 -52.644569397 282.417449951 41.2496605289\n",
      "pixelMean_10_0 -52.644569397 282.417449951 41.2496605289\n",
      "pixelMax_10_1 -21.3142986298 282.310943604 36.4976174077\n",
      "pixelMin_10_1 -21.3142986298 282.310943604 36.4976174077\n",
      "pixelMean_10_1 -21.3142986298 282.310943604 36.4976174077\n",
      "pixelMax_10_2 -36.3843574524 1025.4831543 41.274028296\n",
      "pixelMin_10_2 -36.3843574524 1025.4831543 41.274028296\n",
      "pixelMean_10_2 -36.3843574524 1025.4831543 41.274028296\n",
      "pixelMax_10_3 -22.6777648926 1195.99511719 48.0978180079\n",
      "pixelMin_10_3 -22.6777648926 1195.99511719 48.0978180079\n",
      "pixelMean_10_3 -22.6777648926 1195.99511719 48.0978180079\n",
      "pixelMax_11_0 -53.0979385376 283.76083374 40.5773040139\n",
      "pixelMin_11_0 -53.0979385376 283.76083374 40.5773040139\n",
      "pixelMean_11_0 -53.0979385376 283.76083374 40.5773040139\n",
      "pixelMax_11_1 -19.5010890961 285.402770996 35.8915174075\n",
      "pixelMin_11_1 -19.5010890961 285.402770996 35.8915174075\n",
      "pixelMean_11_1 -19.5010890961 285.402770996 35.8915174075\n",
      "pixelMax_11_2 -35.9389572144 1023.6184082 41.0064480838\n",
      "pixelMin_11_2 -35.9389572144 1023.6184082 41.0064480838\n",
      "pixelMean_11_2 -35.9389572144 1023.6184082 41.0064480838\n",
      "pixelMax_11_3 -22.7999744415 1195.84265137 47.1368774625\n",
      "pixelMin_11_3 -22.7999744415 1195.84265137 47.1368774625\n",
      "pixelMean_11_3 -22.7999744415 1195.84265137 47.1368774625\n",
      "pixelMax_12_0 -52.5017662048 282.876190186 40.8162905078\n",
      "pixelMin_12_0 -52.5017662048 282.876190186 40.8162905078\n",
      "pixelMean_12_0 -52.5017662048 282.876190186 40.8162905078\n",
      "pixelMax_12_1 -20.0798454285 298.80581665 36.1586288682\n",
      "pixelMin_12_1 -20.0798454285 298.80581665 36.1586288682\n",
      "pixelMean_12_1 -20.0798454285 298.80581665 36.1586288682\n",
      "pixelMax_12_2 -36.0262145996 1017.78448486 41.0269686721\n",
      "pixelMin_12_2 -36.0262145996 1017.78448486 41.0269686721\n",
      "pixelMean_12_2 -36.0262145996 1017.78448486 41.0269686721\n",
      "pixelMax_12_3 -22.8539218903 1193.66479492 47.4929538692\n",
      "pixelMin_12_3 -22.8539218903 1193.66479492 47.4929538692\n",
      "pixelMean_12_3 -22.8539218903 1193.66479492 47.4929538692\n",
      "pixelMax_13_0 -52.1700401306 288.825500488 40.5868002604\n",
      "pixelMin_13_0 -52.1700401306 288.825500488 40.5868002604\n",
      "pixelMean_13_0 -52.1700401306 288.825500488 40.5868002604\n",
      "pixelMax_13_1 -18.8320045471 267.185333252 35.9060211711\n",
      "pixelMin_13_1 -18.8320045471 267.185333252 35.9060211711\n",
      "pixelMean_13_1 -18.8320045471 267.185333252 35.9060211711\n",
      "pixelMax_13_2 -36.3554191589 1018.62365723 41.2002439559\n",
      "pixelMin_13_2 -36.3554191589 1018.62365723 41.2002439559\n",
      "pixelMean_13_2 -36.3554191589 1018.62365723 41.2002439559\n",
      "pixelMax_13_3 -23.0124187469 1195.0736084 47.433945404\n",
      "pixelMin_13_3 -23.0124187469 1195.0736084 47.433945404\n",
      "pixelMean_13_3 -23.0124187469 1195.0736084 47.433945404\n",
      "pixelMax_14_0 -51.2381134033 280.974822998 40.1583380457\n",
      "pixelMin_14_0 -51.2381134033 280.974822998 40.1583380457\n",
      "pixelMean_14_0 -51.2381134033 280.974822998 40.1583380457\n",
      "pixelMax_14_1 -19.1209716797 310.181671143 34.9884457393\n",
      "pixelMin_14_1 -19.1209716797 310.181671143 34.9884457393\n",
      "pixelMean_14_1 -19.1209716797 310.181671143 34.9884457393\n",
      "pixelMax_14_2 -36.2476234436 1038.34069824 40.4701874907\n",
      "pixelMin_14_2 -36.2476234436 1038.34069824 40.4701874907\n",
      "pixelMean_14_2 -36.2476234436 1038.34069824 40.4701874907\n",
      "pixelMax_14_3 -23.0437335968 332.259124756 45.6710954703\n",
      "pixelMin_14_3 -23.0437335968 332.259124756 45.6710954703\n",
      "pixelMean_14_3 -23.0437335968 332.259124756 45.6710954703\n",
      "pixelMax_15_0 -49.4090080261 288.258422852 39.8562771885\n",
      "pixelMin_15_0 -49.4090080261 288.258422852 39.8562771885\n",
      "pixelMean_15_0 -49.4090080261 288.258422852 39.8562771885\n",
      "pixelMax_15_1 -19.7142028809 275.369842529 33.9682926776\n",
      "pixelMin_15_1 -19.7142028809 275.369842529 33.9682926776\n",
      "pixelMean_15_1 -19.7142028809 275.369842529 33.9682926776\n",
      "pixelMax_15_2 -35.6726379395 1046.61791992 39.8574241092\n",
      "pixelMin_15_2 -35.6726379395 1046.61791992 39.8574241092\n",
      "pixelMean_15_2 -35.6726379395 1046.61791992 39.8574241092\n",
      "pixelMax_15_3 -22.8769168854 335.821075439 44.8995080631\n",
      "pixelMin_15_3 -22.8769168854 335.821075439 44.8995080631\n",
      "pixelMean_15_3 -22.8769168854 335.821075439 44.8995080631\n",
      "relMJDmax 0.0 9.5554998552e-05 3.10058579226e-05\n",
      "relMJDmean -3.63797880709e-11 9.07058129087e-05 1.86929275961e-05\n",
      "relMJDmedian 0.0 9.1916990641e-05 2.00875725459e-05\n"
     ]
    }
   ],
   "source": [
    "for col in labelledDf:\n",
    "    if labelledDf[col].dtype == object: print col, labelledDf[col].min(), labelledDf[col].max()\n",
    "    else: print col, labelledDf[col].min(), labelledDf[col].max(), labelledDf[col].std()"
   ]
  },
  {
   "cell_type": "markdown",
   "metadata": {},
   "source": [
    "**Apply Direct Data Cleaning Filters**"
   ]
  },
  {
   "cell_type": "code",
   "execution_count": 12,
   "metadata": {
    "collapsed": false
   },
   "outputs": [],
   "source": [
    "# Check that data during March 2017 has been removed\n",
    "for row in labelledDf.iterrows():\n",
    "    idx, data = row\n",
    "    if (data['globtsStatsMean'] < -3e3) or (data['globtsStatsMin'] < -3e3): print idx\n",
    "        \n",
    "# Check that all events which overflow have been dropped\n",
    "for row in labelledDf.iterrows():\n",
    "    idx, data = row\n",
    "    if data['ofCount'] > 0.: print idx"
   ]
  },
  {
   "cell_type": "code",
   "execution_count": 13,
   "metadata": {
    "collapsed": false,
    "deletable": true,
    "editable": true
   },
   "outputs": [
    {
     "name": "stdout",
     "output_type": "stream",
     "text": [
      "(13419, 409)\n"
     ]
    }
   ],
   "source": [
    "print labelledDf.shape"
   ]
  },
  {
   "cell_type": "markdown",
   "metadata": {
    "deletable": true,
    "editable": true
   },
   "source": [
    "**Select out the labels**"
   ]
  },
  {
   "cell_type": "code",
   "execution_count": 14,
   "metadata": {
    "collapsed": false,
    "deletable": true,
    "editable": true
   },
   "outputs": [],
   "source": [
    "labels = labelledDf['Label'].values"
   ]
  },
  {
   "cell_type": "markdown",
   "metadata": {
    "deletable": true,
    "editable": true
   },
   "source": [
    "**Drop the meta-information columns**"
   ]
  },
  {
   "cell_type": "code",
   "execution_count": 15,
   "metadata": {
    "collapsed": false,
    "deletable": true,
    "editable": true
   },
   "outputs": [
    {
     "data": {
      "text/plain": [
       "Index([u'datfile', u'Beam', u'TSID', u'Buffer', u'MJDstart', u'bestDM',\n",
       "       u'bestSNR', u'BinFactor', u'Events', u'DMmax',\n",
       "       ...\n",
       "       u'pixelMean_15_1', u'pixelMax_15_2', u'pixelMin_15_2',\n",
       "       u'pixelMean_15_2', u'pixelMax_15_3', u'pixelMin_15_3',\n",
       "       u'pixelMean_15_3', u'relMJDmax', u'relMJDmean', u'relMJDmedian'],\n",
       "      dtype='object', length=409)"
      ]
     },
     "execution_count": 15,
     "metadata": {},
     "output_type": "execute_result"
    }
   ],
   "source": [
    "labelledDf.columns"
   ]
  },
  {
   "cell_type": "code",
   "execution_count": 16,
   "metadata": {
    "collapsed": true,
    "deletable": true,
    "editable": true
   },
   "outputs": [],
   "source": [
    "featureDf = labelledDf.drop(['Beam', 'Buffer', 'datfile', 'TSID', 'Label', 'predictLabel', 'filterbank'], axis=1)"
   ]
  },
  {
   "cell_type": "markdown",
   "metadata": {},
   "source": [
    "#### Drop Features that are not useful"
   ]
  },
  {
   "cell_type": "code",
   "execution_count": 17,
   "metadata": {
    "collapsed": true
   },
   "outputs": [],
   "source": [
    "featureDf = featureDf.drop(['MJDmax', 'MJDmean', 'MJDmedian', 'MJDmin'], axis=1) # computed relative time difference features"
   ]
  },
  {
   "cell_type": "code",
   "execution_count": 18,
   "metadata": {
    "collapsed": false,
    "deletable": true,
    "editable": true
   },
   "outputs": [
    {
     "data": {
      "text/plain": [
       "Index([u'MJDstart', u'bestDM', u'bestSNR', u'BinFactor', u'Events', u'DMmax',\n",
       "       u'DMmin', u'DMmean', u'DMmedian', u'DMstd',\n",
       "       ...\n",
       "       u'pixelMean_15_1', u'pixelMax_15_2', u'pixelMin_15_2',\n",
       "       u'pixelMean_15_2', u'pixelMax_15_3', u'pixelMin_15_3',\n",
       "       u'pixelMean_15_3', u'relMJDmax', u'relMJDmean', u'relMJDmedian'],\n",
       "      dtype='object', length=398)"
      ]
     },
     "execution_count": 18,
     "metadata": {},
     "output_type": "execute_result"
    }
   ],
   "source": [
    "featureDf.columns"
   ]
  },
  {
   "cell_type": "markdown",
   "metadata": {
    "deletable": true,
    "editable": true
   },
   "source": [
    "### Pre-Processing\n",
    "\n",
    "Prepare the features for model building: outliers (inf, NaN) need to be replaces, the features need to be scaled to zero mean, and unity variance."
   ]
  },
  {
   "cell_type": "code",
   "execution_count": 19,
   "metadata": {
    "collapsed": false
   },
   "outputs": [],
   "source": [
    "import sklearn.preprocessing"
   ]
  },
  {
   "cell_type": "markdown",
   "metadata": {
    "deletable": true,
    "editable": true
   },
   "source": [
    "**Convert feature dataframe to 2-D array of floats**"
   ]
  },
  {
   "cell_type": "code",
   "execution_count": 20,
   "metadata": {
    "collapsed": true,
    "deletable": true,
    "editable": true
   },
   "outputs": [],
   "source": [
    "featuresArr = featureDf.values.astype('float32')\n",
    "preProcLabels = labels.copy()"
   ]
  },
  {
   "cell_type": "markdown",
   "metadata": {},
   "source": [
    "**Replace NaN and inf values**"
   ]
  },
  {
   "cell_type": "code",
   "execution_count": 21,
   "metadata": {
    "collapsed": false
   },
   "outputs": [
    {
     "name": "stdout",
     "output_type": "stream",
     "text": [
      "[]\n",
      "(13419, 398) (13419,)\n"
     ]
    }
   ],
   "source": [
    "featuresArr[featuresArr == -1. * np.inf] = np.nan\n",
    "featuresArr[featuresArr == np.inf] = np.nan\n",
    "print featuresArr[featuresArr == np.nan]\n",
    "\n",
    "imp = sklearn.preprocessing.Imputer(missing_values='NaN', strategy='mean', axis=0).fit(featuresArr)\n",
    "\n",
    "preProcFeats = imp.transform(featuresArr)\n",
    "print preProcFeats.shape, preProcLabels.shape"
   ]
  },
  {
   "cell_type": "markdown",
   "metadata": {
    "deletable": true,
    "editable": true
   },
   "source": [
    "**Scale Features**\n",
    "\n",
    "Robust scaling uses a median filter, this is better for non-Gaussian distributions"
   ]
  },
  {
   "cell_type": "code",
   "execution_count": 22,
   "metadata": {
    "collapsed": false
   },
   "outputs": [
    {
     "name": "stdout",
     "output_type": "stream",
     "text": [
      "[  2.86867188e+02   3.21850000e+03   7.15883636e+00   4.80000000e+01\n",
      "   8.89450000e+03   7.41250000e+03   8.85500000e+02   4.27534602e+03\n",
      "   4.14650000e+03   9.24252998e+02   1.44907618e+00   1.11415720e+00\n",
      "   1.37039416e+00   8.56867777e-06   7.86132812e-02   3.72984851e-01\n",
      "   1.00000000e+00   1.00000000e+00   8.80000000e+01   2.92968750e-03\n",
      "   5.56640625e-02   4.22398668e+01   3.64588623e+01   6.99000000e+02\n",
      "   3.30729279e+02   1.07910156e-01   4.88281250e-03   9.46647835e+01\n",
      "   1.08398438e-01   6.94000000e+02   7.15298411e-01   1.62072275e+01\n",
      "   2.63870544e+02   1.07387933e+03   7.68000000e+02   1.05536099e+03\n",
      "   4.88281250e-03   1.00364685e+01   1.36162436e+00   4.39453125e-03\n",
      "   7.68000000e+02   3.98856908e-01   1.62072306e+01   2.21605148e+01\n",
      "   1.95898438e+00   1.06125854e+02   2.46541440e+00   7.47705412e+00\n",
      "   2.19934178e+01   2.25720215e+00   1.00125244e+02   2.38643551e+00\n",
      "   7.03026199e+00   2.12091744e+01   1.79687500e+00   9.65667191e+01\n",
      "   2.40912783e+00   6.28734970e+00   2.17518971e+01   2.27319336e+00\n",
      "   9.90122070e+01   2.40355349e+00   6.81124234e+00   2.21987066e+01\n",
      "   2.43505859e+00   9.87172852e+01   2.43710482e+00   7.07207203e+00\n",
      "   2.21483584e+01   2.34216309e+00   1.00163574e+02   2.40887427e+00\n",
      "   6.47071171e+00   2.23650183e+01   2.38452148e+00   1.01068161e+02\n",
      "   2.40143239e+00   6.86851096e+00   2.22438739e+01   2.33618164e+00\n",
      "   1.00175293e+02   2.39328241e+00   7.32748413e+00   2.27477697e+01\n",
      "   1.78442383e+00   1.02450195e+02   2.35829139e+00   7.87336349e+00\n",
      "   2.20860216e+01   2.18365479e+00   9.74390564e+01   2.41341305e+00\n",
      "   6.96520138e+00   2.03410908e+01   2.21142578e+00   9.10718994e+01\n",
      "   2.39084661e+00   5.56704998e+00   2.06588954e+01   2.21105957e+00\n",
      "   9.36331787e+01   2.40836203e+00   5.79794312e+00   2.18051176e+01\n",
      "   2.04785156e+00   9.84244385e+01   2.41549027e+00   6.67330933e+00\n",
      "   2.24541343e+01   2.18310547e+00   1.03041870e+02   2.40949512e+00\n",
      "   7.48419714e+00   2.27288938e+01   1.85522461e+00   1.03347420e+02\n",
      "   2.41165268e+00   7.62466431e+00   2.28920366e+01   1.56072998e+00\n",
      "   1.05369263e+02   2.41680229e+00   8.16436768e+00   1.75519512e+02\n",
      "   4.48221039e+02   4.91735023e+02   1.02744025e+00   2.25337343e+01\n",
      "   1.66820137e+02   4.23922272e+02   4.79593842e+02   1.05366743e+00\n",
      "   2.28052597e+01   1.64131897e+02   4.18882935e+02   4.78869141e+02\n",
      "   1.06661230e+00   2.27728336e+01   1.64882557e+02   4.22994873e+02\n",
      "   4.89812317e+02   1.07835108e+00   2.35674272e+01   1.67470528e+02\n",
      "   4.37071991e+02   4.87688385e+02   1.07366991e+00   2.33204284e+01\n",
      "   1.62698402e+02   4.23223877e+02   4.83356049e+02   1.09901720e+00\n",
      "   2.14789824e+01   1.66361565e+02   4.25654175e+02   4.85911377e+02\n",
      "   1.10250235e+00   2.33514595e+01   1.70830368e+02   4.39184204e+02\n",
      "   4.97754028e+02   1.09658444e+00   2.29679966e+01   1.71341740e+02\n",
      "   4.39684814e+02   4.93030212e+02   1.09100217e+00   2.40258772e+01\n",
      "   1.70264149e+02   4.20203979e+02   4.98989166e+02   1.06935078e+00\n",
      "   2.33411951e+01   1.65907036e+02   4.24603271e+02   4.84787994e+02\n",
      "   1.03757018e+00   1.95216146e+01   1.63663063e+02   4.17887238e+02\n",
      "   4.88806305e+02   1.04263473e+00   2.04379768e+01   1.71809067e+02\n",
      "   4.41893494e+02   5.11564972e+02   1.04544270e+00   2.09305115e+01\n",
      "   1.76105740e+02   4.29338043e+02   5.09224075e+02   1.04659575e+00\n",
      "   2.46554031e+01   1.91147598e+02   4.27520752e+02   6.21815247e+02\n",
      "   1.18807137e+00   5.32784481e+01   3.02448040e+02   5.35915771e+02\n",
      "   8.45470825e+02   1.65200704e+00   1.79811124e+02   4.45188923e+01\n",
      "   4.45188923e+01   4.45188923e+01   2.42285218e+01   2.42285218e+01\n",
      "   2.42285218e+01   4.30989380e+01   4.30989380e+01   4.30989380e+01\n",
      "   5.32689705e+01   5.32689705e+01   5.32689705e+01   4.49493427e+01\n",
      "   4.49493427e+01   4.49493427e+01   2.34204202e+01   2.34204202e+01\n",
      "   2.34204202e+01   4.24468851e+01   4.24468851e+01   4.24468851e+01\n",
      "   5.36404047e+01   5.36404047e+01   5.36404047e+01   4.23698750e+01\n",
      "   4.23698750e+01   4.23698750e+01   2.36593804e+01   2.36593804e+01\n",
      "   2.36593804e+01   4.23954840e+01   4.23954840e+01   4.23954840e+01\n",
      "   5.38917704e+01   5.38917704e+01   5.38917704e+01   4.31624632e+01\n",
      "   4.31624632e+01   4.31624632e+01   2.38709149e+01   2.38709149e+01\n",
      "   2.38709149e+01   4.26522951e+01   4.26522951e+01   4.26522951e+01\n",
      "   5.37953310e+01   5.37953310e+01   5.37953310e+01   4.43449364e+01\n",
      "   4.43449364e+01   4.43449364e+01   2.41909089e+01   2.41909089e+01\n",
      "   2.41909089e+01   4.27519932e+01   4.27519932e+01   4.27519932e+01\n",
      "   5.31620159e+01   5.31620159e+01   5.31620159e+01   4.51415834e+01\n",
      "   4.51415834e+01   4.51415834e+01   2.43675232e+01   2.43675232e+01\n",
      "   2.43675232e+01   4.30366392e+01   4.30366392e+01   4.30366392e+01\n",
      "   5.38025417e+01   5.38025417e+01   5.38025417e+01   4.44848289e+01\n",
      "   4.44848289e+01   4.44848289e+01   2.40353169e+01   2.40353169e+01\n",
      "   2.40353169e+01   4.25631342e+01   4.25631342e+01   4.25631342e+01\n",
      "   5.40966492e+01   5.40966492e+01   5.40966492e+01   4.60076823e+01\n",
      "   4.60076823e+01   4.60076823e+01   2.42104626e+01   2.42104626e+01\n",
      "   2.42104626e+01   4.26147594e+01   4.26147594e+01   4.26147594e+01\n",
      "   5.32236242e+01   5.32236242e+01   5.32236242e+01   4.48169289e+01\n",
      "   4.48169289e+01   4.48169289e+01   2.44193416e+01   2.44193416e+01\n",
      "   2.44193416e+01   4.25506763e+01   4.25506763e+01   4.25506763e+01\n",
      "   5.35286341e+01   5.35286341e+01   5.35286341e+01   4.65737629e+01\n",
      "   4.65737629e+01   4.65737629e+01   2.42150755e+01   2.42150755e+01\n",
      "   2.42150755e+01   4.20691547e+01   4.20691547e+01   4.20691547e+01\n",
      "   5.32596607e+01   5.32596607e+01   5.32596607e+01   4.48246756e+01\n",
      "   4.48246756e+01   4.48246756e+01   2.41833100e+01   2.41833100e+01\n",
      "   2.41833100e+01   4.19671125e+01   4.19671125e+01   4.19671125e+01\n",
      "   5.34868937e+01   5.34868937e+01   5.34868937e+01   4.32837143e+01\n",
      "   4.32837143e+01   4.32837143e+01   2.36905265e+01   2.36905265e+01\n",
      "   2.36905265e+01   4.28470716e+01   4.28470716e+01   4.28470716e+01\n",
      "   5.37441206e+01   5.37441206e+01   5.37441206e+01   4.28449945e+01\n",
      "   4.28449945e+01   4.28449945e+01   2.37832875e+01   2.37832875e+01\n",
      "   2.37832875e+01   4.21472664e+01   4.21472664e+01   4.21472664e+01\n",
      "   5.37431107e+01   5.37431107e+01   5.37431107e+01   4.30295544e+01\n",
      "   4.30295544e+01   4.30295544e+01   2.32622576e+01   2.32622576e+01\n",
      "   2.32622576e+01   4.24747162e+01   4.24747162e+01   4.24747162e+01\n",
      "   5.43576984e+01   5.43576984e+01   5.43576984e+01   4.14350700e+01\n",
      "   4.14350700e+01   4.14350700e+01   2.21724219e+01   2.21724219e+01\n",
      "   2.21724219e+01   4.21732950e+01   4.21732950e+01   4.21732950e+01\n",
      "   5.46848764e+01   5.46848764e+01   5.46848764e+01   4.13538923e+01\n",
      "   4.13538923e+01   4.13538923e+01   2.16844850e+01   2.16844850e+01\n",
      "   2.16844850e+01   4.31255760e+01   4.31255760e+01   4.31255760e+01\n",
      "   5.51148462e+01   5.51148462e+01   5.51148462e+01   5.20209906e-05\n",
      "   2.11970000e-05   1.82820004e-05]\n",
      "[  5.73734375e+04   1.03900000e+03   1.29078360e+01   1.60000000e+01\n",
      "   1.29200000e+03   2.55200000e+03   9.50000000e+01   1.36811096e+03\n",
      "   1.33100000e+03   3.77914398e+02   1.08141813e+01   1.06538334e+01\n",
      "   7.10638702e-01   1.38466339e-06   2.53906250e-02   1.44601852e-01\n",
      "   0.00000000e+00   0.00000000e+00   5.00000000e+00  -9.76562500e-04\n",
      "   5.85937500e-03   6.44058752e+00   1.76757812e+00   5.03000000e+02\n",
      "  -1.02311523e+02   4.72656250e-01  -7.32421875e-04   1.02620173e+00\n",
      "   4.69238281e-01   5.07000000e+02   2.03356743e-01  -1.01486713e-01\n",
      "   2.43118332e+02   1.54075488e+03   5.12000000e+02  -1.38755859e+03\n",
      "   5.00000000e-01  -4.88281250e-01   7.37428248e-01   5.00000000e-01\n",
      "   5.12000000e+02   1.07215214e+00  -1.01491570e-01   7.22151902e-03\n",
      "   1.46484375e-03  -1.36718750e-02   8.68041039e-01  -1.07765198e-03\n",
      "   7.47325597e-03   1.46484375e-03  -1.36718750e-02   7.70731628e-01\n",
      "  -1.07192993e-03   7.85980187e-03   1.46484375e-03  -1.36718750e-02\n",
      "   7.77544618e-01  -1.06334686e-03   7.43502425e-03   1.46484375e-03\n",
      "  -1.36718750e-02   7.61529267e-01  -1.07479095e-03   7.50682782e-03\n",
      "   1.46484375e-03  -1.26953125e-02   8.18698227e-01  -1.05953217e-03\n",
      "   7.32802832e-03   1.46484375e-03  -1.36718750e-02   7.93659508e-01\n",
      "  -1.11007690e-03   7.26702949e-03   1.46484375e-03  -1.36718750e-02\n",
      "   7.77033567e-01  -1.05762482e-03   7.22177699e-03   1.46484375e-03\n",
      "  -1.29394531e-02   8.42762113e-01  -1.05953217e-03   7.69675104e-03\n",
      "   1.46484375e-03  -1.36718750e-02   6.96238518e-01  -1.08528137e-03\n",
      "   7.21945520e-03   1.70898438e-03  -1.29394531e-02   7.99524009e-01\n",
      "  -9.88006592e-04   7.02401670e-03   1.46484375e-03  -1.26953125e-02\n",
      "   7.84258485e-01  -1.05667114e-03   6.90923305e-03   1.46484375e-03\n",
      "  -1.26953125e-02   8.27033699e-01  -9.76562500e-04   7.39098946e-03\n",
      "   1.46484375e-03  -1.26953125e-02   8.08122039e-01  -1.01566315e-03\n",
      "   7.05741253e-03   1.46484375e-03  -1.31835938e-02   8.33226681e-01\n",
      "  -1.02996826e-03   7.16578448e-03   1.46484375e-03  -1.29394531e-02\n",
      "   8.36619139e-01  -1.04522705e-03   6.99372077e-03   1.22070312e-03\n",
      "  -1.31835938e-02   8.36619139e-01  -1.02043152e-03   1.30544434e+02\n",
      "   2.81052612e+02  -3.00524414e+02   2.36389208e+00  -5.59524536e-01\n",
      "   1.28316818e+02   2.74998169e+02  -2.96466797e+02   2.33729577e+00\n",
      "  -6.98600769e-01   1.28772751e+02   2.77978027e+02  -2.99885742e+02\n",
      "   2.35142112e+00  -5.45776367e-01   1.29065125e+02   2.77227539e+02\n",
      "  -3.02098633e+02   2.32331371e+00  -6.42839432e-01   1.31799973e+02\n",
      "   2.76403564e+02  -3.03929688e+02   2.32457900e+00  -6.36611938e-01\n",
      "   1.28397232e+02   2.74093323e+02  -2.98298828e+02   2.33925366e+00\n",
      "  -4.91115570e-01   1.27005264e+02   2.71316345e+02  -2.95162109e+02\n",
      "   2.32570267e+00  -5.56692123e-01   1.28351807e+02   2.73217773e+02\n",
      "  -2.96870117e+02   2.32810616e+00  -5.55713654e-01   1.28634583e+02\n",
      "   2.73436035e+02  -2.97954010e+02   2.33297205e+00  -6.05633259e-01\n",
      "   1.30179047e+02   2.71095703e+02  -2.95766846e+02   2.33235312e+00\n",
      "  -5.42663574e-01   1.26315140e+02   2.71558594e+02  -2.87395264e+02\n",
      "   2.32970667e+00  -3.89245510e-01   1.26145561e+02   2.68824219e+02\n",
      "  -2.87933105e+02   2.34012914e+00  -5.30334473e-01   1.29719452e+02\n",
      "   2.75059387e+02  -2.90979004e+02   2.34711337e+00  -5.84019661e-01\n",
      "   1.29871643e+02   2.68742188e+02  -3.03555664e+02   2.32456875e+00\n",
      "  -8.32913578e-01   1.42021225e+02   2.56702637e+02  -3.56238770e+02\n",
      "   2.23695469e+00  -2.04112720e+00   2.10792084e+02   2.96295593e+02\n",
      "  -5.46397583e+02   2.12294269e+00  -9.02446175e+00   2.61398602e+00\n",
      "   2.61398602e+00   2.61398602e+00   1.97952175e+01   1.97952175e+01\n",
      "   1.97952175e+01   3.80104141e+01   3.80104141e+01   3.80104141e+01\n",
      "   4.86799088e+01   4.86799088e+01   4.86799088e+01   2.36801124e+00\n",
      "   2.36801124e+00   2.36801124e+00   1.94324913e+01   1.94324913e+01\n",
      "   1.94324913e+01   3.62664795e+01   3.62664795e+01   3.62664795e+01\n",
      "   4.77854462e+01   4.77854462e+01   4.77854462e+01   2.56236267e+00\n",
      "   2.56236267e+00   2.56236267e+00   1.97336979e+01   1.97336979e+01\n",
      "   1.97336979e+01   3.67376633e+01   3.67376633e+01   3.67376633e+01\n",
      "   4.80610847e+01   4.80610847e+01   4.80610847e+01   2.58637428e+00\n",
      "   2.58637428e+00   2.58637428e+00   1.96593094e+01   1.96593094e+01\n",
      "   1.96593094e+01   3.71080360e+01   3.71080360e+01   3.71080360e+01\n",
      "   4.81350060e+01   4.81350060e+01   4.81350060e+01   3.15784168e+00\n",
      "   3.15784168e+00   3.15784168e+00   2.02427273e+01   2.02427273e+01\n",
      "   2.02427273e+01   3.81588326e+01   3.81588326e+01   3.81588326e+01\n",
      "   4.92218933e+01   4.92218933e+01   4.92218933e+01   3.60214782e+00\n",
      "   3.60214782e+00   3.60214782e+00   2.05983582e+01   2.05983582e+01\n",
      "   2.05983582e+01   3.86761475e+01   3.86761475e+01   3.86761475e+01\n",
      "   4.94830971e+01   4.94830971e+01   4.94830971e+01   3.58718276e+00\n",
      "   3.58718276e+00   3.58718276e+00   2.05114326e+01   2.05114326e+01\n",
      "   2.05114326e+01   3.85008774e+01   3.85008774e+01   3.85008774e+01\n",
      "   4.93295937e+01   4.93295937e+01   4.93295937e+01   3.73195887e+00\n",
      "   3.73195887e+00   3.73195887e+00   2.07164917e+01   2.07164917e+01\n",
      "   2.07164917e+01   3.87033615e+01   3.87033615e+01   3.87033615e+01\n",
      "   4.90982437e+01   4.90982437e+01   4.90982437e+01   3.92914343e+00\n",
      "   3.92914343e+00   3.92914343e+00   2.03293934e+01   2.03293934e+01\n",
      "   2.03293934e+01   3.88004303e+01   3.88004303e+01   3.88004303e+01\n",
      "   4.89492188e+01   4.89492188e+01   4.89492188e+01   3.72026539e+00\n",
      "   3.72026539e+00   3.72026539e+00   2.07549076e+01   2.07549076e+01\n",
      "   2.07549076e+01   3.87617874e+01   3.87617874e+01   3.87617874e+01\n",
      "   4.90938950e+01   4.90938950e+01   4.90938950e+01   3.01821375e+00\n",
      "   3.01821375e+00   3.01821375e+00   2.06922436e+01   2.06922436e+01\n",
      "   2.06922436e+01   3.81915550e+01   3.81915550e+01   3.81915550e+01\n",
      "   4.85590286e+01   4.85590286e+01   4.85590286e+01   2.92114401e+00\n",
      "   2.92114401e+00   2.92114401e+00   2.05927887e+01   2.05927887e+01\n",
      "   2.05927887e+01   3.75216408e+01   3.75216408e+01   3.75216408e+01\n",
      "   4.81925011e+01   4.81925011e+01   4.81925011e+01   2.98214245e+00\n",
      "   2.98214245e+00   2.98214245e+00   2.01035843e+01   2.01035843e+01\n",
      "   2.01035843e+01   3.70624008e+01   3.70624008e+01   3.70624008e+01\n",
      "   4.79549408e+01   4.79549408e+01   4.79549408e+01   2.93374634e+00\n",
      "   2.93374634e+00   2.93374634e+00   2.01848125e+01   2.01848125e+01\n",
      "   2.01848125e+01   3.61336899e+01   3.61336899e+01   3.61336899e+01\n",
      "   4.69180603e+01   4.69180603e+01   4.69180603e+01   2.81568861e+00\n",
      "   2.81568861e+00   2.81568861e+00   1.99638386e+01   1.99638386e+01\n",
      "   1.99638386e+01   3.51864853e+01   3.51864853e+01   3.51864853e+01\n",
      "   4.57568779e+01   4.57568779e+01   4.57568779e+01   2.78042245e+00\n",
      "   2.78042245e+00   2.78042245e+00   1.93741322e+01   1.93741322e+01\n",
      "   1.93741322e+01   3.40140991e+01   3.40140991e+01   3.40140991e+01\n",
      "   4.48625031e+01   4.48625031e+01   4.48625031e+01   6.82700193e-06\n",
      "   2.47360731e-06   2.03899253e-06]\n"
     ]
    }
   ],
   "source": [
    "rScale = sklearn.preprocessing.RobustScaler().fit(preProcFeats)\n",
    "print rScale.scale_\n",
    "print rScale.center_\n",
    "\n",
    "preProcFeats = rScale.transform(preProcFeats)"
   ]
  },
  {
   "cell_type": "markdown",
   "metadata": {},
   "source": [
    "### Classifier"
   ]
  },
  {
   "cell_type": "code",
   "execution_count": 23,
   "metadata": {
    "collapsed": true
   },
   "outputs": [],
   "source": [
    "import sklearn.ensemble\n",
    "import sklearn.multiclass\n",
    "import sklearn.model_selection"
   ]
  },
  {
   "cell_type": "code",
   "execution_count": 24,
   "metadata": {
    "collapsed": false
   },
   "outputs": [],
   "source": [
    "# Multi-class one vs rest random forest classifier\n",
    "#clf = sklearn.multiclass.OneVsRestClassifier(sklearn.ensemble.RandomForestClassifier(n_estimators=10,\\\n",
    "#                                              max_depth=None, min_samples_split=2, random_state=0))"
   ]
  },
  {
   "cell_type": "markdown",
   "metadata": {},
   "source": [
    "**Cross-validation**"
   ]
  },
  {
   "cell_type": "code",
   "execution_count": 25,
   "metadata": {
    "collapsed": false
   },
   "outputs": [],
   "source": [
    "k_fold = sklearn.model_selection.StratifiedKFold(n_splits=3, shuffle=True)"
   ]
  },
  {
   "cell_type": "markdown",
   "metadata": {},
   "source": [
    "**Hyper-parameter Grid Search**"
   ]
  },
  {
   "cell_type": "code",
   "execution_count": 26,
   "metadata": {
    "collapsed": false
   },
   "outputs": [
    {
     "name": "stdout",
     "output_type": "stream",
     "text": [
      "['estimator__min_samples_leaf', 'estimator__min_impurity_split', 'estimator__oob_score', 'n_jobs', 'estimator__criterion', 'estimator__class_weight', 'estimator__min_samples_split', 'estimator__max_leaf_nodes', 'estimator__warm_start', 'estimator__random_state', 'estimator__min_impurity_decrease', 'estimator__max_features', 'estimator__bootstrap', 'estimator', 'estimator__verbose', 'estimator__n_estimators', 'estimator__n_jobs', 'estimator__min_weight_fraction_leaf', 'estimator__max_depth']\n",
      "-0.321418538385\n",
      "OneVsRestClassifier(estimator=RandomForestClassifier(bootstrap=True, class_weight=None, criterion='gini',\n",
      "            max_depth=None, max_features='auto', max_leaf_nodes=None,\n",
      "            min_impurity_decrease=0.0, min_impurity_split=None,\n",
      "            min_samples_leaf=1, min_samples_split=2,\n",
      "            min_weight_fraction_leaf=0.0, n_estimators=80, n_jobs=1,\n",
      "            oob_score=False, random_state=None, verbose=0,\n",
      "            warm_start=False),\n",
      "          n_jobs=1)\n"
     ]
    }
   ],
   "source": [
    "randForest = sklearn.multiclass.OneVsRestClassifier(sklearn.ensemble.RandomForestClassifier())\n",
    "#randForest = sklearn.multiclass.OneVsOneClassifier(sklearn.ensemble.RandomForestClassifier())\n",
    "\n",
    "print randForest.get_params().keys()\n",
    "\n",
    "param_grid = {'estimator__n_estimators': [10, 20, 40, 80]}\n",
    "\n",
    "clf = sklearn.model_selection.GridSearchCV(randForest, param_grid=param_grid, scoring='neg_log_loss',\\\n",
    "                                           cv=k_fold, n_jobs=-1)\n",
    "\n",
    "clf.fit(preProcFeats, preProcLabels)\n",
    "print clf.best_score_                     \n",
    "print clf.best_estimator_"
   ]
  },
  {
   "cell_type": "markdown",
   "metadata": {},
   "source": [
    "**Model Scoring**"
   ]
  },
  {
   "cell_type": "code",
   "execution_count": 27,
   "metadata": {
    "collapsed": false
   },
   "outputs": [
    {
     "name": "stdout",
     "output_type": "stream",
     "text": [
      "[-0.27715614 -0.34923082 -0.36929558]\n",
      "[[   6    3   13    3    0    5    2    2]\n",
      " [   0 1034   15    0    9    6    3    0]\n",
      " [   0   25  416    1    6   18    0    5]\n",
      " [   0    0    0   73    1   33    0    0]\n",
      " [   0   15    7    1   97   16    0    0]\n",
      " [   0    5   14    6    3 1140    1    2]\n",
      " [   0    5    0    2    0    0  192    0]\n",
      " [   0    2    5    0    1    6    0  156]]\n"
     ]
    }
   ],
   "source": [
    "print sklearn.model_selection.cross_val_score(clf.best_estimator_, preProcFeats, preProcLabels,\\\n",
    "                                              cv=k_fold, n_jobs=-1, scoring='neg_log_loss')\n",
    "\n",
    "\n",
    "# Train/Test Validation\n",
    "X_train, X_test, y_train, y_test = sklearn.model_selection.train_test_split(preProcFeats,\\\n",
    "                                                            preProcLabels, test_size=0.25, random_state=0)\n",
    "predictTestX = clf.best_estimator_.fit(X_train, y_train).predict_proba(X_test)\n",
    "confuseMatrix = sklearn.metrics.confusion_matrix(y_test, clf.best_estimator_.fit(X_train, y_train).predict(X_test))\n",
    "print confuseMatrix"
   ]
  },
  {
   "cell_type": "code",
   "execution_count": 28,
   "metadata": {
    "collapsed": false
   },
   "outputs": [
    {
     "name": "stdout",
     "output_type": "stream",
     "text": [
      "(8, 8)\n"
     ]
    },
    {
     "data": {
      "image/png": "[encoded data removed]",
      "text/plain": [
       "<matplotlib.figure.Figure at 0x7fd832cce310>"
      ]
     },
     "metadata": {},
     "output_type": "display_data"
    }
   ],
   "source": [
    "classLabels = ['1', '2', '3', '4', '5', '6', '7', '9']\n",
    "\n",
    "print confuseMatrix.shape\n",
    "normConfuseMatrix = np.zeros(confuseMatrix.shape)\n",
    "for col in np.arange(confuseMatrix.shape[1]):\n",
    "    normConfuseMatrix[:,col] = confuseMatrix[:,col] / float(confuseMatrix[:,col].max())\n",
    "    \n",
    "#dfCM = pd.DataFrame(normConfuseMatrix, index = [i for i in classLabels], columns = [i for i in classLabels])\n",
    "dfCM = pd.DataFrame(confuseMatrix, index = [i for i in classLabels], columns = [i for i in classLabels])\n",
    "\n",
    "fig = plt.figure(figsize=(5,5)) # (width, height)\n",
    "sns.heatmap(dfCM, annot=True, vmin=0, vmax=70, fmt='d', cbar=False)\n",
    "#sns.heatmap(dfCM, annot=True, cbar=False)\n",
    "plt.xlabel('True Label ID')\n",
    "plt.ylabel('Predicted Label ID')\n",
    "\n",
    "plt.tight_layout()\n",
    "plt.savefig('confusion_matrix.pdf')"
   ]
  },
  {
   "cell_type": "markdown",
   "metadata": {},
   "source": [
    "**Feature Importance**"
   ]
  },
  {
   "cell_type": "code",
   "execution_count": 29,
   "metadata": {
    "collapsed": false
   },
   "outputs": [],
   "source": [
    "fitModel = clf.best_estimator_.fit(preProcFeats, preProcLabels)"
   ]
  },
  {
   "cell_type": "code",
   "execution_count": 30,
   "metadata": {
    "collapsed": false
   },
   "outputs": [
    {
     "name": "stdout",
     "output_type": "stream",
     "text": [
      "1 longestRun2 0.0201079339617\n",
      "2 longestRun0 0.0880155462139\n",
      "3 bestSNR 0.0460798519478\n",
      "4 MJDstart 0.0490398075079\n",
      "5 MJDstart 0.0288295969717\n",
      "6 globDedisptsStatsMean 0.0356561857266\n",
      "7 pixelMax_4_3 0.0251321493887\n",
      "8 globDedisptsStatsRatio1 0.0485563614752\n"
     ]
    },
    {
     "data": {
      "text/plain": [
       "<matplotlib.text.Text at 0x7fd832cc19d0>"
      ]
     },
     "execution_count": 30,
     "metadata": {},
     "output_type": "execute_result"
    },
    {
     "data": {
      "image/png": "[encoded data removed]",
      "text/plain": [
       "<matplotlib.figure.Figure at 0x7fd832cb4710>"
      ]
     },
     "metadata": {},
     "output_type": "display_data"
    }
   ],
   "source": [
    "featureStrs = featureDf.columns.values\n",
    "\n",
    "fig = plt.figure(figsize=(15,5)) # (width, height)\n",
    "for idx in np.arange(len(fitModel.estimators_)):\n",
    "    maxFeatVal = fitModel.estimators_[idx].feature_importances_.max()\n",
    "    plt.plot(fitModel.estimators_[idx].feature_importances_, label=idx+1)\n",
    "    #plt.plot(fitModel.estimators_[idx].feature_importances_.clip(1e-2, maxFeatVal), label=idx+1)\n",
    "    #plt.semilogy(fitModel.estimators_[idx].feature_importances_.clip(1e-3, maxFeatVal), label=idx+1)\n",
    "    print idx+1, featureStrs[np.argmax(fitModel.estimators_[idx].feature_importances_)], maxFeatVal\n",
    "\n",
    "plt.legend()\n",
    "plt.xlabel('Feature ID')"
   ]
  },
  {
   "cell_type": "code",
   "execution_count": 31,
   "metadata": {
    "collapsed": false
   },
   "outputs": [
    {
     "name": "stdout",
     "output_type": "stream",
     "text": [
      "[[ 0.03571429  0.          0.          0.          0.01190476  0.\n",
      "   0.95238095  0.        ]\n",
      " [ 0.          0.          0.          0.          0.02439024  0.\n",
      "   0.97560976  0.        ]\n",
      " [ 0.          0.          0.          0.01234568  0.          0.\n",
      "   0.98765432  0.        ]\n",
      " [ 0.04444444  0.02222222  0.03333333  0.01111111  0.73333333  0.06666667\n",
      "   0.01111111  0.07777778]\n",
      " [ 0.01204819  0.          0.          0.01204819  0.01204819  0.\n",
      "   0.96385542  0.        ]\n",
      " [ 0.03571429  0.          0.          0.          0.          0.01190476\n",
      "   0.95238095  0.        ]\n",
      " [ 0.01234568  0.          0.          0.          0.          0.\n",
      "   0.98765432  0.        ]\n",
      " [ 0.02439024  0.          0.          0.          0.          0.\n",
      "   0.97560976  0.        ]\n",
      " [ 0.56122449  0.          0.04081633  0.01020408  0.18367347  0.14285714\n",
      "   0.          0.06122449]\n",
      " [ 0.01234568  0.          0.          0.01234568  0.          0.\n",
      "   0.97530864  0.        ]]\n"
     ]
    }
   ],
   "source": [
    "print fitModel.predict_proba(preProcFeats)[:10]"
   ]
  },
  {
   "cell_type": "code",
   "execution_count": 32,
   "metadata": {
    "collapsed": false
   },
   "outputs": [],
   "source": [
    "predictProb = fitModel.predict_proba(preProcFeats)"
   ]
  },
  {
   "cell_type": "code",
   "execution_count": 48,
   "metadata": {
    "collapsed": false
   },
   "outputs": [
    {
     "name": "stdout",
     "output_type": "stream",
     "text": [
      "(13419,)\n",
      "(13419, 8)\n",
      "(691, 1)\n",
      "0.0\n"
     ]
    },
    {
     "data": {
      "image/png": "[encoded data removed]",
      "text/plain": [
       "<matplotlib.figure.Figure at 0x7fd83006ced0>"
      ]
     },
     "metadata": {},
     "output_type": "display_data"
    }
   ],
   "source": [
    "print preProcLabels.shape\n",
    "print predictProb.shape\n",
    "print np.argwhere(preProcLabels == 9).shape\n",
    "\n",
    "#c9c9Prob = predictProb[np.argwhere(preProcLabels == 9).flatten()][:,7]\n",
    "#cAllc9Prob = predictProb[np.argwhere(preProcLabels != 9).flatten()][:,7]\n",
    "c9c9Prob = predictTestX[np.argwhere(y_test == 9).flatten()][:,7]\n",
    "cAllc9Prob = predictTestX[np.argwhere(y_test != 9).flatten()][:,7]\n",
    "print c9c9Prob.min()\n",
    "\n",
    "#fig = plt.figure(figsize=(5,4)) # (width, height)\n",
    "fig, ax = plt.subplots(figsize=(5,3.5)) # (width, height)\n",
    "for ss in [c9c9Prob, cAllc9Prob]:\n",
    "    sns.distplot(ss, kde=False, bins=30)\n",
    "plt.xlabel('Probability')\n",
    "plt.ylabel('Counts')\n",
    "plt.xlim(0.25, 1.)\n",
    "plt.ylim(0, 25)\n",
    "\n",
    "plt.tight_layout()\n",
    "plt.savefig('class9_hist.pdf')"
   ]
  }
 ],
 "metadata": {
  "kernelspec": {
   "display_name": "Python 2",
   "language": "python",
   "name": "python2"
  },
  "language_info": {
   "codemirror_mode": {
    "name": "ipython",
    "version": 2
   },
   "file_extension": ".py",
   "mimetype": "text/x-python",
   "name": "python",
   "nbconvert_exporter": "python",
   "pygments_lexer": "ipython2",
   "version": "2.7.12"
  }
 },
 "nbformat": 4,
 "nbformat_minor": 2
}
