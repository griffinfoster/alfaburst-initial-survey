{
 "cells": [
  {
   "cell_type": "code",
   "execution_count": 73,
   "metadata": {
    "collapsed": true
   },
   "outputs": [],
   "source": [
    "import numpy as np\n",
    "import pandas as pd\n",
    "import datetime"
   ]
  },
  {
   "cell_type": "code",
   "execution_count": 74,
   "metadata": {
    "collapsed": true
   },
   "outputs": [],
   "source": [
    "df = pd.read_pickle('ALFAbuffers.pkl')"
   ]
  },
  {
   "cell_type": "code",
   "execution_count": 105,
   "metadata": {
    "collapsed": false
   },
   "outputs": [
    {
     "name": "stdout",
     "output_type": "stream",
     "text": [
      "3769\n"
     ]
    }
   ],
   "source": [
    "#snrDf = df.loc[(df['bestSNR'] > 11) & (df['bestSNR'] <= 14) & (df['bestDM'] > 50)]\n",
    "#snrDf = df.loc[(df['bestSNR'] > 12) & (df['bestDM'] > 50)]\n",
    "snrDf = df.loc[(df['bestSNR'] >= 10) & (df['bestSNR'] <= 11) & (df['bestDM'] > 50)]\n",
    "print len(snrDf)"
   ]
  },
  {
   "cell_type": "code",
   "execution_count": 106,
   "metadata": {
    "collapsed": false
   },
   "outputs": [],
   "source": [
    "datfiles = ''\n",
    "fileCnt = 0\n",
    "for idx, row in snrDf.iterrows():\n",
    "    # filter data from Dec 21, 2016 to March 10, 2017\n",
    "    dt = datetime.datetime.strptime(row['TSID'], 'D%Y%m%dT%H%M%S')\n",
    "    if not (dt > datetime.datetime(2016, 12, 21, 0, 0, 0) and dt < datetime.datetime(2017, 3, 10, 0, 0, 0)):\n",
    "        prefix = 'Beam%i_fb_%s.buffer%i.d%i.png'%(row['Beam'], row['TSID'], row['Buffer'], row['BinFactor'])\n",
    "        #print row['Beam'], row['TSID'], row['Buffer'], row['BinFactor']\n",
    "        datfiles += prefix + '\\n'\n",
    "        prefix = 'Beam%i_fb_%s.buffer%i.meta.pkl'%(row['Beam'], row['TSID'], row['Buffer'])\n",
    "        #print row['Beam'], row['TSID'], row['Buffer'], row['BinFactor']\n",
    "        datfiles += prefix + '\\n'\n",
    "        fileCnt += 1"
   ]
  },
  {
   "cell_type": "code",
   "execution_count": 107,
   "metadata": {
    "collapsed": false
   },
   "outputs": [
    {
     "name": "stdout",
     "output_type": "stream",
     "text": [
      "3769\n"
     ]
    }
   ],
   "source": [
    "print fileCnt"
   ]
  },
  {
   "cell_type": "code",
   "execution_count": 108,
   "metadata": {
    "collapsed": false
   },
   "outputs": [],
   "source": [
    "#print datfiles\n",
    "fh = open('snr10-11_dm50.csv', 'w')\n",
    "fh.write(datfiles)\n",
    "fh.close()"
   ]
  },
  {
   "cell_type": "code",
   "execution_count": null,
   "metadata": {
    "collapsed": false
   },
   "outputs": [],
   "source": [
    "print snrDf.columns"
   ]
  },
  {
   "cell_type": "code",
   "execution_count": 117,
   "metadata": {
    "collapsed": false
   },
   "outputs": [
    {
     "name": "stdout",
     "output_type": "stream",
     "text": [
      "22747\n",
      "7312\n"
     ]
    }
   ],
   "source": [
    "df = pd.read_pickle('ALFAbuffers.pkl')\n",
    "snrDf = df.loc[(df['bestSNR'] >= 10) & (df['bestDM'] > 50)]\n",
    "print len(snrDf)\n",
    "datfiles = ''\n",
    "fileCnt = 0\n",
    "for idx, row in snrDf.iterrows():\n",
    "    # filter data from Dec 21, 2016 to March 10, 2017\n",
    "    dt = datetime.datetime.strptime(row['TSID'], 'D%Y%m%dT%H%M%S')\n",
    "    if (dt > datetime.datetime(2017, 3, 11, 0, 0, 0)):\n",
    "        prefix = 'Beam%i_fb_%s.buffer%i.d%i.png'%(row['Beam'], row['TSID'], row['Buffer'], row['BinFactor'])\n",
    "        #print row['Beam'], row['TSID'], row['Buffer'], row['BinFactor']\n",
    "        datfiles += prefix + '\\n'\n",
    "        prefix = 'Beam%i_fb_%s.buffer%i.meta.pkl'%(row['Beam'], row['TSID'], row['Buffer'])\n",
    "        #print row['Beam'], row['TSID'], row['Buffer'], row['BinFactor']\n",
    "        datfiles += prefix + '\\n'\n",
    "        fileCnt += 1\n",
    "print fileCnt"
   ]
  },
  {
   "cell_type": "code",
   "execution_count": null,
   "metadata": {
    "collapsed": true
   },
   "outputs": [],
   "source": []
  }
 ],
 "metadata": {
  "kernelspec": {
   "display_name": "Python 2",
   "language": "python",
   "name": "python2"
  },
  "language_info": {
   "codemirror_mode": {
    "name": "ipython",
    "version": 2
   },
   "file_extension": ".py",
   "mimetype": "text/x-python",
   "name": "python",
   "nbconvert_exporter": "python",
   "pygments_lexer": "ipython2",
   "version": "2.7.12"
  }
 },
 "nbformat": 4,
 "nbformat_minor": 2
}
