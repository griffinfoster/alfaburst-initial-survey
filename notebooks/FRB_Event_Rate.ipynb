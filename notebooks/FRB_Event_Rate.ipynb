{
 "cells": [
  {
   "cell_type": "markdown",
   "metadata": {
    "deletable": true,
    "editable": true
   },
   "source": [
    "### FRB Event Rate\n",
    "\n",
    "Calculate the expected FRB event rate for thew ALFABURST survey based on Lorimer et al. 2013\n",
    "\n",
    "**Assumptions**\n",
    "\n",
    "1. Pulse width is approximately 1 ms\n",
    "2. FRB is a standard candles\n",
    "3. Thornton et al. 2013 correctly relates flux density to redshift"
   ]
  },
  {
   "cell_type": "code",
   "execution_count": 1,
   "metadata": {
    "collapsed": true,
    "deletable": true,
    "editable": true
   },
   "outputs": [],
   "source": [
    "import numpy as np\n",
    "import matplotlib.pyplot as plt\n",
    "import scipy.integrate\n",
    "from matplotlib import rc\n",
    "\n",
    "%matplotlib inline\n",
    "rc('text', usetex=True)\n",
    "plt.rcParams['figure.figsize'] = (10, 8)"
   ]
  },
  {
   "cell_type": "markdown",
   "metadata": {
    "deletable": true,
    "editable": true
   },
   "source": [
    "Equation 6 of Karastergiou et al. 2015 is derived from the radiometer equation:\n",
    "\n",
    "$$\n",
    "S_{min} = \\textrm{SEFD} \\frac{\\textrm{SNR}_{min}}{\\sqrt{D \\; \\Delta \\tau \\; \\Delta \\nu}}\n",
    "$$\n",
    "\n",
    "where $S_{min}$ is the minimum flux density (in Jy) detection rate. This is based on the telescope SEFD, the minimum SNR detection level $\\textrm{SNR}_{min}$ and the decimation rate $D$ compared to the native instrumental time resolution $\\tau$, this comes from the search pipeline which averages together spectra to search for scattered pulses. ALFABURST has a native resolution of $\\Delta \\tau = 256 \\; \\mu s$, effective bandwidth $\\Delta \\nu = 56 \\textrm{MHz}$, and $\\textrm{SNR}_{min} = 10$.\n",
    "\n",
    "For reference see:\n",
    "* https://www.cv.nrao.edu/course/astr534/Radiometers.html\n",
    "* http://www.naic.edu/alfa/performance/\n",
    "* https://casper.berkeley.edu/astrobaki/index.php/Radiometer_Equation_Applied_to_Telescopes\n",
    "* https://science.nrao.edu/facilities/vla/docs/manuals/oss/performance/sensitivity"
   ]
  },
  {
   "cell_type": "code",
   "execution_count": 2,
   "metadata": {
    "collapsed": true,
    "deletable": true,
    "editable": true
   },
   "outputs": [],
   "source": [
    "# Parameters\n",
    "\n",
    "# From Minimum flux density detection, based on radiometer equation\n",
    "#SEFD = 3. # Jy, SEFD of ALFA (main beam)\n",
    "#threshold = 10. # SNR threshold of detection pipeline\n",
    "#pulseWidth = 2.**(np.arange(0,7)) * 256. # us, expected pulse width\n",
    "#tRes = 256. # us, ALFABURST spectra time resolution\n",
    "#dFactor = pulseWidth / tRes# decimation factor\n",
    "#bw = 56. * 1e6 # ALFABURST effective bandwidth in Hz\n",
    "#sMin = SEFD * (threshold / np.sqrt(dFactor * (tRes * 1e-6) * bw))\n",
    "\n",
    "# From ALFA_Beam_Response.ipynb\n",
    "#Survey Metric         2 d2h (-3 dB) 20 d2h     40 d2h    53 d2h(Full)\n",
    "#----------------------------------------------------------------------------------------\n",
    "# Pulse Width 8192 us: 0.028 Jy     0.152 Jy    0.489 Jy   22.199 Jy\n",
    "pulseWidth = np.array([8192., 8192., 8192., 8192.])\n",
    "sMin = np.array([0.028, 0.152, 0.489, 22.199])\n",
    "surveyMetric = np.array([2., 20., 40., 53.]) # deg^2 hours\n",
    "\n",
    "fObsMin = 1347e6 # ALFABURST 56 MHz bandwidth system min frequency\n",
    "fObsMax = 1403e6 # ALFABURST 56 MHz bandwidth system max frequency\n",
    "\n",
    "alphas = [-2., -1.1, 0., 1., 2.] # spectral indicies to model\n",
    "\n",
    "zMin = 0.01\n",
    "zMax = 7.997 # minimum z based on pointing and NE2001 from frb_search_volume.ipynb"
   ]
  },
  {
   "cell_type": "code",
   "execution_count": 3,
   "metadata": {
    "collapsed": false,
    "deletable": true,
    "editable": true
   },
   "outputs": [],
   "source": [
    "#print SEFD * (5.1 / np.sqrt(8. * (tRes * 1e-6) * bw)) * 1000."
   ]
  },
  {
   "cell_type": "code",
   "execution_count": 4,
   "metadata": {
    "collapsed": false,
    "deletable": true,
    "editable": true
   },
   "outputs": [
    {
     "name": "stdout",
     "output_type": "stream",
     "text": [
      "The minimum flux density detection for a given pulse width is:\n",
      "\t 28.0 mJy for a pulse width of 8192 us (Survey Metric: 2 deg^2 hrs)\n",
      "\t 152.0 mJy for a pulse width of 8192 us (Survey Metric: 20 deg^2 hrs)\n",
      "\t 489.0 mJy for a pulse width of 8192 us (Survey Metric: 40 deg^2 hrs)\n",
      "\t 22199.0 mJy for a pulse width of 8192 us (Survey Metric: 53 deg^2 hrs)\n"
     ]
    }
   ],
   "source": [
    "print 'The minimum flux density detection for a given pulse width is:'\n",
    "for sMinVal, pwVal, smVal in zip(sMin, pulseWidth, surveyMetric):\n",
    "    print '\\t %.1f mJy for a pulse width of %.0f us (Survey Metric: %.0f deg^2 hrs)'%(sMinVal*1000., pwVal, smVal)"
   ]
  },
  {
   "cell_type": "code",
   "execution_count": 5,
   "metadata": {
    "collapsed": false,
    "deletable": true,
    "editable": true
   },
   "outputs": [],
   "source": [
    "#plt.plot(pulseWidth/1000., sMin*1000.)\n",
    "##plt.legend()\n",
    "#plt.xlim(pulseWidth[0]/1000., pulseWidth[-1]/1000.)\n",
    "#plt.xlabel('Pulse Width (ms)')\n",
    "#plt.ylabel('Flux Density (mJy)')\n",
    "#plt.title('Sensitivity of ALFABURST to Pulses')"
   ]
  },
  {
   "cell_type": "code",
   "execution_count": 6,
   "metadata": {
    "collapsed": false,
    "deletable": true,
    "editable": true
   },
   "outputs": [],
   "source": [
    "def coMovingDist(z):\n",
    "    \"\"\"Co-moving distance in Gpc, Eq. 3 from Lorimer et al. 2013\n",
    "    z: float, redshift\n",
    "    \"\"\"\n",
    "    c = 299792.458 # km s^-1\n",
    "    H0 = 68. # km s^-1 Mpc^-1\n",
    "    OmegaM = 0.32\n",
    "    OmegaLambda = 0.68\n",
    "    \n",
    "    integrand = lambda zp: 1. / np.sqrt(OmegaM * ((1. + zp)**3.) + OmegaLambda)\n",
    "    dd, err = scipy.integrate.quad(integrand, 0., z)\n",
    "    return ((c/H0) * dd) * 1e-3\n",
    "\n",
    "def coMovingVol(z):\n",
    "    \"\"\"Co-moving volume in Gpc^3\n",
    "    z: float, redshift\"\"\"\n",
    "    return (4./3.)*(coMovingDist(z)**3.)\n",
    "\n",
    "def calcLModel(sPeakRef=1., alphaRef=-1.4, zRef=0.75, fLumMin=1e7, fLumMax=1e10, fObsMin=1182e6, fObsMax=1582e6):\n",
    "    \"\"\"Calculate the standard candle FRB bolometric luminosity based on Thornton et al. 2013 model, this is used\n",
    "    to calibrate the flux-redshift relationship\n",
    "    sPeakRef: float, Jy, peak flux density, Thornton et al.: 1.\n",
    "    alphaRef: float, spectal index, Thornton et al.: -1.4\n",
    "    zRef: float, redshift, Thornton et al.: 0.75\n",
    "    fLumMin: float, Hz, minimum frequency over which the source emits, Lorimer et al.: 1e7\n",
    "    fLumMax: float, Hz, maximum frequency over which the source emits, Lorimer et al.: 1e10\n",
    "    fObsMin: float, Hz, minimum observing frequency, Thornton et al.: 1186 MHz\n",
    "    fObsMax: float, Hz, maximum observing frequency, Thornton et al.: 1582 MHz\"\"\"\n",
    "    sPeakRefErgs = sPeakRef * 1e-19 # unit: erg s^-1 ; 1 Jy = 10^-26 W = 10^-19 erg s^-1\n",
    "    \n",
    "    dd = coMovingDist(zRef) * 3.086e25 # Convert from Gpc to m\n",
    "\n",
    "    LL = ((fObsMax-fObsMin)/((fObsMax**(alphaRef+1.))-(fObsMin**(alphaRef+1.)))) * sPeakRefErgs \\\n",
    "            * 4. * np.pi * (dd**2.) \\\n",
    "            * (((fLumMax**(alphaRef+1.))-(fLumMin**(alphaRef+1.)))/((1.+zRef)**(alphaRef-1.)))\n",
    "    return LL\n",
    "\n",
    "def calcSpeak(LModel, z, alpha, fObsMin, fObsMax, fLumMin=1e7, fLumMax=1e10):\n",
    "    \"\"\"Calculate the peak flux density, Lorimer et al. 2013 eq. 9\n",
    "    LModel: float, ergs s^-1, bolometric luminosity model output of calcLModel()\n",
    "    z: float, redshift of source\n",
    "    alpha: float, spectral index of FRB standard candle model\n",
    "    fObsMin: float, Hz, minimum observing frequency\n",
    "    fObsMax: float, Hz, maximum observing frequency\n",
    "    fLumMin: float, Hz, minimum frequency over which the source emits, Lorimer et al.: 1e7\n",
    "    fLumMax: float, Hz, maximum frequency over which the source emits, Lorimer et al.: 1e10\n",
    "    \"\"\"\n",
    "    dd = coMovingDist(z) * 3.086e25 # Convert from Gpc to m\n",
    "    \n",
    "    sPeak = (LModel * ((1. + z)**(alpha-1.))) \\\n",
    "            * (1. / (4. * np.pi * dd**2. * ((fLumMax**(alpha+1.)) - (fLumMin**(alpha+1.)))) ) \\\n",
    "            * (((fObsMax**(alpha+1.)) - (fObsMin**(alpha+1.)))/(fObsMax - fObsMin))\n",
    "\n",
    "    return sPeak / 1e-19"
   ]
  },
  {
   "cell_type": "code",
   "execution_count": 7,
   "metadata": {
    "collapsed": false,
    "deletable": true,
    "editable": true
   },
   "outputs": [
    {
     "name": "stdout",
     "output_type": "stream",
     "text": [
      "Smin: 28.000000 mJy \t Alpha: -2.000000 \t zMax: 2.438110 \t surveyMetric: 2\n",
      "Smin: 28.000000 mJy \t Alpha: -1.100000 \t zMax: 3.132972 \t surveyMetric: 2\n",
      "Smin: 28.000000 mJy \t Alpha: 0.000000 \t zMax: 5.771883 \t surveyMetric: 2\n",
      "Smin: 28.000000 mJy \t Alpha: 1.000000 \t zMax: 7.997000 \t surveyMetric: 2\n",
      "Smin: 28.000000 mJy \t Alpha: 2.000000 \t zMax: 3.773181 \t surveyMetric: 2\n",
      "Smin: 152.000000 mJy \t Alpha: -2.000000 \t zMax: 1.415337 \t surveyMetric: 20\n",
      "Smin: 152.000000 mJy \t Alpha: -1.100000 \t zMax: 1.587101 \t surveyMetric: 20\n",
      "Smin: 152.000000 mJy \t Alpha: 0.000000 \t zMax: 2.024317 \t surveyMetric: 20\n",
      "Smin: 152.000000 mJy \t Alpha: 1.000000 \t zMax: 3.562380 \t surveyMetric: 20\n",
      "Smin: 152.000000 mJy \t Alpha: 2.000000 \t zMax: 3.773181 \t surveyMetric: 20\n",
      "Smin: 489.000000 mJy \t Alpha: -2.000000 \t zMax: 0.954699 \t surveyMetric: 40\n",
      "Smin: 489.000000 mJy \t Alpha: -1.100000 \t zMax: 1.001543 \t surveyMetric: 40\n",
      "Smin: 489.000000 mJy \t Alpha: 0.000000 \t zMax: 1.079618 \t surveyMetric: 40\n",
      "Smin: 489.000000 mJy \t Alpha: 1.000000 \t zMax: 1.212344 \t surveyMetric: 40\n",
      "Smin: 489.000000 mJy \t Alpha: 2.000000 \t zMax: 1.672982 \t surveyMetric: 40\n",
      "Smin: 22199.000000 mJy \t Alpha: -2.000000 \t zMax: 0.228608 \t surveyMetric: 53\n",
      "Smin: 22199.000000 mJy \t Alpha: -1.100000 \t zMax: 0.205186 \t surveyMetric: 53\n",
      "Smin: 22199.000000 mJy \t Alpha: 0.000000 \t zMax: 0.166149 \t surveyMetric: 53\n",
      "Smin: 22199.000000 mJy \t Alpha: 1.000000 \t zMax: 0.134919 \t surveyMetric: 53\n",
      "Smin: 22199.000000 mJy \t Alpha: 2.000000 \t zMax: 0.103689 \t surveyMetric: 53\n"
     ]
    },
    {
     "data": {
      "text/plain": [
       "<matplotlib.text.Text at 0x7f83ce0f50d0>"
      ]
     },
     "execution_count": 7,
     "metadata": {},
     "output_type": "execute_result"
    },
    {
     "data": {
      "image/png": "[encoded data removed]",
      "text/plain": [
       "<matplotlib.figure.Figure at 0x7f83ce183dd0>"
      ]
     },
     "metadata": {},
     "output_type": "display_data"
    }
   ],
   "source": [
    "zArr = np.linspace(zMin, zMax, 1024)\n",
    "sPeakArr = np.zeros((len(alphas), len(zArr)))\n",
    "\n",
    "cmap = plt.cm.hsv\n",
    "colors = iter(cmap(np.linspace(0, 0.9, len(alphas) + len(sMin))))\n",
    "\n",
    "for aid, alpha in enumerate(alphas):\n",
    "    LModel = calcLModel(alphaRef=alpha)\n",
    "    for zid,zz in enumerate(zArr):\n",
    "        sPeakArr[aid, zid] = calcSpeak(LModel, zz, alpha, fObsMin, fObsMax)\n",
    "    plt.semilogy(zArr, sPeakArr[aid], color=next(colors), alpha=0.7, label=r'$\\alpha =$ %1.1f'%alpha)\n",
    "\n",
    "idxArr = np.zeros((len(sMin),len(alphas)), dtype='int')\n",
    "#for sMinVal, pwVal in zip(sMin, pulseWidth):\n",
    "for smid, sMinVal in enumerate(sMin):\n",
    "    pwVal = pulseWidth[smid]\n",
    "    plt.axhline(y=sMinVal, xmin=0.0, xmax=1.0, color=next(colors), linestyle=\"--\", alpha=0.7, \\\n",
    "                #label='$S_{min}=$ %1.1f mJy (%.0f ms)'%(sMinVal*1000., pwVal/1000.))\n",
    "                label='$S_{min}=$ %1.1f mJy'%(sMinVal*1000.))\n",
    "    for aid, alpha in enumerate(alphas):\n",
    "        idx = np.argmin(np.abs(sPeakArr[aid] - sMinVal)) # array index of nearest sMin/alpha flux density crossing\n",
    "        #print alpha, sMinVal, idx, zArr[idx]\n",
    "        idxArr[smid, aid] = idx\n",
    "        # find maximum redshift to compute volume\n",
    "        print 'Smin: %f mJy \\t Alpha: %f \\t zMax: %f \\t surveyMetric: %.0f'%(sMinVal*1000., alpha, zArr[idx],\\\n",
    "                                                                             surveyMetric[smid])\n",
    "\n",
    "plt.legend()\n",
    "plt.xlim(zMin, zMax)\n",
    "plt.xlabel('z')\n",
    "plt.ylabel('Peak Flux Density (Jy)')\n",
    "#plt.title('Redshift-SEFD Detection Relationship')\n",
    "plt.title('Redshift-Detection Relationship (%.0f ms)'%(pulseWidth[0]/1000.))"
   ]
  },
  {
   "cell_type": "markdown",
   "metadata": {
    "deletable": true,
    "editable": true
   },
   "source": [
    "**Figure:** Similar to Figure 6 of Karastergiou et al. 2015, and Figure 2a of Lorimer et al. 2013. Peak flux density of the Lorimer et al. 2013 population model as a function of redshift $z$ and spectral index $\\alpha$. Lines of minimum dectection using the ALFABURST system is shown as dashed lines for different decimation levels."
   ]
  },
  {
   "cell_type": "code",
   "execution_count": 8,
   "metadata": {
    "collapsed": false,
    "deletable": true,
    "editable": true
   },
   "outputs": [],
   "source": [
    "# lorimer 2b, karastergious 6 - rate to redshift relationship\n",
    "def thorntonRate(z):\n",
    "    \"\"\"Compute the event rate using Thornton et al. 2013 values as computed by Lormier et al. 2013\n",
    "    z: float, redshift\n",
    "    returns: array, [low rate, expected rate, high rate]\"\"\"\n",
    "    dd = coMovingDist(z)\n",
    "    dNorm = coMovingDist(0.75) # Thornton rate is based on events at z=0.75\n",
    "    rateNorm = np.array([0.5 * 10**4, 10**4, 1.6 * 10**4]) # Thornton et al. 2013: rate = 10000 (error: +6000/-5000)\n",
    "    rate = rateNorm * ((dd / dNorm)**3.)\n",
    "    return rate"
   ]
  },
  {
   "cell_type": "code",
   "execution_count": 9,
   "metadata": {
    "collapsed": false,
    "deletable": true,
    "editable": true
   },
   "outputs": [
    {
     "data": {
      "text/plain": [
       "<matplotlib.text.Text at 0x7f83cdffaf10>"
      ]
     },
     "execution_count": 9,
     "metadata": {},
     "output_type": "execute_result"
    },
    {
     "data": {
      "image/png": "[encoded data removed]",
      "text/plain": [
       "<matplotlib.figure.Figure at 0x7f83ce145b50>"
      ]
     },
     "metadata": {},
     "output_type": "display_data"
    }
   ],
   "source": [
    "expectedRates = np.zeros((zArr.shape[0], 3))\n",
    "for zid,zz in enumerate(zArr):\n",
    "    expectedRates[zid,:] = thorntonRate(zz)\n",
    "\n",
    "plt.semilogy(zArr, expectedRates[:,1], \"w\")\n",
    "plt.fill_between(zArr, expectedRates[:,0], expectedRates[:,2], alpha=1.0, facecolor=\"blue\", edgecolor=\"white\", \\\n",
    "                 hatch=\"\\\\\\\\\\\\\")\n",
    "\n",
    "plt.plot(0.75, 1e4, \"wx\", markersize=10, markeredgewidth=4) # plot Thornton et al. (2013) rate\n",
    "\n",
    "plt.xlim(zMin, zMax)\n",
    "plt.xlabel('z')\n",
    "plt.ylabel(r'$R (< z) (\\textrm{bursts sky}^{-1} \\textrm{day}^{-1})$')\n",
    "\n",
    "plt.title('Event Rate - Redshift Relation')"
   ]
  },
  {
   "cell_type": "markdown",
   "metadata": {
    "deletable": true,
    "editable": true
   },
   "source": [
    "**Figure:** Implied redshift to event rate relation based on Thornton et al. 2013 event rate of $10000^{+6000}_{-5000} \\; \\textrm{bursts sky}^{-1} \\textrm{day}^{-1}$ at $z = 0.75$ (white cross)."
   ]
  },
  {
   "cell_type": "code",
   "execution_count": 10,
   "metadata": {
    "collapsed": false,
    "deletable": true,
    "editable": true
   },
   "outputs": [
    {
     "name": "stdout",
     "output_type": "stream",
     "text": [
      "pulse width: 8 ms (minimum flux density: 28.0 mJy)\n",
      "  alpha: -2.0 \t max z: 2.4 \t rate: 99967 (+59980 / -49984) FRBs sky^-1 day^-1\n",
      "  ALFABURST Expected FRB count: 1\n",
      "  alpha: -1.1 \t max z: 3.1 \t rate: 142168 (+85301 / -71084) FRBs sky^-1 day^-1\n",
      "  ALFABURST Expected FRB count: 2\n",
      "  alpha: 0.0 \t max z: 5.8 \t rate: 280564 (+168338 / -140282) FRBs sky^-1 day^-1\n",
      "  ALFABURST Expected FRB count: 5\n",
      "  alpha: 1.0 \t max z: 8.0 \t rate: 369805 (+221883 / -184902) FRBs sky^-1 day^-1\n",
      "  ALFABURST Expected FRB count: 7\n",
      "  alpha: 2.0 \t max z: 3.8 \t rate: 179308 (+107585 / -89654) FRBs sky^-1 day^-1\n",
      "  ALFABURST Expected FRB count: 3\n",
      "pulse width: 8 ms (minimum flux density: 152.0 mJy)\n",
      "  alpha: -2.0 \t max z: 1.4 \t rate: 39413 (+23648 / -19707) FRBs sky^-1 day^-1\n",
      "  ALFABURST Expected FRB count: 0\n",
      "  alpha: -1.1 \t max z: 1.6 \t rate: 48890 (+29334 / -24445) FRBs sky^-1 day^-1\n",
      "  ALFABURST Expected FRB count: 0\n",
      "  alpha: 0.0 \t max z: 2.0 \t rate: 74649 (+44790 / -37325) FRBs sky^-1 day^-1\n",
      "  ALFABURST Expected FRB count: 1\n",
      "  alpha: 1.0 \t max z: 3.6 \t rate: 167313 (+100388 / -83657) FRBs sky^-1 day^-1\n",
      "  ALFABURST Expected FRB count: 3\n",
      "  alpha: 2.0 \t max z: 3.8 \t rate: 179308 (+107585 / -89654) FRBs sky^-1 day^-1\n",
      "  ALFABURST Expected FRB count: 3\n",
      "pulse width: 8 ms (minimum flux density: 489.0 mJy)\n",
      "  alpha: -2.0 \t max z: 1.0 \t rate: 17409 (+10446 / -8705) FRBs sky^-1 day^-1\n",
      "  ALFABURST Expected FRB count: 0\n",
      "  alpha: -1.1 \t max z: 1.0 \t rate: 19346 (+11607 / -9673) FRBs sky^-1 day^-1\n",
      "  ALFABURST Expected FRB count: 0\n",
      "  alpha: 0.0 \t max z: 1.1 \t rate: 22748 (+13649 / -11374) FRBs sky^-1 day^-1\n",
      "  ALFABURST Expected FRB count: 0\n",
      "  alpha: 1.0 \t max z: 1.2 \t rate: 28981 (+17388 / -14490) FRBs sky^-1 day^-1\n",
      "  ALFABURST Expected FRB count: 0\n",
      "  alpha: 2.0 \t max z: 1.7 \t rate: 53797 (+32278 / -26899) FRBs sky^-1 day^-1\n",
      "  ALFABURST Expected FRB count: 1\n",
      "pulse width: 8 ms (minimum flux density: 22199.0 mJy)\n",
      "  alpha: -2.0 \t max z: 0.2 \t rate: 436 (+262 / -218) FRBs sky^-1 day^-1\n",
      "  ALFABURST Expected FRB count: 0\n",
      "  alpha: -1.1 \t max z: 0.2 \t rate: 322 (+193 / -161) FRBs sky^-1 day^-1\n",
      "  ALFABURST Expected FRB count: 0\n",
      "  alpha: 0.0 \t max z: 0.2 \t rate: 176 (+106 / -88) FRBs sky^-1 day^-1\n",
      "  ALFABURST Expected FRB count: 0\n",
      "  alpha: 1.0 \t max z: 0.1 \t rate: 97 (+58 / -48) FRBs sky^-1 day^-1\n",
      "  ALFABURST Expected FRB count: 0\n",
      "  alpha: 2.0 \t max z: 0.1 \t rate: 45 (+27 / -22) FRBs sky^-1 day^-1\n",
      "  ALFABURST Expected FRB count: 0\n"
     ]
    }
   ],
   "source": [
    "# Determine expected number of detections based on rate per sky, time for current sky,time coverage\n",
    "\n",
    "# From frb_search_volume.ipynb:\n",
    "# Observing time outside the galactic plane (+/-7.0 degrees) = 2175300 s\n",
    "# Total area surveyed = 4.748e+03 sq. deg\n",
    "#obsTimeSec = 2175300. # seconds\n",
    "obsTimeSec = 2175300. * 0.25 # seconds\n",
    "obsTimeDay = obsTimeSec / (24. * 60. * 60.) # days\n",
    "nBeams = 7. # number of beams, for ALFA this is 7\n",
    "beamFWHM = nBeams * (3.5 / 60.) # beam FWHM in degrees\n",
    "areaDeg = np.pi * (beamFWHM/2.)**2. # beam area in deg^2\n",
    "\n",
    "# 4 * pi steradian in a sphere\n",
    "sqDegPerSky = 4. * np.pi * ((180. / np.pi)**2.)\n",
    "areaInSky = areaDeg / sqDegPerSky # the beam size as a precent of the total sky\n",
    "\n",
    "# Event rate based on maximum redshift which can be probed by the sensitivity of ALFABURST\n",
    "for smid, sMinVal in enumerate(sMin):\n",
    "    print 'pulse width: %.0f ms (minimum flux density: %.1f mJy)'%(pulseWidth[smid]/1000., sMinVal*1000.)\n",
    "    for aid, alpha in enumerate(alphas):\n",
    "        idx = idxArr[smid, aid]\n",
    "        print '  alpha: %.1f \\t max z: %.1f \\t rate: %.0f (+%.0f / -%0.f) FRBs sky^-1 day^-1'%  \\\n",
    "        (alpha, zArr[idx], expectedRates[idx, 1], expectedRates[idx, 2] - expectedRates[idx, 1], \\\n",
    "         expectedRates[idx, 1] - expectedRates[idx, 0])\n",
    "        print '  ALFABURST Expected FRB count: %i'%(int(expectedRates[idx, 1] * areaInSky * obsTimeDay))"
   ]
  },
  {
   "cell_type": "markdown",
   "metadata": {
    "collapsed": true,
    "deletable": true,
    "editable": true
   },
   "source": [
    "### Sensitivity\n",
    "\n",
    "The RFI clipper will replace individual channels which exceed the channelRejectionRMS and 0-DM summed spectra which exceed spectrumRejectionRMS. For very bright, small DM pulses the RFI clipper will replace channels or spectra. For bright, high DM pulses the spectra wil;l likely not be replaced but individual channels may resulting in a lower detected flux. Note, the RFI clipper only works in the undecimated-in-time case (D=1), that is the sensitivity that we are most concerned about when setting the RFI clipper thresholds.\n",
    "\n",
    "Detected FRBs at L-band range between 200 mJy to a few Jy in flux density, typically on the order of 5-10 milliseconds. For a low DM pulse this results in a maximum integrated pulse (256 us width) flux of ~150 mJy before the pulse is clipped. The maximum detectable flux increases as the square-root of the pulse width."
   ]
  },
  {
   "cell_type": "code",
   "execution_count": 11,
   "metadata": {
    "collapsed": false,
    "deletable": true,
    "editable": true
   },
   "outputs": [
    {
     "name": "stdout",
     "output_type": "stream",
     "text": [
      "Parameters:\n",
      "\tSEFD: 3.0 Jy\n",
      "\ttRes: 256.0 us\n",
      "\tChannel SNR Threshold: 5.0\n",
      "\tSpectrum SNR Threshold: 10.0\n",
      "\n",
      "Per Channel (109.4 kHz) Sensitivity:\n",
      "D: 1 \t S_min: 2.83 Jy\n",
      "D: 2 \t S_min: 2.00 Jy\n",
      "D: 4 \t S_min: 1.42 Jy\n",
      "D: 8 \t S_min: 1.00 Jy\n",
      "D: 16 \t S_min: 0.71 Jy\n",
      "D: 32 \t S_min: 0.50 Jy\n",
      "D: 64 \t S_min: 0.35 Jy\n",
      "\n",
      "Full Band (56.0 MHz) Sensitivity:\n",
      "D: 1 \t S_min: 250.56 mJy\n",
      "D: 2 \t S_min: 177.17 mJy\n",
      "D: 4 \t S_min: 125.28 mJy\n",
      "D: 8 \t S_min: 88.59 mJy\n",
      "D: 16 \t S_min: 62.64 mJy\n",
      "D: 32 \t S_min: 44.29 mJy\n",
      "D: 64 \t S_min: 31.32 mJy\n",
      "\n",
      "1/16 Band (3.5 MHz) Sensitivity:\n",
      "D: 1 \t S_min: 1002.23 mJy\n",
      "\n",
      "1/8 Band (7.0 MHz) Sensitivity:\n",
      "D: 1 \t S_min: 708.68 mJy\n",
      "\n",
      "1/4 Band (14.0 MHz) Sensitivity:\n",
      "D: 1 \t S_min: 501.11 mJy\n",
      "\n",
      "1/2 Band (28.0 MHz) Sensitivity:\n",
      "D: 1 \t S_min: 354.34 mJy\n"
     ]
    }
   ],
   "source": [
    "# Parameters\n",
    "SEFD = 3. # Jy, SEFD of ALFA (main beam)\n",
    "dFactor = np.array([1., 2., 4., 8., 16., 32., 64.]) # decimation factor\n",
    "tRes = 256. # us, ALFABURST spectra time resolution\n",
    "nChan = 512\n",
    "channelRejectionRMS = 5. # RFI clipper channel rejection threshold\n",
    "spectrumRejectionRMS = 10. # RFI clipper spectrum rejection threshold\n",
    "\n",
    "print 'Parameters:'\n",
    "print '\\tSEFD: %.1f Jy'%SEFD\n",
    "print '\\ttRes: %.1f us'%tRes\n",
    "print '\\tChannel SNR Threshold: %.1f'%channelRejectionRMS\n",
    "print '\\tSpectrum SNR Threshold: %.1f'%spectrumRejectionRMS\n",
    "\n",
    "# Per channel sensitivity, assuming uniform sensitivity across the band\n",
    "bw = 56. * 1e6 / nChan # ALFABURST single-channel bandwidth in Hz\n",
    "sMin = SEFD * (channelRejectionRMS / np.sqrt(dFactor * (tRes * 1e-6) * bw)) # Minimum flux density detection\n",
    "print '\\nPer Channel (%.1f kHz) Sensitivity:'%(bw/1e3)\n",
    "for sid in np.arange(sMin.size):\n",
    "    print 'D: %i \\t S_min: %.2f Jy'%(dFactor[sid], sMin[sid])\n",
    "\n",
    "# Full band sensitivity\n",
    "bw = 56. * 1e6 # ALFABURST bandwidth\n",
    "sMin = SEFD * (spectrumRejectionRMS / np.sqrt(dFactor * (tRes * 1e-6) * bw)) # Minimum flux density detection\n",
    "print '\\nFull Band (%.1f MHz) Sensitivity:'%(bw/1e6)\n",
    "for sid in np.arange(sMin.size):\n",
    "    print 'D: %i \\t S_min: %.2f mJy'%(dFactor[sid], sMin[sid]*1000.)\n",
    "\n",
    "dFactor = np.array([1.]) # decimation factor\n",
    "# 1/16 band sensitivity\n",
    "bw = 56. * 1e6 / 16. # 1/16 ALFABURST bandwidth\n",
    "sMin = SEFD * (spectrumRejectionRMS / np.sqrt(dFactor * (tRes * 1e-6) * bw)) # Minimum flux density detection\n",
    "print '\\n1/16 Band (%.1f MHz) Sensitivity:'%(bw/1e6)\n",
    "for sid in np.arange(sMin.size):\n",
    "    print 'D: %i \\t S_min: %.2f mJy'%(dFactor[sid], sMin[sid]*1000.)\n",
    "    \n",
    "# 1/8 band sensitivity\n",
    "bw = 56. * 1e6 / 8. # 1/8 ALFABURST bandwidth\n",
    "sMin = SEFD * (spectrumRejectionRMS / np.sqrt(dFactor * (tRes * 1e-6) * bw)) # Minimum flux density detection\n",
    "print '\\n1/8 Band (%.1f MHz) Sensitivity:'%(bw/1e6)\n",
    "for sid in np.arange(sMin.size):\n",
    "    print 'D: %i \\t S_min: %.2f mJy'%(dFactor[sid], sMin[sid]*1000.)\n",
    "\n",
    "# 1/4 band sensitivity\n",
    "bw = 56. * 1e6 / 4. # 1/4 ALFABURST bandwidth\n",
    "sMin = SEFD * (spectrumRejectionRMS / np.sqrt(dFactor * (tRes * 1e-6) * bw)) # Minimum flux density detection\n",
    "print '\\n1/4 Band (%.1f MHz) Sensitivity:'%(bw/1e6)\n",
    "for sid in np.arange(sMin.size):\n",
    "    print 'D: %i \\t S_min: %.2f mJy'%(dFactor[sid], sMin[sid]*1000.)\n",
    "\n",
    "# 1/2 band sensitivity\n",
    "bw = 56. * 1e6 / 2. # 1/2 ALFABURST bandwidth\n",
    "sMin = SEFD * (spectrumRejectionRMS / np.sqrt(dFactor * (tRes * 1e-6) * bw)) # Minimum flux density detection\n",
    "print '\\n1/2 Band (%.1f MHz) Sensitivity:'%(bw/1e6)\n",
    "for sid in np.arange(sMin.size):\n",
    "    print 'D: %i \\t S_min: %.2f mJy'%(dFactor[sid], sMin[sid]*1000.)"
   ]
  },
  {
   "cell_type": "markdown",
   "metadata": {
    "deletable": true,
    "editable": true
   },
   "source": [
    "Now, we need to consider the pulse DM relation to the maximum flux density before a portion of the pulse is clipped. Rearranging Kramer and Lorimer e.q. 5.1\n",
    "\n",
    "$$\\textrm{DM}_{\\textrm{step}} = \\frac{\\Delta t}{4.15 \\times 10^6 \\; (f_{\\textrm{start}}^{-2} - f_{\\textrm{stop}}^{-2})}$$\n",
    "\n",
    "we can derive the maximum DM before a pulse is not fully contained in the time window $\\Delta t$."
   ]
  },
  {
   "cell_type": "code",
   "execution_count": 12,
   "metadata": {
    "collapsed": false,
    "deletable": true,
    "editable": true
   },
   "outputs": [],
   "source": [
    "def dmStep(deltat, fStart, fStop):\n",
    "    \"\"\"deltat: ms\n",
    "    fStart: MHz\n",
    "    fStop: MHz\"\"\"\n",
    "    return deltat / (4.15 * (10.**6) * (fStart**(-2.) - fStop**(-2.)))"
   ]
  },
  {
   "cell_type": "markdown",
   "metadata": {
    "deletable": true,
    "editable": true
   },
   "source": [
    "Considering the full 56 MHz band, the maximum DM before part of the pulse is spread into the next time sample is small:"
   ]
  },
  {
   "cell_type": "code",
   "execution_count": 13,
   "metadata": {
    "collapsed": false,
    "deletable": true,
    "editable": true
   },
   "outputs": [
    {
     "name": "stdout",
     "output_type": "stream",
     "text": [
      "DM Max: 1.80237166756\n"
     ]
    }
   ],
   "source": [
    "print 'DM Max:', dmStep(tRes / 1e3, 1457., 1513.)"
   ]
  },
  {
   "cell_type": "markdown",
   "metadata": {
    "deletable": true,
    "editable": true
   },
   "source": [
    "The maximum DM before the pulse is in a new time sample between every frequency channel is:"
   ]
  },
  {
   "cell_type": "code",
   "execution_count": 14,
   "metadata": {
    "collapsed": false,
    "deletable": true,
    "editable": true
   },
   "outputs": [
    {
     "name": "stdout",
     "output_type": "stream",
     "text": [
      "DM Max: 976.592750697\n"
     ]
    }
   ],
   "source": [
    "chanBW = 56. / nChan # ALFABURST single-channel bandwidth in MHz\n",
    "print 'DM Max:', dmStep(tRes / 1e3, 1513.-chanBW, 1513.)"
   ]
  },
  {
   "cell_type": "markdown",
   "metadata": {
    "deletable": true,
    "editable": true
   },
   "source": [
    "A high DM before this extreme case occurs. We can consider the intermediate cases where only a portion of the band is in a single time sample."
   ]
  },
  {
   "cell_type": "code",
   "execution_count": 15,
   "metadata": {
    "collapsed": false,
    "deletable": true,
    "editable": true
   },
   "outputs": [
    {
     "name": "stdout",
     "output_type": "stream",
     "text": [
      "DM Max (1/64 Band): 121.981433915\n",
      "DM Max (1/32 Band): 60.9377780092\n",
      "DM Max (1/16 Band): 30.4159653997\n",
      "DM Max (1/8 Band): 15.1550898439\n",
      "DM Max (1/4 Band): 7.52471381391\n"
     ]
    }
   ],
   "source": [
    "bw = 56. / 64. # 1/64 ALFABURST bandwidth\n",
    "print 'DM Max (1/64 Band):', dmStep(tRes / 1e3, 1513.-bw, 1513.)\n",
    "\n",
    "bw = 56. / 32. # 1/32 ALFABURST bandwidth\n",
    "print 'DM Max (1/32 Band):', dmStep(tRes / 1e3, 1513.-bw, 1513.)\n",
    "\n",
    "bw = 56. / 16. # 1/16 ALFABURST bandwidth\n",
    "print 'DM Max (1/16 Band):', dmStep(tRes / 1e3, 1513.-bw, 1513.)\n",
    "\n",
    "bw = 56. / 8. # 1/8 ALFABURST bandwidth\n",
    "print 'DM Max (1/8 Band):', dmStep(tRes / 1e3, 1513.-bw, 1513.)\n",
    "\n",
    "bw = 56. / 4. # 1/4 ALFABURST bandwidth\n",
    "print 'DM Max (1/4 Band):', dmStep(tRes / 1e3, 1513.-bw, 1513.)"
   ]
  },
  {
   "cell_type": "markdown",
   "metadata": {
    "deletable": true,
    "editable": true
   },
   "source": [
    "Given the integrated flux and DM of an FRB, assuming the width of the pulse is on the order or smaller than that of the time sample resolution we can compute the integrated flux for a single time sample. Note, if the pulse width is significantly wider than the time sample resolution, the flux per time sample will decrease, allowing for wider pulses to pass the RFI clipper given a fixed integrated flux."
   ]
  },
  {
   "cell_type": "code",
   "execution_count": 16,
   "metadata": {
    "collapsed": false,
    "deletable": true,
    "editable": true
   },
   "outputs": [
    {
     "name": "stdout",
     "output_type": "stream",
     "text": [
      "Observing at 1513 MHz with 512 channels (109 kHz) an FRB with DM=250 will cover at most 0.427125 MHz (4 channels) per time sample (256 us) \n",
      "This will result in 0.007812 of the total flux (4.000000 Jy), or 31.250000 mJy per time sample\n"
     ]
    }
   ],
   "source": [
    "# Test case for a bright, low DM FRB\n",
    "sPeak = 4. # Jy\n",
    "dm = 250.\n",
    "\n",
    "def maxPartialBWofFRB(deltat, dm, fStop):\n",
    "    \"\"\"returns the maximum bandwidth a portion of a broadband FRB pulse that is contained ina  single time sample\n",
    "    based on the maximum observing frequency, time resolution, and DM of a pulse.\n",
    "    \n",
    "    deltat: ms\n",
    "    dm\n",
    "    fStop: MHz\"\"\"\n",
    "    fStart = ((deltat / (4.15 * (10.**6) * dm)) + fStop**(-2.))**(-0.5)\n",
    "    return fStop - fStart\n",
    "\n",
    "maxFreq = 1513. # MHz\n",
    "chanBW = 56. * 1e3 / nChan\n",
    "maxBW = maxPartialBWofFRB(tRes / 1e3, dm, maxFreq)\n",
    "maxBWchans = int(1. + nChan * maxBW / 56.) # number of channels\n",
    "\n",
    "print 'Observing at %.0f MHz with %i channels (%.0f kHz) an FRB with DM=%.0f will cover at most %f MHz (%i channels) per time sample (%.0f us) '%(maxFreq, nChan, chanBW, dm, maxBW, maxBWchans, tRes) \n",
    "\n",
    "print 'This will result in %f of the total flux (%f Jy), or %f mJy per time sample'%(maxBWchans/float(nChan), sPeak, 1e3*sPeak*(maxBWchans/float(nChan)))"
   ]
  },
  {
   "cell_type": "markdown",
   "metadata": {
    "deletable": true,
    "editable": true
   },
   "source": [
    "Based on this test FRB and the RFI clipper threshold then we do not expect very brigth, low DM (for FRBs) pulses to be clipped by the RFI spectrum clipper. Only if the FRB is extremely bright, and all or most of the channels are clipped by the channel clipper would we expect to clip out and FRB. The brightest FRB detected is FRB150807 at 128 Jy."
   ]
  },
  {
   "cell_type": "code",
   "execution_count": 17,
   "metadata": {
    "collapsed": false
   },
   "outputs": [
    {
     "name": "stdout",
     "output_type": "stream",
     "text": [
      "Observing at 1513 MHz with 512 channels (109 kHz) an FRB with DM=250 will cover at most 0.427125 MHz (4 channels) per time sample (256 us) \n",
      "This will result in 0.007812 of the total flux (128.000000 Jy), or 1000.000000 mJy per time sample\n"
     ]
    }
   ],
   "source": [
    "# Test case for a bright, low DM FRB\n",
    "sPeak = 128. # Jy\n",
    "dm = 250.\n",
    "\n",
    "def maxPartialBWofFRB(deltat, dm, fStop):\n",
    "    \"\"\"returns the maximum bandwidth a portion of a broadband FRB pulse that is contained ina  single time sample\n",
    "    based on the maximum observing frequency, time resolution, and DM of a pulse.\n",
    "    \n",
    "    deltat: ms\n",
    "    dm\n",
    "    fStop: MHz\"\"\"\n",
    "    fStart = ((deltat / (4.15 * (10.**6) * dm)) + fStop**(-2.))**(-0.5)\n",
    "    return fStop - fStart\n",
    "\n",
    "maxFreq = 1513. # MHz\n",
    "chanBW = 56. * 1e3 / nChan\n",
    "maxBW = maxPartialBWofFRB(tRes / 1e3, dm, maxFreq)\n",
    "maxBWchans = int(1. + nChan * maxBW / 56.) # number of channels\n",
    "\n",
    "print 'Observing at %.0f MHz with %i channels (%.0f kHz) an FRB with DM=%.0f will cover at most %f MHz (%i channels) per time sample (%.0f us) '%(maxFreq, nChan, chanBW, dm, maxBW, maxBWchans, tRes) \n",
    "\n",
    "print 'This will result in %f of the total flux (%f Jy), or %f mJy per time sample'%(maxBWchans/float(nChan), sPeak, 1e3*sPeak*(maxBWchans/float(nChan)))"
   ]
  },
  {
   "cell_type": "markdown",
   "metadata": {},
   "source": [
    "1 Jy per integrated time sample is above the spectrum clipping threshold of 6 * 150 mJy. FRBs with a pulse width of 256 us or smaller, which exceed ~100 Jy at the low end of the FRB DM range will be clipped be the spectrum thresholding in the RFI clipper. The per channel threshold is sufficiently high that no component of even the brightest detected FRBs would be clipped."
   ]
  }
 ],
 "metadata": {
  "kernelspec": {
   "display_name": "Python 2",
   "language": "python",
   "name": "python2"
  },
  "language_info": {
   "codemirror_mode": {
    "name": "ipython",
    "version": 2
   },
   "file_extension": ".py",
   "mimetype": "text/x-python",
   "name": "python",
   "nbconvert_exporter": "python",
   "pygments_lexer": "ipython2",
   "version": "2.7.12"
  }
 },
 "nbformat": 4,
 "nbformat_minor": 2
}
